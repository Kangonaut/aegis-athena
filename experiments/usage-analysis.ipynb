{
 "cells": [
  {
   "cell_type": "code",
   "outputs": [],
   "source": [
    "import os\n",
    "\n",
    "from usage.mongodb.usage_store import MongoDBUsageStore\n",
    "from utils import environment_utils\n",
    "\n",
    "environment_utils.load_env()"
   ],
   "metadata": {
    "collapsed": false,
    "ExecuteTime": {
     "end_time": "2024-03-01T13:06:03.953882Z",
     "start_time": "2024-03-01T13:06:03.949301Z"
    }
   },
   "id": "8b1c373bc31c3c87",
   "execution_count": 6
  },
  {
   "cell_type": "code",
   "execution_count": 7,
   "id": "initial_id",
   "metadata": {
    "collapsed": true,
    "ExecuteTime": {
     "end_time": "2024-03-01T13:06:03.962661Z",
     "start_time": "2024-03-01T13:06:03.955373Z"
    }
   },
   "outputs": [],
   "source": [
    "from usage.openai.observer import OpenAIUsageObserver\n",
    "from usage.usage_store.simple import SimpleUsageStore\n",
    "\n",
    "# store = SimpleUsageStore()\n",
    "store = MongoDBUsageStore.from_host_and_port(\n",
    "    host=os.getenv(\"MONGODB_HOST\"),\n",
    "    port=int(os.getenv(\"MONGODB_PORT\")),\n",
    ")\n",
    "observer = OpenAIUsageObserver(store)"
   ]
  },
  {
   "cell_type": "code",
   "outputs": [
    {
     "name": "stdout",
     "output_type": "stream",
     "text": [
      "Not much, just here to help you with anything you need. How can I assist you today?\n"
     ]
    }
   ],
   "source": [
    "from llama_index.llms.openai import OpenAI\n",
    "\n",
    "llm = OpenAI(model=\"gpt-3.5-turbo\")\n",
    "response = llm.complete(\"What's up?\")\n",
    "\n",
    "print(response)"
   ],
   "metadata": {
    "collapsed": false,
    "ExecuteTime": {
     "end_time": "2024-03-01T13:06:07.338716Z",
     "start_time": "2024-03-01T13:06:03.965100Z"
    }
   },
   "id": "ded87ef750972d14",
   "execution_count": 8
  },
  {
   "cell_type": "code",
   "outputs": [
    {
     "data": {
      "text/plain": "{'openai-gpt-3.5-turbo-0125', 'openai-gpt-4-0125-preview'}"
     },
     "execution_count": 9,
     "metadata": {},
     "output_type": "execute_result"
    }
   ],
   "source": [
    "store.models"
   ],
   "metadata": {
    "collapsed": false,
    "ExecuteTime": {
     "end_time": "2024-03-01T13:06:07.417751Z",
     "start_time": "2024-03-01T13:06:07.340954Z"
    }
   },
   "id": "6bc8aa138aae23bc",
   "execution_count": 9
  },
  {
   "cell_type": "code",
   "outputs": [
    {
     "name": "stdout",
     "output_type": "stream",
     "text": [
      "entry: model='gpt-4-0125-preview' num_input_tokens=827 num_output_tokens=25 service='openai' timestamp=datetime.datetime(2024, 3, 1, 13, 6, 7, 540225)\n",
      "entry: model='gpt-3.5-turbo-0125' num_input_tokens=11 num_output_tokens=20 service='openai' timestamp=datetime.datetime(2024, 3, 1, 13, 6, 7, 596138)\n",
      "entry: model='gpt-3.5-turbo-0125' num_input_tokens=11 num_output_tokens=20 service='openai' timestamp=datetime.datetime(2024, 3, 1, 13, 6, 7, 596273)\n",
      "entry: model='gpt-3.5-turbo-0125' num_input_tokens=11 num_output_tokens=20 service='openai' timestamp=datetime.datetime(2024, 3, 1, 13, 6, 7, 596308)\n",
      "entry: model='gpt-3.5-turbo-0125' num_input_tokens=11 num_output_tokens=20 service='openai' timestamp=datetime.datetime(2024, 3, 1, 13, 6, 7, 596336)\n",
      "entry: model='gpt-3.5-turbo-0125' num_input_tokens=11 num_output_tokens=23 service='openai' timestamp=datetime.datetime(2024, 3, 1, 13, 6, 3, 26000)\n",
      "entry: model='gpt-3.5-turbo-0125' num_input_tokens=11 num_output_tokens=23 service='openai' timestamp=datetime.datetime(2024, 3, 1, 13, 6, 3, 197000)\n",
      "entry: model='gpt-3.5-turbo-0125' num_input_tokens=11 num_output_tokens=20 service='openai' timestamp=datetime.datetime(2024, 3, 1, 13, 6, 6, 448000)\n",
      "entry: model='gpt-3.5-turbo-0125' num_input_tokens=11 num_output_tokens=20 service='openai' timestamp=datetime.datetime(2024, 3, 1, 13, 6, 6, 495000)\n",
      "entry: model='gpt-3.5-turbo-0125' num_input_tokens=11 num_output_tokens=20 service='openai' timestamp=datetime.datetime(2024, 3, 1, 13, 6, 6, 639000)\n"
     ]
    },
    {
     "data": {
      "text/plain": "{'openai-gpt-4-0125-preview': UsageAggregation(model='gpt-4-0125-preview', num_input_tokens=827, num_output_tokens=25, service='openai'),\n 'openai-gpt-3.5-turbo-0125': UsageAggregation(model='gpt-3.5-turbo-0125', num_input_tokens=99, num_output_tokens=186, service='openai')}"
     },
     "execution_count": 10,
     "metadata": {},
     "output_type": "execute_result"
    }
   ],
   "source": [
    "store.aggregate_usage()"
   ],
   "metadata": {
    "collapsed": false,
    "ExecuteTime": {
     "end_time": "2024-03-01T13:06:07.600246Z",
     "start_time": "2024-03-01T13:06:07.419638Z"
    }
   },
   "id": "53974ce5dc51c210",
   "execution_count": 10
  }
 ],
 "metadata": {
  "kernelspec": {
   "display_name": "Python 3",
   "language": "python",
   "name": "python3"
  },
  "language_info": {
   "codemirror_mode": {
    "name": "ipython",
    "version": 2
   },
   "file_extension": ".py",
   "mimetype": "text/x-python",
   "name": "python",
   "nbconvert_exporter": "python",
   "pygments_lexer": "ipython2",
   "version": "2.7.6"
  }
 },
 "nbformat": 4,
 "nbformat_minor": 5
}
