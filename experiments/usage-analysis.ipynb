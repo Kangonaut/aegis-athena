{
 "cells": [
  {
   "cell_type": "code",
   "outputs": [],
   "source": [
    "from utils import environment_utils\n",
    "\n",
    "environment_utils.load_env()"
   ],
   "metadata": {
    "collapsed": false,
    "ExecuteTime": {
     "end_time": "2024-02-28T17:56:54.105655723Z",
     "start_time": "2024-02-28T17:56:52.139032203Z"
    }
   },
   "id": "8b1c373bc31c3c87",
   "execution_count": 1
  },
  {
   "cell_type": "code",
   "execution_count": 2,
   "id": "initial_id",
   "metadata": {
    "collapsed": true,
    "ExecuteTime": {
     "end_time": "2024-02-28T17:56:54.111865787Z",
     "start_time": "2024-02-28T17:56:54.107047555Z"
    }
   },
   "outputs": [],
   "source": [
    "from usage.openai.observer import OpenAIUsageObserver\n",
    "from usage.usage_store.simple import SimpleUsageStore\n",
    "\n",
    "store = SimpleUsageStore()\n",
    "observer = OpenAIUsageObserver(store)"
   ]
  },
  {
   "cell_type": "code",
   "outputs": [
    {
     "name": "stdout",
     "output_type": "stream",
     "text": [
      "Not much, just here to help you with anything you need. How can I assist you today?\n"
     ]
    }
   ],
   "source": [
    "from llama_index.llms.openai import OpenAI\n",
    "\n",
    "llm = OpenAI(model=\"gpt-3.5-turbo\")\n",
    "response = llm.complete(\"What's up?\")\n",
    "\n",
    "print(response)"
   ],
   "metadata": {
    "collapsed": false,
    "ExecuteTime": {
     "end_time": "2024-02-28T17:56:55.154840773Z",
     "start_time": "2024-02-28T17:56:54.112405889Z"
    }
   },
   "id": "ded87ef750972d14",
   "execution_count": 3
  },
  {
   "cell_type": "code",
   "outputs": [
    {
     "data": {
      "text/plain": "{'openai-gpt-3.5-turbo-0125'}"
     },
     "execution_count": 4,
     "metadata": {},
     "output_type": "execute_result"
    }
   ],
   "source": [
    "store.models"
   ],
   "metadata": {
    "collapsed": false,
    "ExecuteTime": {
     "end_time": "2024-02-28T17:56:55.165485014Z",
     "start_time": "2024-02-28T17:56:55.159838497Z"
    }
   },
   "id": "6bc8aa138aae23bc",
   "execution_count": 4
  },
  {
   "cell_type": "code",
   "outputs": [
    {
     "data": {
      "text/plain": "{'openai-gpt-3.5-turbo-0125': UsageAggregation(model='gpt-3.5-turbo-0125', total_num_tokens=31, service_id='openai')}"
     },
     "execution_count": 5,
     "metadata": {},
     "output_type": "execute_result"
    }
   ],
   "source": [
    "store.aggregate_usage()"
   ],
   "metadata": {
    "collapsed": false,
    "ExecuteTime": {
     "end_time": "2024-02-28T17:56:55.180961054Z",
     "start_time": "2024-02-28T17:56:55.168606462Z"
    }
   },
   "id": "53974ce5dc51c210",
   "execution_count": 5
  }
 ],
 "metadata": {
  "kernelspec": {
   "display_name": "Python 3",
   "language": "python",
   "name": "python3"
  },
  "language_info": {
   "codemirror_mode": {
    "name": "ipython",
    "version": 2
   },
   "file_extension": ".py",
   "mimetype": "text/x-python",
   "name": "python",
   "nbconvert_exporter": "python",
   "pygments_lexer": "ipython2",
   "version": "2.7.6"
  }
 },
 "nbformat": 4,
 "nbformat_minor": 5
}
