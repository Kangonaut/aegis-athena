{
 "cells": [
  {
   "cell_type": "code",
   "outputs": [],
   "source": [
    "import os\n",
    "\n",
    "from usage.mongodb.usage_store import MongoDBUsageStore\n",
    "from utils import environment_utils\n",
    "\n",
    "environment_utils.load_env()"
   ],
   "metadata": {
    "collapsed": false,
    "ExecuteTime": {
     "end_time": "2024-02-29T13:27:32.543798Z",
     "start_time": "2024-02-29T13:27:30.501935Z"
    }
   },
   "id": "8b1c373bc31c3c87",
   "execution_count": 1
  },
  {
   "cell_type": "code",
   "execution_count": 2,
   "id": "initial_id",
   "metadata": {
    "collapsed": true,
    "ExecuteTime": {
     "end_time": "2024-02-29T13:27:32.553055Z",
     "start_time": "2024-02-29T13:27:32.545246Z"
    }
   },
   "outputs": [],
   "source": [
    "from usage.openai.observer import OpenAIUsageObserver\n",
    "from usage.usage_store.simple import SimpleUsageStore\n",
    "\n",
    "# store = SimpleUsageStore()\n",
    "store = MongoDBUsageStore.from_host_and_port(\n",
    "    host=os.getenv(\"MONGODB_HOST\"),\n",
    "    port=int(os.getenv(\"MONGODB_PORT\")),\n",
    ")\n",
    "observer = OpenAIUsageObserver(store)"
   ]
  },
  {
   "cell_type": "code",
   "outputs": [
    {
     "name": "stdout",
     "output_type": "stream",
     "text": [
      "Not much, just here to help with any questions or tasks you have. How can I assist you today?\n"
     ]
    }
   ],
   "source": [
    "from llama_index.llms.openai import OpenAI\n",
    "\n",
    "llm = OpenAI(model=\"gpt-3.5-turbo\")\n",
    "response = llm.complete(\"What's up?\")\n",
    "\n",
    "print(response)"
   ],
   "metadata": {
    "collapsed": false,
    "ExecuteTime": {
     "end_time": "2024-02-29T13:27:39.267016Z",
     "start_time": "2024-02-29T13:27:32.553849Z"
    }
   },
   "id": "ded87ef750972d14",
   "execution_count": 3
  },
  {
   "cell_type": "code",
   "outputs": [
    {
     "data": {
      "text/plain": "{'openai-gpt-3.5-turbo-0125'}"
     },
     "execution_count": 4,
     "metadata": {},
     "output_type": "execute_result"
    }
   ],
   "source": [
    "store.models"
   ],
   "metadata": {
    "collapsed": false,
    "ExecuteTime": {
     "end_time": "2024-02-29T13:27:39.357341Z",
     "start_time": "2024-02-29T13:27:39.270473Z"
    }
   },
   "id": "6bc8aa138aae23bc",
   "execution_count": 4
  },
  {
   "cell_type": "code",
   "outputs": [
    {
     "name": "stdout",
     "output_type": "stream",
     "text": [
      "entry: model='gpt-3.5-turbo-0125' num_tokens=31 service='openai'\n",
      "entry: model='gpt-3.5-turbo-0125' num_tokens=34 service='openai'\n",
      "entry: model='gpt-3.5-turbo-0125' num_tokens=31 service='openai'\n",
      "entry: model='gpt-3.5-turbo-0125' num_tokens=31 service='openai'\n",
      "entry: model='gpt-3.5-turbo-0125' num_tokens=33 service='openai'\n"
     ]
    },
    {
     "data": {
      "text/plain": "{'openai-gpt-3.5-turbo-0125': UsageAggregation(model='gpt-3.5-turbo-0125', total_num_tokens=160, service='openai')}"
     },
     "execution_count": 5,
     "metadata": {},
     "output_type": "execute_result"
    }
   ],
   "source": [
    "store.aggregate_usage()"
   ],
   "metadata": {
    "collapsed": false,
    "ExecuteTime": {
     "end_time": "2024-02-29T13:27:39.480440Z",
     "start_time": "2024-02-29T13:27:39.358374Z"
    }
   },
   "id": "53974ce5dc51c210",
   "execution_count": 5
  }
 ],
 "metadata": {
  "kernelspec": {
   "display_name": "Python 3",
   "language": "python",
   "name": "python3"
  },
  "language_info": {
   "codemirror_mode": {
    "name": "ipython",
    "version": 2
   },
   "file_extension": ".py",
   "mimetype": "text/x-python",
   "name": "python",
   "nbconvert_exporter": "python",
   "pygments_lexer": "ipython2",
   "version": "2.7.6"
  }
 },
 "nbformat": 4,
 "nbformat_minor": 5
}
