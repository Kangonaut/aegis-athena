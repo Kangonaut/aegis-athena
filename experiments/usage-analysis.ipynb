{
 "cells": [
  {
   "cell_type": "code",
   "outputs": [
    {
     "name": "stderr",
     "output_type": "stream",
     "text": [
      "2024-02-29 15:02:58.164 \n",
      "  \u001B[33m\u001B[1mWarning:\u001B[0m to view this Streamlit app on a browser, run it with the following\n",
      "  command:\n",
      "\n",
      "    streamlit run /home/kangonaut/data/aegis-athena/venv/lib/python3.11/site-packages/ipykernel_launcher.py [ARGUMENTS]\n"
     ]
    }
   ],
   "source": [
    "import os\n",
    "\n",
    "from usage.mongodb.usage_store import MongoDBUsageStore\n",
    "from utils import environment_utils\n",
    "\n",
    "environment_utils.load_env()"
   ],
   "metadata": {
    "collapsed": false,
    "ExecuteTime": {
     "end_time": "2024-02-29T14:02:58.169866Z",
     "start_time": "2024-02-29T14:02:55.206764Z"
    }
   },
   "id": "8b1c373bc31c3c87",
   "execution_count": 1
  },
  {
   "cell_type": "code",
   "execution_count": 2,
   "id": "initial_id",
   "metadata": {
    "collapsed": true,
    "ExecuteTime": {
     "end_time": "2024-02-29T14:02:58.176176Z",
     "start_time": "2024-02-29T14:02:58.171110Z"
    }
   },
   "outputs": [],
   "source": [
    "from usage.openai.observer import OpenAIUsageObserver\n",
    "from usage.usage_store.simple import SimpleUsageStore\n",
    "\n",
    "# store = SimpleUsageStore()\n",
    "store = MongoDBUsageStore.from_host_and_port(\n",
    "    host=os.getenv(\"MONGODB_HOST\"),\n",
    "    port=int(os.getenv(\"MONGODB_PORT\")),\n",
    ")\n",
    "observer = OpenAIUsageObserver(store)"
   ]
  },
  {
   "cell_type": "code",
   "outputs": [
    {
     "name": "stdout",
     "output_type": "stream",
     "text": [
      "Not much, just here to help you with anything you need. How can I assist you today?\n"
     ]
    }
   ],
   "source": [
    "from llama_index.llms.openai import OpenAI\n",
    "\n",
    "llm = OpenAI(model=\"gpt-3.5-turbo\")\n",
    "response = llm.complete(\"What's up?\")\n",
    "\n",
    "print(response)"
   ],
   "metadata": {
    "collapsed": false,
    "ExecuteTime": {
     "end_time": "2024-02-29T14:03:05.067545Z",
     "start_time": "2024-02-29T14:02:58.176900Z"
    }
   },
   "id": "ded87ef750972d14",
   "execution_count": 3
  },
  {
   "cell_type": "code",
   "outputs": [
    {
     "data": {
      "text/plain": "{'openai-gpt-3.5-turbo-0125'}"
     },
     "execution_count": 4,
     "metadata": {},
     "output_type": "execute_result"
    }
   ],
   "source": [
    "store.models"
   ],
   "metadata": {
    "collapsed": false,
    "ExecuteTime": {
     "end_time": "2024-02-29T14:03:05.134986Z",
     "start_time": "2024-02-29T14:03:05.071098Z"
    }
   },
   "id": "6bc8aa138aae23bc",
   "execution_count": 4
  },
  {
   "cell_type": "code",
   "outputs": [
    {
     "name": "stdout",
     "output_type": "stream",
     "text": [
      "entry: model='gpt-3.5-turbo-0125' num_input_tokens=11 num_output_tokens=20 service='openai'\n",
      "entry: model='gpt-3.5-turbo-0125' num_input_tokens=11 num_output_tokens=20 service='openai'\n",
      "entry: model='gpt-3.5-turbo-0125' num_input_tokens=11 num_output_tokens=20 service='openai'\n",
      "entry: model='gpt-3.5-turbo-0125' num_input_tokens=11 num_output_tokens=20 service='openai'\n",
      "entry: model='gpt-4-0125-preview' num_input_tokens=827 num_output_tokens=25 service='openai'\n"
     ]
    },
    {
     "data": {
      "text/plain": "{'openai-gpt-3.5-turbo-0125': UsageAggregation(model='gpt-3.5-turbo-0125', num_input_tokens=44, num_output_tokens=80, service='openai'),\n 'openai-gpt-4-0125-preview': UsageAggregation(model='gpt-4-0125-preview', num_input_tokens=827, num_output_tokens=25, service='openai')}"
     },
     "execution_count": 6,
     "metadata": {},
     "output_type": "execute_result"
    }
   ],
   "source": [
    "store.aggregate_usage()"
   ],
   "metadata": {
    "collapsed": false,
    "ExecuteTime": {
     "end_time": "2024-02-29T14:04:13.323609Z",
     "start_time": "2024-02-29T14:04:13.130872Z"
    }
   },
   "id": "53974ce5dc51c210",
   "execution_count": 6
  }
 ],
 "metadata": {
  "kernelspec": {
   "display_name": "Python 3",
   "language": "python",
   "name": "python3"
  },
  "language_info": {
   "codemirror_mode": {
    "name": "ipython",
    "version": 2
   },
   "file_extension": ".py",
   "mimetype": "text/x-python",
   "name": "python",
   "nbconvert_exporter": "python",
   "pygments_lexer": "ipython2",
   "version": "2.7.6"
  }
 },
 "nbformat": 4,
 "nbformat_minor": 5
}
