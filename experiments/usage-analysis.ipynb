{
 "cells": [
  {
   "cell_type": "code",
   "outputs": [
    {
     "name": "stderr",
     "output_type": "stream",
     "text": [
      "2024-03-02 13:34:44.889 \n",
      "  \u001B[33m\u001B[1mWarning:\u001B[0m to view this Streamlit app on a browser, run it with the following\n",
      "  command:\n",
      "\n",
      "    streamlit run /home/kangonaut/data/aegis-athena/venv/lib/python3.11/site-packages/ipykernel_launcher.py [ARGUMENTS]\n"
     ]
    }
   ],
   "source": [
    "import os\n",
    "\n",
    "from usage.mongodb.usage_store import MongoDBUsageStore\n",
    "from utils import environment_utils\n",
    "\n",
    "environment_utils.load_env()"
   ],
   "metadata": {
    "collapsed": false,
    "ExecuteTime": {
     "end_time": "2024-03-02T12:34:44.893338Z",
     "start_time": "2024-03-02T12:34:41.968714Z"
    }
   },
   "id": "8b1c373bc31c3c87",
   "execution_count": 1
  },
  {
   "cell_type": "code",
   "execution_count": 2,
   "id": "initial_id",
   "metadata": {
    "collapsed": true,
    "ExecuteTime": {
     "end_time": "2024-03-02T12:34:44.898825Z",
     "start_time": "2024-03-02T12:34:44.894247Z"
    }
   },
   "outputs": [],
   "source": [
    "from usage.openai.observer import OpenAIUsageObserver\n",
    "from usage.usage_store.simple import SimpleUsageStore\n",
    "\n",
    "# store = SimpleUsageStore()\n",
    "store = MongoDBUsageStore.from_host_and_port(\n",
    "    host=os.getenv(\"MONGODB_HOST\"),\n",
    "    port=int(os.getenv(\"MONGODB_PORT\")),\n",
    ")\n",
    "observer = OpenAIUsageObserver(store)"
   ]
  },
  {
   "cell_type": "code",
   "outputs": [
    {
     "name": "stdout",
     "output_type": "stream",
     "text": [
      "Not much, just here to help with any questions or tasks you may have. How can I assist you today?\n"
     ]
    }
   ],
   "source": [
    "from llama_index.llms.openai import OpenAI\n",
    "\n",
    "llm = OpenAI(model=\"gpt-3.5-turbo\")\n",
    "response = llm.complete(\"What's up?\")\n",
    "\n",
    "print(response)"
   ],
   "metadata": {
    "collapsed": false,
    "ExecuteTime": {
     "end_time": "2024-03-02T12:34:47.605993Z",
     "start_time": "2024-03-02T12:34:44.899474Z"
    }
   },
   "id": "ded87ef750972d14",
   "execution_count": 3
  },
  {
   "cell_type": "code",
   "outputs": [
    {
     "data": {
      "text/plain": "{'openai-gpt-3.5-turbo-0125'}"
     },
     "execution_count": 4,
     "metadata": {},
     "output_type": "execute_result"
    }
   ],
   "source": [
    "store.models"
   ],
   "metadata": {
    "collapsed": false,
    "ExecuteTime": {
     "end_time": "2024-03-02T12:34:48.217272Z",
     "start_time": "2024-03-02T12:34:47.606954Z"
    }
   },
   "id": "6bc8aa138aae23bc",
   "execution_count": 4
  },
  {
   "cell_type": "code",
   "outputs": [
    {
     "name": "stdout",
     "output_type": "stream",
     "text": [
      "entry: model='gpt-3.5-turbo-0125' num_input_tokens=11 num_output_tokens=20 service='openai' timestamp=datetime.datetime(2024, 3, 2, 12, 6, 44, 350000)\n",
      "entry: model='gpt-3.5-turbo-0125' num_input_tokens=11 num_output_tokens=20 service='openai' timestamp=datetime.datetime(2024, 3, 2, 12, 6, 44, 369000)\n",
      "entry: model='gpt-3.5-turbo-0125' num_input_tokens=11 num_output_tokens=23 service='openai' timestamp=datetime.datetime(2024, 3, 2, 12, 34, 46, 230000)\n",
      "entry: model='gpt-3.5-turbo-0125' num_input_tokens=11 num_output_tokens=23 service='openai' timestamp=datetime.datetime(2024, 3, 2, 12, 34, 47, 102000)\n"
     ]
    },
    {
     "data": {
      "text/plain": "{'openai-gpt-3.5-turbo-0125': UsageAggregation(model='gpt-3.5-turbo-0125', num_input_tokens=44, num_output_tokens=86, service='openai')}"
     },
     "execution_count": 5,
     "metadata": {},
     "output_type": "execute_result"
    }
   ],
   "source": [
    "store.aggregate_usage()"
   ],
   "metadata": {
    "collapsed": false,
    "ExecuteTime": {
     "end_time": "2024-03-02T12:34:48.544481Z",
     "start_time": "2024-03-02T12:34:48.218715Z"
    }
   },
   "id": "53974ce5dc51c210",
   "execution_count": 5
  },
  {
   "cell_type": "code",
   "outputs": [
    {
     "data": {
      "text/plain": "{'openai-gpt-4-0125-preview': PriceListing(input_token_price=0.0001, output_token_price=0.0003),\n 'openai-gpt-4-1106-preview': PriceListing(input_token_price=0.0001, output_token_price=0.0003),\n 'openai-gpt-3.5-turbo-0125': PriceListing(input_token_price=5e-07, output_token_price=1.5e-06)}"
     },
     "execution_count": 6,
     "metadata": {},
     "output_type": "execute_result"
    }
   ],
   "source": [
    "from usage.base.price_listing import PRICE_LISTINGS\n",
    "\n",
    "PRICE_LISTINGS"
   ],
   "metadata": {
    "collapsed": false,
    "ExecuteTime": {
     "end_time": "2024-03-02T12:35:02.548855Z",
     "start_time": "2024-03-02T12:35:02.543302Z"
    }
   },
   "id": "34d8e4c331b84a12",
   "execution_count": 6
  }
 ],
 "metadata": {
  "kernelspec": {
   "display_name": "Python 3",
   "language": "python",
   "name": "python3"
  },
  "language_info": {
   "codemirror_mode": {
    "name": "ipython",
    "version": 2
   },
   "file_extension": ".py",
   "mimetype": "text/x-python",
   "name": "python",
   "nbconvert_exporter": "python",
   "pygments_lexer": "ipython2",
   "version": "2.7.6"
  }
 },
 "nbformat": 4,
 "nbformat_minor": 5
}
