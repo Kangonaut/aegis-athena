{
 "cells": [
  {
   "cell_type": "markdown",
   "source": [
    "## Enable Tracing"
   ],
   "metadata": {
    "collapsed": false
   },
   "id": "a4f2ace765a4efcf"
  },
  {
   "cell_type": "code",
   "outputs": [
    {
     "name": "stderr",
     "output_type": "stream",
     "text": [
      "2024-03-08 20:34:11.038 \n",
      "  \u001B[33m\u001B[1mWarning:\u001B[0m to view this Streamlit app on a browser, run it with the following\n",
      "  command:\n",
      "\n",
      "    streamlit run /home/kangonaut/data/aegis-athena/venv/lib/python3.11/site-packages/ipykernel_launcher.py [ARGUMENTS]\n"
     ]
    }
   ],
   "source": [
    "from utils import environment_utils\n",
    "environment_utils.load_env()"
   ],
   "metadata": {
    "collapsed": false,
    "ExecuteTime": {
     "end_time": "2024-03-08T19:34:11.043805Z",
     "start_time": "2024-03-08T19:34:08.731834Z"
    }
   },
   "id": "3e16d58fe03359c6",
   "execution_count": 1
  },
  {
   "cell_type": "code",
   "outputs": [
    {
     "name": "stderr",
     "output_type": "stream",
     "text": [
      "/home/kangonaut/data/aegis-athena/venv/lib/python3.11/site-packages/umap/__init__.py:9: ImportWarning: Tensorflow not installed; ParametricUMAP will be unavailable\n",
      "  warn(\n"
     ]
    }
   ],
   "source": [
    "import llama_index.core\n",
    "\n",
    "llama_index.core.set_global_handler(\"arize_phoenix\")"
   ],
   "metadata": {
    "collapsed": false,
    "ExecuteTime": {
     "end_time": "2024-03-08T19:34:13.934317Z",
     "start_time": "2024-03-08T19:34:11.044622Z"
    }
   },
   "id": "5ccbdfb9df14c9c5",
   "execution_count": 2
  },
  {
   "cell_type": "markdown",
   "source": [
    "## Load Agent"
   ],
   "metadata": {
    "collapsed": false
   },
   "id": "3da2ec08bcf642ef"
  },
  {
   "cell_type": "code",
   "outputs": [
    {
     "name": "stderr",
     "output_type": "stream",
     "text": [
      "/home/kangonaut/data/aegis-athena/venv/lib/python3.11/site-packages/weaviate/warnings.py:121: DeprecationWarning: Dep005: You are using weaviate-client version 3.26.2. The latest version is 4.5.1.\n",
      "            Please consider upgrading to the latest version. See https://weaviate.io/developers/weaviate/client-libraries/python for details.\n",
      "  warnings.warn(\n",
      "/home/kangonaut/data/aegis-athena/chat_engine/mars.py:81: DeprecationWarning: Call to deprecated class method from_defaults. (ServiceContext is deprecated, please use `llama_index.settings.Settings` instead.) -- Deprecated since version 0.10.0.\n",
      "  service_context = ServiceContext.from_defaults(\n"
     ]
    }
   ],
   "source": [
    "from chat_engine import mars\n",
    "chat_engine = mars.build_chat_engine()"
   ],
   "metadata": {
    "collapsed": false,
    "ExecuteTime": {
     "end_time": "2024-03-08T19:34:15.417243Z",
     "start_time": "2024-03-08T19:34:13.936001Z"
    }
   },
   "id": "805a9fbaeec68ec3",
   "execution_count": 3
  },
  {
   "cell_type": "markdown",
   "source": [
    "## Query"
   ],
   "metadata": {
    "collapsed": false
   },
   "id": "8331124be3215ee1"
  },
  {
   "cell_type": "code",
   "outputs": [],
   "source": [
    "chat_engine.reset()"
   ],
   "metadata": {
    "collapsed": false,
    "ExecuteTime": {
     "end_time": "2024-03-08T19:23:51.961265Z",
     "start_time": "2024-03-08T19:23:51.957424Z"
    }
   },
   "id": "cfcc0ae19ffd3078",
   "execution_count": 12
  },
  {
   "cell_type": "code",
   "outputs": [
    {
     "name": "stdout",
     "output_type": "stream",
     "text": [
      "> Merging 2 nodes into parent node.\n",
      "> Parent node id: e25b200b-64b8-46d6-a18b-551196996dcf.\n",
      "> Parent node text: 2.3.3.3 Atmosphere Revitalization System (ARS)\n",
      "\n",
      "Indispensable to the livability of the SPACECRAFT...\n",
      "\n",
      "> Merging 5 nodes into parent node.\n",
      "> Parent node id: c4192314-f057-4f51-bb8b-a21fcfd08228.\n",
      "> Parent node text: 2.3.3.3.7 ARS Controller\n",
      "\n",
      "Navigating the continuous operation of the intricate Atmosphere Revital...\n",
      "\n",
      "> Merging 2 nodes into parent node.\n",
      "> Parent node id: 2c6e4910-98fd-49cb-85c2-aeb23690f617.\n",
      "> Parent node text: 2.3.3.3.6 ARS Operation Cycle\n",
      "\n",
      "The ARS operation consists of a meticulously orchestrated series o...\n",
      "\n",
      "> Merging 3 nodes into parent node.\n",
      "> Parent node id: acd158a5-edad-4521-9ad2-84e2f0c141d6.\n",
      "> Parent node text: 3.7.4.4 ARS Controller\n",
      "\n",
      "The Atmosphere Revitalization System (ARS) Controller is a critical compo...\n",
      "\n",
      "> Merging 2 nodes into parent node.\n",
      "> Parent node id: 72316b49-9913-4cd8-ac08-19ea04df7d4c.\n",
      "> Parent node text: 3.7.4.1.3 ARS Controller Configuration\n",
      "\n",
      "The ARS is indispensable for maintaining a livable intern...\n",
      "response: The Atmosphere Revitalization System (ARS) is a crucial component of the spacecraft module that ensures the health and comfort of the crew by maintaining a regulated internal environment. The ARS primarily functions to remove carbon dioxide from the cabin air, cool and condition the air, control humidity levels, and eliminate odors. By performing these functions, the ARS helps create a comfortable and safe atmosphere inside the spacecraft for the crew during their mission.\n"
     ]
    }
   ],
   "source": [
    "response = chat_engine.chat(\n",
    "    message=\"what is the ARS system?\",\n",
    ")\n",
    "print(f\"response: {str(response)}\")\n",
    "# print(answer.message.content)"
   ],
   "metadata": {
    "collapsed": false,
    "ExecuteTime": {
     "end_time": "2024-03-08T19:34:31.575965Z",
     "start_time": "2024-03-08T19:34:25.010673Z"
    }
   },
   "id": "dd3ae7fb2716ea29",
   "execution_count": 4
  },
  {
   "cell_type": "code",
   "outputs": [
    {
     "name": "stdout",
     "output_type": "stream",
     "text": [
      "user: what is the ARS system?\n",
      "user: what is the ARS system?\n"
     ]
    }
   ],
   "source": [
    "for message in chat_engine._memory.chat_store.get_messages(\"chat_history\"):\n",
    "    print(message)"
   ],
   "metadata": {
    "collapsed": false,
    "ExecuteTime": {
     "end_time": "2024-03-08T19:30:53.242994Z",
     "start_time": "2024-03-08T19:30:53.239983Z"
    }
   },
   "id": "6b90f5208030780b",
   "execution_count": 7
  }
 ],
 "metadata": {
  "kernelspec": {
   "display_name": "Python 3",
   "language": "python",
   "name": "python3"
  },
  "language_info": {
   "codemirror_mode": {
    "name": "ipython",
    "version": 2
   },
   "file_extension": ".py",
   "mimetype": "text/x-python",
   "name": "python",
   "nbconvert_exporter": "python",
   "pygments_lexer": "ipython2",
   "version": "2.7.6"
  }
 },
 "nbformat": 4,
 "nbformat_minor": 5
}
