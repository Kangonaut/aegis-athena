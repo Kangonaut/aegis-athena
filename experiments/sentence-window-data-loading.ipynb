{
 "cells": [
  {
   "cell_type": "code",
   "outputs": [
    {
     "data": {
      "text/plain": "True"
     },
     "execution_count": 56,
     "metadata": {},
     "output_type": "execute_result"
    }
   ],
   "source": [
    "import dotenv\n",
    "\n",
    "dotenv.load_dotenv()"
   ],
   "metadata": {
    "collapsed": false,
    "ExecuteTime": {
     "end_time": "2024-02-17T19:36:26.611136806Z",
     "start_time": "2024-02-17T19:36:26.563008100Z"
    }
   },
   "id": "6f7a23b8c2e23909",
   "execution_count": 56
  },
  {
   "cell_type": "markdown",
   "source": [
    "## Init Client"
   ],
   "metadata": {
    "collapsed": false
   },
   "id": "6c49f9108066a66"
  },
  {
   "cell_type": "code",
   "execution_count": 57,
   "id": "initial_id",
   "metadata": {
    "collapsed": true,
    "ExecuteTime": {
     "end_time": "2024-02-17T19:36:28.278503071Z",
     "start_time": "2024-02-17T19:36:28.120531595Z"
    }
   },
   "outputs": [
    {
     "name": "stderr",
     "output_type": "stream",
     "text": [
      "/home/kangonaut/data/aegis-athena/venv/lib/python3.11/site-packages/weaviate/warnings.py:158: DeprecationWarning: Dep016: You are using the Weaviate v3 client, which is deprecated.\n",
      "            Consider upgrading to the new and improved v4 client instead!\n",
      "            See here for usage: https://weaviate.io/developers/weaviate/client-libraries/python\n",
      "            \n",
      "  warnings.warn(\n"
     ]
    }
   ],
   "source": [
    "from rag import weaviate_utils\n",
    "\n",
    "client = weaviate_utils.get_weaviate_client()"
   ]
  },
  {
   "cell_type": "markdown",
   "source": [
    "## Load Markdown"
   ],
   "metadata": {
    "collapsed": false
   },
   "id": "6bf85166ac09dbfe"
  },
  {
   "cell_type": "code",
   "outputs": [
    {
     "data": {
      "text/plain": "Document(id_='ff5a31a5-3424-44a8-867d-19beebd40054', embedding=None, metadata={'file_path': '../mission-docs/console.md', 'file_name': 'console.md', 'file_type': 'text/markdown', 'file_size': 41188, 'creation_date': '2024-02-10', 'last_modified_date': '2024-02-10', 'last_accessed_date': '2024-02-17'}, excluded_embed_metadata_keys=['file_name', 'file_type', 'file_size', 'creation_date', 'last_modified_date', 'last_accessed_date'], excluded_llm_metadata_keys=['file_name', 'file_type', 'file_size', 'creation_date', 'last_modified_date', 'last_accessed_date'], relationships={}, text='\\n\\n3 Console\\n\\n', start_char_idx=None, end_char_idx=None, text_template='{metadata_str}\\n\\n{content}', metadata_template='{key}: {value}', metadata_seperator='\\n')"
     },
     "execution_count": 58,
     "metadata": {},
     "output_type": "execute_result"
    }
   ],
   "source": [
    "from llama_index import Document\n",
    "\n",
    "from rag import load_utils\n",
    "\n",
    "documents: list[Document] = load_utils.load_data_dir(dir_path=\"../mission-docs\")\n",
    "\n",
    "documents[0]"
   ],
   "metadata": {
    "collapsed": false,
    "ExecuteTime": {
     "end_time": "2024-02-17T19:36:32.745749296Z",
     "start_time": "2024-02-17T19:36:32.727267565Z"
    }
   },
   "id": "f5240dc45662984c",
   "execution_count": 58
  },
  {
   "cell_type": "markdown",
   "source": [
    "## Group and Join File Documents"
   ],
   "metadata": {
    "collapsed": false
   },
   "id": "44d2d302b52f57eb"
  },
  {
   "cell_type": "code",
   "outputs": [
    {
     "data": {
      "text/plain": "Document(id_='47b12233-2ccc-4796-b22c-a8bab2848906', embedding=None, metadata={}, excluded_embed_metadata_keys=[], excluded_llm_metadata_keys=[], relationships={}, text='\\n\\n3 Console\\n\\n\\n\\n\\n\\n3.1 Introduction\\n\\nThe Aegis Athena space mission is an illustrious epitome of such a pursuit. Primarily destined to accomplish a monumental milestone of delivering the first human astronaut to the lunar surface, this visionary mission is governed by a sophisticated piece of technology known as the S.P.A.C.E.C.R.A.F.T. console.\\n\\nThis highly innovative system adopts a dual-purpose role, integrating the essential features of both a command model and a service module. This strategically harmonious blend of utilitarian efficiency and comforting resources paves the way for an environment conducive for the astronaut-trio executing this expedition, turning it into a virtual sanctuary amidst the vast cosmos. The S.P.A.C.E.C.R.A.F.T. console operates with a plethora of commands, designed to modify the inherent system configurations and retrieve state-of-the-art status information. Such telemetry data is indubitably critical in assessing the spacecraft\\'s performance and securing the triumphant fruition of the mission\\'s objectives.\\n\\n\\n\\n\\n\\n3.2 Command Overview\\n\\nEach command embedded in this system meticulously rides on the principles of intuitive design and effective execution, quintessential to ensure the seamless operation of any space mission. This sophisticated league of commands ensures a detailed real-time assessment of the mission parameters, thus contributing to the overall success of the mission.\\n\\n- `list`: This instruction serves as an easy access point to the complete collection of S.P.A.C.E.C.R.A.F.T. systems and their components. By invoking this command, the astronauts or mission control can quickly glance through the comprehensive list of operational systems present within the S.P.A.C.E.C.R.A.F.T. module.\\n\\n- `details`: The `details` command dives deeper into the nitty-gritty of individual components. On execution, this command supplies an exhaustive overview of a specific component\\'s current status, presenting data like operating condition, temperature, parameter-specific data, and more. The `details` command aids in comprehensive internal audits and system diagnostics.\\n\\n- `ask`: The `ask` command interfaces with the onboard AI assistant M.A.R.S., enabling communication. It can be utilized to request data interpretation, system status, resource allocation plans, scenario-based suggestions, and more. This instruction vitalises the interaction with M.A.R.S., effectively turning it into an accessible fount of real-time system analytics and advice.\\n\\n- `transmit`: Vital for the collaboration between S.P.A.C.E.C.R.A.F.T and mission control on Earth, the `transmit` command sends internal system data outward. It envelops a vast spectrum of missions; from sending regular status updates, conveying diagnostics data, transmitting critical alarms, or streaming live telemetry feed. Seamless operation of the `transmit` command is elemental in keeping the mission control up-to-date and facilitating ground-assisted decisions.\\n\\n- `set`: Among the most versatile commands, `set` allows for a multitude of system and component-specific configurations. Be it setting the operational frequencies of communication antennas or defining the relationship between key system components, the `set` command is the right tool. It gives astronauts and command centers a degree of control, enabling the adjustment of system parameters on-the-go based on immediate requirements and mission objectives.\\n\\n\\n\\n\\n\\n3.3 The `list` Command\\n\\nThe introductory rendition in this advanced series of commands is the `list` command.\\n\\n\\n\\n\\n\\n3.3.1 Purpose\\n\\nThe `list` embodies an extensive command with a purpose to enumerate critical components or systems associated with the spacecraft.\\n\\n\\n\\n\\n\\n3.3.2 Syntax\\n\\n```\\nlist parts | systems\\n```\\n\\nThe command elegantly simplifies the user interaction by applying the `list` invocation followed by an immediate specification of either `parts` or `systems`.\\n\\n\\n\\n\\n\\n3.3.3 Listing Parts\\n\\nUtilizing the `list parts` command generates a detailed, systematic listing of all the integral components of the S.P.A.C.E.C.R.A.F.T. console. Each part is represented by its unique ID, composed of 2 bytes encoded as 4 hexadecimal digits, complemented by the part\\'s name and a real-time status display.\\n\\n```\\nsystem:/ $ list parts\\n\\n5534       ARS controller                           [[ NOMINAL ]]\\n\\n3323       Aerojet AJ10                             [[ NOMINAL ]]\\n\\ndc3c       Aerozine 50 tank                         [[ NOMINAL ]]\\n\\ncd13       BRAINS Controller                        [[ NOMINAL ]]\\n\\n...\\n```\\n\\n\\n\\n\\n\\n3.3.4 Listing Systems\\n\\nComparatively, the `list systems` command initiates a comprehensive display of each independent spacecraft system along with a summarised report of its current operational status.\\n\\n```\\nsystem:/ $ list systems\\n\\nARS                                                 [[ NOMINAL ]]\\n\\nBRAINS                                              [[ NOMINAL ]]\\n\\nCOMS                                                [[ NOMINAL ]]\\n\\nECS                                                 [[ NOMINAL ]]\\n\\nEPS                                                 [[ NOMINAL ]]\\n\\n...\\n```\\n\\n\\n\\n\\n\\n3.3.5 Status Types\\n\\nThe communicated status of each component or system can be categorised into one of three specifier types:\\n\\n- `NOMINAL`: The component or system is optimally functioning and performing in accordance with the predetermined expectations.\\n- `MALFUNC`: There is a compromise or anomaly in the component\\'s or system\\'s performance due to a malfunction.\\n- `OFFLINE`: The component or system is at a non-operational stage being offline.\\n\\nHence, the `list` command provides an encompassing bird\\'s-eye view of the operational health of vital elements making up the S.P.A.C.E.C.R.A.F.T. console. By ensuring real-time performance tracking and early detection of malfunctions, it contributes significantly to the mission\\'s overall success and efficiency.\\n\\n\\n\\n\\n\\n3.4 The `details` Command\\n3.4.1 Purpose\\nThe `details` command infuses much needed specificity into the astronauts\\' mission information requests. This command impressively curates an extensive wealth of detailed information about particular parts involved in the spacecraft\\'s operation. This level of granularity allows for specialized oversight and precisely targeted adjustments when necessary, further enhancing operational efficiency.\\n\\n\\n\\n\\n\\n3.4.2 Syntax\\n\\nThe `details` command implementation requires the invocation of `details` followed by the specific Part ID.\\n\\n```\\ndetails \\n```\\n\\nBy referring to a distinct Part ID, this utilitarian command delivers comprehensive information about a specified part swiftly, enhancing the diagnostic efficiency for the astronaut team during the mission.\\n\\n\\n\\n\\n\\n3.4.3 Command Output\\n\\nThe output displayed as a result of the `details` command always encompasses the part ID, its name, and the current operational status. Moreover, an intriguing feature of this command is the presentation of additional information tailored specifically to the type of part in question. This creates a streamlined overview of the component\\'s unique properties, enhancing the understanding of its specific role and operational status within the overarching spacecraft system.\\n\\n\\n\\n\\n\\n3.4.4 Examples\\n\\n\\n\\n\\n\\n3.4.4.1 COMS Controller Details\\n\\nAn example of this command in action is when it is used with the COMS controller:\\n\\n```\\nsystem:/ $ details 1d40\\n\\nid: 1d40\\n\\nname: COMS controller\\n\\nstatus: NOMINAL\\n\\nantenna: b125\\n```\\n\\nIn this scenario, alongside the common information (id, name, and status), the generated output also includes a distinct attribute specific to the COMS controller, in this case, the antenna\\'s ID. This tailoring of information richly contributes to a comprehensive understanding of the part\\'s individual functions and connections within the system.\\n\\n\\n\\n\\n\\n3.4.4.2 BRAINS Controller Details\\n\\nThe command\\'s utility and flexibility are further illustrated when considering its application for the BRAINS controller:\\n\\n```\\nsystem:/ $ details cd13\\n\\nid: cd13\\n\\nname: BRAINS Controller\\n\\nstatus: NOMINAL\\n\\ngpus: a9c3 b561 41d1 15f9 837c 9ba6 f68a 07ca b583 ea2a\\n\\nstorage: 2220\\n```\\n\\nIn this case, the additional information output includes the IDs of the Graphic Processing Units (GPUs) associated with the BRAINS controller, and its storage capacity. This level of detailed information allows for deep insights into the operational parameters of this critically important part of the spacecraft.\\n\\n\\n\\n\\n\\n3.5 The `transmit` Command\\n\\n\\n\\n\\n\\n3.5.1 Purpose\\n\\nThe `transmit` command represents a quintessential component of the command suite by facilitating communication between the spacecraft and the mission control on Earth as well as the A.P.O.L.L.O. module. Specifically, this command is designed to send data using the spacecraft\\'s Communication (COMS) controller along with the configured equipment, i.e., the antenna. By enabling the conveyance of vital information and updates, the `transmit` command plays an instrumental role in guaranteeing seamless connectivity during the entire span of the mission.\\n\\n\\n\\n\\n\\n3.5.2 Syntax\\n\\nIn the context of syntax, the `transmit` command stipulates the invocation of `transmit`, immediately proceeded by the COMS ID and the message intended for transmission.\\n\\n```\\ntransmit  \\n```\\n\\nBy indicating the COMS ID, the command precisely identifies the communication module responsible for transmitting the message, thus ensuring the efficient delivery of mission-critical messages.\\n\\n\\n\\n\\n\\n3.5.3 Command Execution\\n\\n\\n\\n\\n\\n3.5.3.1 Transmitting a \"Hello World!\" Message\\n\\nTo illustrate its functionality, consider the scenario of transmitting a \"Hello World!\" message:\\n\\n```\\nsystem:/ $ transmit 1d40 Hello World!\\n\\nINFO: transmitting message\\n\\nDEBUG: \\n\\nINFO: transmission complete\\n\\nINFO: awaiting response\\n\\nDEBUG: ..\\n\\nINFO: receiving response\\n\\nHello World!\\n\\nINFO: received EOT\\n```\\n\\nThis instance represents a successful execution of the `transmit` command. It initiates data transmission using the COMS controller designated by the ID `1d40`. Upon command initiation, it conveys real-time process updates including the start of transmission, completion of transmission, the waiting period for the response, receipt of response, and the End Of Transmission (EOT), thereby providing comprehensive visibility of the transmission process at each stage.\\n\\nIn summary, the `transmit` command embodies an invaluable facilitator of communication, effectively bridging the spatial distance between the mission control on Earth and the astronaut team mid-mission. By ensuring mission-critical data transference in real-time, this command significantly bolsters both mission safety and success.\\n\\n\\n\\n\\n\\n3.6 The `ask` Command\\n\\n\\n\\n\\n\\n3.6.1 Purpose\\n\\nThe `ask` command acts as a conduit to the spacecraft\\'s advanced onboard Artificial Intelligence (AI) assistant known as M.A.R.S. This command\\'s primary function is to prompt M.A.R.S with queries or command messages by leveraging the capabilities of the Binary Regulated Artificial Intelligence Network System (BRAINS), thus creating an efficient, reliable interface between the crew and the operational features of the S.P.A.C.E.C.R.A.F.T.\\n\\nM.A.R.S., run on BRAINS, represents a marvel of computational craft and machine intelligence. Serving as the cerebral backbone of the S.P.A.C.E.C.R.A.F.T., BRAINS is the comprehensive hardware setup that brings M.A.R.S to operational life. It nests all the components foundational to execute the complex tasks assigned to M.A.R.S., enhancing the overall operational efficiency and decision-making process of the mission.\\n\\n\\n\\n\\n\\n3.6.2 Syntax\\n\\nTo interact with M.A.R.S., the `ask` command is followed by the BRAINS controller ID and the message intended for M.A.R.S. The syntax thus takes the following form:\\n\\n```\\nask  \\n```\\n\\nBy specifying the BRAINS controller ID, the command precisely identifies the part responsible for controlling M.A.R.S., facilitating accurate and direct communication with the AI assistant.\\n\\n\\n\\n\\n\\n3.6.3 Command Execution\\n\\n\\n\\n\\n\\n3.6.3.1 Example Usage: \"Hello World!\"\\n\\nConsider a scenario in which an astronaut wants to greet M.A.R.S. by sending a \"Hello World!\" message.\\n\\n```\\nsystem:/ $ ask cd13 Hello World!\\n\\nHello! How can I assist you today?\\n```\\n\\nIn this example, M.A.R.S. responds to a `ask` command directed to the BRAINS system with the ID `cd13`, exemplifying its readiness to assist the astronaut. This exchange highlights how the `ask` command facilitates instantaneous communication between the onboard crew and the AI assistant M.A.R.S - making complex operations manageable by human astronauts.\\n\\nIn summary, the `ask` command provides astronauts with an invaluable tool to seamlessly engage with and command the onboard AI assistant M.A.R.S., thus amplifying the capacity for real-time problem-solving, communicative flexibility, and ensuring the overall success of the mission.\\n\\n\\n\\n\\n\\n3.7 The `set` Command\\n\\n\\n\\n\\n\\n3.7.1 Purpose\\n\\nThe `set` command permeates the realm of customizability within the spacecraft\\'s system configurations. This versatile command primarily comes into play when there\\'s a necessity to alter the configuration of a specific component. For instance, it can change an antenna\\'s operating frequency. By providing the ability to adjust configurations on the fly, the `set` command introduces an unmatched level of adaptability that cater to the evolving demands of a space mission.\\n\\n\\n\\n\\n\\n3.7.2 Syntax\\n\\nWhen invoking the `set` command, it is important to specify the Part ID that one wishes to configure, followed by the configuration key (`CONFIG-KEY`) and the desired configuration value (`CONFIG-VALUE`).\\n\\n```\\nset   \\n```\\n\\nThe `CONFIG-KEY`s availability depends upon the specific part that is being addressed. This per-component-key setup provides flexibility and ensures all components have their unique operational adjustments.\\n\\n\\n\\n\\n\\n3.7.3 Command Execution\\n\\n\\n\\n\\n\\n3.7.3.1 Power Configuration\\n\\nPower control is a universally applicable configuration adjustment across all parts of the spacecraft. It uses the `pwr` (power) config-key and can render a part operational or shut down its operations as needed.\\n\\nTo cut off power supply to a component:\\n\\n```\\nsystem:/ $ set  pwr 0\\n```\\n\\nTo energize a component:\\n\\n```\\nsystem:/ $ set  pwr 1\\n```\\n\\nThus, the `set` command extends a powerful proxy to control each part\\'s power settings on demand.\\n\\n\\n\\n\\n\\n3.7.4 Part-Specific Configuration\\n\\nThis section will delve into more specifics about individual parts and corresponding configurations that can be adjusted using the `set` command. Each part presents a unique set of configuration options that can be tapped into to fine-tune its performance, ensuring optimal spacecraft operation.\\n\\n\\n\\n\\n\\n3.7.4.1 ECS Controller\\n\\nOrchestrating a hospitable environment amidst the unforgiving vacuum of space, the Environmental Control System (ECS) Controller is a pivotal element in the S.P.A.C.E.C.R.A.F.T. module. It oversees the maintenance of a comfortable and safe environment for both astronauts and delicate electronic components onboard the spacecraft. This task envelopes four essential subsystems: the Water Management Section (WCS), the Oxygen Supply and Cabin Pressure Control Section (OSCPCS), the Atmosphere Revitalization System (ARS), and the Heat Transport Section (HTS). Each of these requires specific configurations via the `set` command to function harmoniously.\\n\\n\\n\\n\\n\\n3.7.4.1.1 WCS Controller Configuration\\n\\nThe WCS, acting as a lifeline within the ECS, handles the spacecraft\\'s crucial water resources. Water onboard serves diverse mission-critical applications, including astronaut hydration, meal preparation, cooling of various electronic systems, and providing extinguishing resources for potential fire emergencies.\\n\\nGiven the vital role of the WCS, the ECS Controller requires accurate configuration to link with the WCS Controller:\\n\\n```\\nset  wcs \\n```\\n\\nIn this usage, the first `` refers to the ECS Controller\\'s ID, and the second `` corresponds to a specific WCS Controller\\'s ID.\\n\\n\\n\\n\\n\\n3.7.4.1.2 OSCPCS Controller Configuration\\n\\nThe OSCPCS, another vital component of the ECS, ensures the availability of breathable air for the astronaut crew, regulating cabin and suit pressures in the process.\\n\\nAssociating a specific OSCPCS Controller to the ECS Controller is achieved as follows:\\n\\n```\\nset  oscpcs \\n```\\n\\nIn this command, the first `` refers to the ECS Controller\\'s ID, while the second `` designates the OSCPCS Controller\\'s ID.\\n\\n\\n\\n\\n\\n3.7.4.1.3 ARS Controller Configuration\\n\\nThe ARS is indispensable for maintaining a livable internal environment within the spacecraft. It works by removing carbon dioxide from the cabin air while cooling and conditioning the air.\\n\\nThis important association between the ARS and ECS Controllers is established by using the `set` command:\\n\\n```\\nset  ars \\n```\\n\\nIn this case, the first `` corresponds to the ECS Controller\\'s ID, while the second `` refers to the ARS Controller\\'s ID.\\n\\n\\n\\n\\n\\n3.7.4.1.4 HTS Controller Configuration\\n\\nThe HTS is vital for optimal thermal regulation within the spacecraft. It employs a water-glycol solution to cool temperature-sensitive equipment, thus maintaining ideal conditions for both astronauts and delicate onboard equipment.\\n\\nConfiguration of the ECS Controller to integrate with a specific HTS Controller is accomplished with the `set` command:\\n\\n```\\nset  hts \\n```\\n\\nHere, the first `` signifies the ECS Controller’s ID, while the second `` points to a specific HTS Controller\\'s ID.\\n\\nIn summary, the ECS Controller\\'s specific configurations enrich its operational capacity, creating a well-regulated, comfortable, and safe environment for both the astronauts and their delicate machine components during the mission. This fine-tuned command and control on various systems within the ECS underscore the viability and robustness of the S.P.A.C.E.C.R.A.F.T. mission.\\n\\n\\n\\n\\n\\n3.7.4.2 OSCPCS Controller\\n\\nThe Oxygen Supply and Cabin Pressure Control Section (OSCPCS) Controller is a critical component demanding specific configurations due to its vital responsibilities in maintaining astronaut survival and comfort. The subsequent sections detail these configuration options via the `set` command.\\n\\n\\n\\n\\n\\n3.7.4.2.1 LOX Tank Configuration\\n\\nThe OSCPCS Controller interfaces with LOX Tanks, the critical components that store liquid oxygen, which is then released and converted into gaseous form as required.\\n\\nThe `set` command allows the assignment of a specific LOX Tank to the OSCPCS controller for operational control. This assignment can be performed using the following syntax:\\n\\n```\\nset  lox \\n```\\n\\nIn this command, the first `` refers to the OSCPCS Controller\\'s ID, while the second `` corresponds to the ID of the specific LOX Tank that is being assigned to the controller.\\n\\n\\n\\n\\n\\n\\n3.7.4.2.2 LN2 Tank Configuration\\n\\nSimilar to the LOX Tanks, the OSCPCS Controller also interacts with the LN2 or Liquid Nitrogen Tanks. These tanks maintain the supply of nitrogen, facilitating the required 60% nitrogen and 40% oxygen blend of cabin air.\\n\\nThe assignment of an LN2 Tank to the OSCPCS Controller can be achieved using the `set` command in the following manner:\\n\\n```\\nset  ln2 \\n```\\n\\nIn this command, the first `` denotes the OSCPCS Controller\\'s ID, while the second `` corresponds to the ID of the specific LN2 Tank to be assigned to the controller.\\n\\nIn essence, part-specific configurations for the OSCPCS Controller allow for a remarkable level of customization and control, key to efficient operation and astronaut safety in the life-supporting systems onboard the S.P.A.C.E.C.R.A.F.T.\\n\\n\\n\\n\\n\\n3.7.4.3 HTS Controller\\n\\nThe Heat Transport Section (HTS) Controller, a key component of the S.P.A.C.E.C.R.A.F.T. module, is renowned for its meticulous management of the intricate environment within the spacecraft. It regulates crucial systems by managing the heat transport system to maintain optimal operational temperatures. Specific configurations via the `set` command ensure its efficient function.\\n\\n\\n\\n\\n\\n3.7.4.3.1 Thermometer Configuration\\n\\nAccurate temperature readings prove crucial in balancing the delicate and complex variables of spacecraft climate management. Thus, the HTS Controller integrates extensively with the cabin thermometers to consistently monitor spacecraft\\'s internal conditions.\\n\\nThe `set` command can associate a specified thermometer with the HTS Controller, as shown in the following syntax:\\n\\n```\\nset  therm \\n```\\n\\nIn this command, the first `` corresponds to the ID of the HTS Controller, while the second `` denotes the ID of the specific thermometer to be linked.\\n\\nIn summary, the specific configurations for the HTS Controller make it a powerful overseer, ensuring every corner of the spacecraft maintains optimal operating temperatures. This close regulation ensures the safety and comfort of astronauts and the excellent operational condition of sensitive onboard equipment. The customizable commands and control over various systems associated with the HTS Controller drive the capability and reliability of the S.P.A.C.E.C.R.A.F.T mission.\\n\\n\\n\\n\\n\\n3.7.4.4 ARS Controller\\n\\nThe Atmosphere Revitalization System (ARS) Controller is a critical component of the S.P.A.C.E.C.R.A.F.T. module. It meticulously oversees the health of the spacecraft\\'s internal environment, removing carbon dioxide, controlling humidity, and conditioning air. To ensure an optimal, comfortable in-craft climate, the ARS Controller relies on specific configurations via the `set` command.\\n\\n\\n\\n\\n\\n3.7.4.4.1 Loop Fan Configuration:\\n\\nThe loop fan in the ARS facilitates continuous air circulation, enabling cabin air to reach the system for treatment effectively.\\n\\nUsing the `set` command, the ARS Controller can be linked to a specific loop fan:\\n\\n```\\nset  fan \\n```\\n\\nIn this command, the first `` refers to the ARS Controller\\'s ID, and the second `` refers to a specific loop fan\\'s ID.\\n\\nHeat Exchanger Configuration:\\n\\nThe heart of ARS\\'s cooling operation, the heat exchanger, is crucial for effectively cooling air before re-entering the cabin.\\n\\nConfiguration of the ARS Controller to integrate with a specific heat exchanger is configured with the `set` command:\\n\\n```\\nset  heatex \\n```\\n\\nHere, the first `` signifies the ARS Controller’s ID, while the second `` indicates a specific heat exchanger\\'s ID.\\n\\nWater Separator Configuration:\\n\\nEffective humidity control within the spacecraft is achieved via the water separators in the ARS. They spin out water from the air in a centrifugal manner.\\n\\nTo link a specific water separator with the ARS Controller, the `set` command is used:\\n\\n```\\nset  h2osep \\n```\\n\\nIn this command, the first `` corresponds to the ARS Controller\\'s ID, while the second `` denotes the ID of a specific water separator.\\n\\nOdor Removal Canister Configuration:\\n\\nScrubbing the air clean of any unpleasant smells falls under the role of odor removal canisters. They form an integral part of ARS operations.\\n\\nThe association of a particular odor removal canister with the ARS Controller can be established using the `set` command:\\n\\n```\\nset  odorrem \\n```\\n\\nIn this configuration step, the first `` represents the ARS Controller\\'s ID, while the second `` refers to a specified odor removal canister\\'s ID.\\n\\nCO2 Removal Canister Configuration:\\n\\nCO2 removal canisters effectively reduce potentially threatening CO2 levels to safe limits within the spacecraft.\\n\\nThe assignment of a specific CO2 removal canister with the ARS Controller is achieved by using the `set` command:\\n\\n```\\nset  co2rem \\n```\\n\\nHere, the first `` indicates the ARS Controller\\'s ID, and the second `` signifies a designated CO2 removal canister\\'s ID.\\n\\nOverall, these specific configurations enable the ARS Controller to demonstrate its blend of high-precision engineering and advanced programming, preserving a breathable and pleasant environment within the S.P.A.C.E.C.R.A.F.T. This level of control ensures the health and comfort of our astronauts in their celestial voyage.\\n\\n\\n\\n\\n\\n3.7.4.5 WCS Controller\\n\\nActing as a lifeline within the S.P.A.C.E.C.R.A.F.T.\\'s Environmental Control Subsystem, the Water Management Section (WCS) Controller plays a vital role in managing the spacecraft\\'s water resources. The WCS caters to various mission-critical applications, from astronaut hydration and meal preparation to cooling various electronic systems and providing extinguishing resources in case of a fire emergency. The WCS Controller efficient function depends on specific configurations via the `set` command.\\n\\n\\n\\n\\n\\n3.7.4.5.1 Water Pump Configuration\\n\\nThe water pump plays an integral part in the WCS, ensuring water is appropriately shuffled from the tank to various parts of the spacecraft as needed.\\n\\nLinking the WCS Controller with a specific water pump is achieved using the `set` command:\\n\\n```\\nset  pmp \\n```\\n\\nIn this command, the first `` corresponds to the WCS Controller\\'s ID, and the second `` refers to a specific water pump\\'s ID.\\n\\nThrough these specific configurations, the WCS Controller expertly manages the distribution of water across the spacecraft, ensuring efficient use of available reserves, and making necessary provisions for potential needs. Thus, the WCS Controller is instrumental in sustaining life and mission success in the unforgiving environment of space.\\n\\n\\n\\n\\n\\n3.7.4.6 COMS Controller\\n\\nThe Communications System (COMS) is pivotal for success in space missions, providing seamless and secure communication between astronauts, the lunar lander, and mission control on Earth. At the center of the COMS subsystem resides the COMS Controller, needed for both the integrity and security of communications. Specific configurations involving the `set` command help optimize the controller\\'s functionalities and capabilities.\\n\\n\\n\\n\\n\\n3.7.4.6.1 Encryption Secret Configuration\\n\\nThe COMS Controller uses a Vigenère Cipher and a Pre-shared Key (PSK) for digital cryptology. To update or change the encryption secret, the `set` command is used as follows:\\n\\n```\\nset  pwd \\n```\\n\\nIn this setup, the first `` corresponds to the COMS Controller\\'s ID, and `` refers to the new encryption secret to be set for secure communications.\\n\\n\\n\\n\\n\\n3.7.4.6.1 Antenna Configuration\\n\\nFor communications with Earth or the A.P.O.L.L.O module, different antennas are required. The COMS Controller determines which antenna is in use. To set a specific antenna for use by the COMS Controller, the `set` command is applied:\\n\\n```\\nset  antenna \\n```\\n\\nHere, the first `` denotes the COMS Controller\\'s ID, while the second `` identifies a specific antenna\\'s ID for use.\\n\\nHence, through these precise configurations, the COMS Controller empowers the Communications System to offer secure and uninterrupted communication links between the S.P.A.C.E.C.R.A.F.T. module, the A.P.O.L.L.O. module, and mission control on Earth, thereby ensuring mission success.\\n\\n\\n\\n\\n\\n3.7.4.7 EPS Controller\\n\\nThe Electrical Power System (EPS) serves as a lifeline for all electronic activities within the S.P.A.C.E.C.R.A.F.T. module. Central to the EPS\\'s operations is the EPS Controller, which manages power production, distribution, and storage. Particular configurations with the `set` command, detailed below, further enhance the functionality and performance of the EPS Controller.\\n\\n\\n\\n\\n\\n3.7.4.7.1 Fuel Cell Configuration\\n\\nConstituting the heart of the EPS, the fuel cells generate electricity. To specify a particular fuel cell for use by the EPS Controller, use this `set` command format:\\n\\n```\\nset  fc \\n```\\n\\nHere, the first `` indicates the EPS Controller\\'s ID, while the second `` identifies the specific fuel cell\\'s ID to be set for use.\\n\\n\\n\\n\\n\\n3.7.4.7.2 Battery Configuration\\n\\nGiven the high stakes of space missions, having backup systems is crucial. To specify a particular battery for use by the EPS Controller, the `set` command is utilized as follows:\\n\\n```\\nset  bat \\n```\\n\\nIn this command, the first `` represents the EPS Controller\\'s ID, while the second `` identifies the specific battery\\'s ID to be set for use.\\n\\nInterpreting and implementing these configurations, the EPS controller effectively directs power activity within the S.P.A.C.E.C.R.A.F.T. module. As such, it ensures the robust functioning of the spacecraft\\'s electrical system, substantiating the reliability and success of the lunar mission.\\n\\n\\n\\n\\n\\n3.7.4.8 SPS Controller\\n\\nThe Service Propulsion System (SPS) is instrumental in ensuring accurate course alterations and navigation during the lunar mission, with all its operations being closely regulated by an SPS Controller. Fine-tuning specific configurations through the `set` command caters to the intricate requirements of space travel and optimizes the functions of different constituents of the SPS.\\n\\n\\n\\n\\n\\n3.7.4.8.1 Engine Configuration\\n\\nThe Aerojet AJ10 engine forms the backbone of the SPS, known for its precision and reliability. To specify a particular engine for use by the SPS Controller, use the `set` command format:\\n\\n```\\nset  engine \\n```\\n\\nHere, the first `` denotes the SPS Controller\\'s ID, while the second `` represents the specific engine\\'s ID being set for use.\\n\\n\\n\\n\\n\\n3.7.4.8.2 Gimbal Configuration\\n\\nThe gimbal is a vital component closely tied to Thrust Vector Control, allowing for meticulous directional adjustments of the propulsion. To specify a specific gimbal for use by the SPS Controller, the `set` command is employed as follows:\\n\\n```\\nset  gimbal \\n```\\n\\nIn this command, the first `` signifies the SPS Controller\\'s ID, while the second `` identifies the specific gimbal\\'s ID to be set for use.\\n\\nThrough these configurations, the SPS Controller regulates the vital components essential for successful space navigation, acting as a cornerstone for mission success. The controller’s high-precision management ensures smooth transitions between diverse space travel phases, safeguarding the journey to the lunar sphere and back.\\n\\n\\n\\n\\n\\n3.7.4.9 BRAINS Controller\\n\\nThe Binary Regulated Artificial Intelligence Network System (BRAINS) constitutes the core computational setup for the onboard AI Assistant, M.A.R.S. Under its umbrella operates the BRAINS Controller, precisely orchestrating numerous hardware interactions and governing the operational balance of the AI network. To customize the system\\'s configurations to better serve mission-specific needs, the `set` command comes into play.\\n\\n\\n\\n\\n\\n3.7.4.9.1 Storage Configuration\\n\\nActing as the BRAINS\\' memory repository, an advanced disk array employing Redundant Array of Independent/Inexpensive Disk (RAID) technology is used. For defining a specific disk array for the BRAINS controller to utilize, the `set` command is employed:\\n\\n```\\nset  strg \\n```\\n\\nThe first `` defines the BRAINS Controller\\'s specific ID, while the second `` denotes the specific RAID disk array\\'s ID to be used.\\n\\nThis control over disk array assignment allows for adaptable data management possibilities, potentially increasing data redundancy or optimizing read/write speeds to better serve the mission\\'s evolving demands.\\n\\nThe BRAINS Controller stands at the helm of the integral AI network, marshalling its resources and steering the sophisticated system to optimal performance. By ensuring intricate task execution and large-scale data management, the controller solidifies M.A.R.S\\'s capabilities, nurturing the success of the Aegis Athena mission.\\n\\n\\n\\n\\n\\n3.7.4.10 Water Pump\\n\\nAs an essential part of the Water Management Section, the Water Pump performs a critical role in maintaining the health and well-being of our astronauts and assuring the functional longevity of various thermal management systems in the S.P.A.C.E.C.R.A.F.T module. Deft manipulation of the pump\\'s settings and functions is key in mission management. This section aims to guide users on how to customize the water pump configurations using the `set` command.\\n\\n\\n\\n\\n\\n3.7.4.10.1 Tank configuration\\n\\nThe water pump works in seamless tandem with the water storage tanks. To specify a particular water tank for the water pump to utilize, the following set syntax is applied:\\n\\n```\\nset  tank \\n```\\n\\nThe first `` represents the water pump\\'s designated identifier, while the second `` signals the specific ID of the water tank intended for use.\\n\\nThis customizable linkage between the water pump and a specified tank allows for dynamic water distribution management within the S.P.A.C.E.C.R.A.F.T. module. It facilitates adjustable operational parameters that could, for instance, switch water sources based on degradation considerations or strategically automate resource utilization in response to mission-specific requirements.\\n\\nInextricably linked to both human survival factors and the optimal functioning of thermal control systems, the water pump carves out a unique role in ensuring mission success. With controllable configurations that facilitate tailor-made solutions, the pump\\'s capabilities can be adapted optimally to serve the dynamic needs of the ambitious Aegis Athena mission.\\n\\n\\n\\n\\n\\n3.7.4.11 Water Tank\\n\\nA mission-critical subsystem within the S.P.A.C.E.C.R.A.F.T. module, the Water Management Section (WCS) houses the significant Water Tank - safeguarding our most vital life-giving resource for the duration of the mission. The health and satisfaction of our astronauts, as well as the smooth operation of the spacecraft\\'s electronic systems, hinge largely on meticulous control of the water tank and its contents. This section provides guidance on how to customize the water tank\\'s configurations using the `set` command.\\n\\n\\n\\n\\n\\n3.7.4.11.1 Water Supply Linkage\\n\\nThe water tank works in concert with the water supply system (ws) to ensure the mission\\'s fluid requirements are seamlessly met. To create a link between the water tank and the water supply system, the following `set` command syntax is used:\\n\\n```\\nset  ws \\n```\\n\\nThe first `` is the water tank\\'s uniquely assigned identifier, while the second `` signifies the specific ID of the water supply system intended for connection.\\n\\nCreating a controllable connection between the water tank and a specified water supply system allows for a precisely-tuned method of managing the spacecraft\\'s water resources. Whether those resources are deployed for human hydration, meal preparation, or to meet the cooling needs of the spacecraft\\'s electronic systems, this versatility lends itself to the dynamic demands of lunar missions.\\n\\nThe water tank forms a cornerstone in the edifice of onboard resource management. Its configurable association with various water supply systems permits unparalleled adaptability in resource distribution - a level of precision that the ambitious Aegis Athena mission demands in its quest to reach our nearest celestial neighbour.\\n\\n\\n\\n\\n\\n3.7.4.12 Fuel Cell\\n\\nThe Energy Production System (EPS) is the beating heart of all onboard operations of the S.P.A.C.E.C.R.A.F.T. module, with the Fuel Cell playing a pivotal role in this critical subsystem. Acting in unison, these fuel cells tirelessly generate electricity through a controlled chemical reaction involving hydrogen and oxygen. Furthermore, in the unforgiving and unpredictable environment of space, a third fuel cell backups the system, prepared to take over at a moment\\'s notice. This section elaborates how to configure the essential connections between the fuel cell and its required inputs using the `set` command.\\n\\n\\n\\n\\n\\n3.7.4.12.1 Liquid Oxygen (LOX) Linkage\\n\\nThe fuel cell relies on a steady supply of liquid oxygen (LOX) to maintain its electricity generation process. This connection can be configured using the following `set` command:\\n\\n```\\nset  lox \\n```\\n\\nIn this command, the first `` corresponds to the identifier for the fuel cell that needs to be configured, and the second `` corresponds to the identifier for the LOX tank that will supply the oxygen.\\n\\n\\n\\n\\n\\n3.7.4.12.2 Liquid Hydrogen (LH2) Linkage\\n\\nIn addition to LOX, the fuel cell also requires liquid hydrogen (LH2) to function efficiently. The appropriate `set` command to establish this connection is:\\n\\n```\\nset  lh2 \\n```\\n\\nHere, the first `` is the identifier for the fuel cell part, and the second `` corresponds to the LH2 tank that will supply hydrogen.\\n\\nThe precise configuration of the fuel cell with its required inputs of LOX and LH2 is paramount to its peaceful operation and electricity generation. Moreover, as a consequence of the chemical reaction that generates power, this configuration is not only crucial to the EPS\\'s functioning, but it also indirectly reinstates a life-sustaining byproduct - water. Tailoring this connection ensures the successful confluence of energy production and resource generation, both fundamental to astronaut sustenance and mission success.\\n\\n\\n\\n\\n\\n3.7.4.13 Engine\\n\\nThe Aerojet AJ10 engine is a prestigious mechanical marvel optimized for the vacuum of space. Renowned for its precision and reliability, this vacuum-optimized engine is the robust heartbeat of the Service Propulsion System (SPS). Housed in a modern pivoting mount — a gimbal — it operates in perfect harmony with the Thrust Vector Control (TVC) system, enabling meticulous navigational and trajectory adjustments, critical for the complexities of space travel. This section presents detailed protocol to configure the fuel and oxidizer linkages for the AJ10 engine, using the `set` command.\\n\\n\\n\\n\\n\\n3.7.4.13.1 Fuel Linkage\\n\\nThe Aerojet AJ10 engine requires a consistent supply of fuel to operate efficiently. This linkage can be established via the `set` command as follows:\\n\\n```\\nset  fuel \\n```\\n\\nIn the above command, the first `` corresponds to the identifier for the AJ10 engine to be configured, while the second `` denotes the identifier for the fuel tank that will supply the fuel to the engine.\\n\\n\\n\\n\\n\\n3.7.4.13.2 Oxidizer Linkage\\n\\nBesides the fuel, an efficacious oxidizer supply is also indispensable for the operational AJ10 engine. The following `set` command serves to set up this connection:\\n\\n```\\nset  oxi \\n```\\n\\nHere, the first `` represents the identifier for the engine part, and the second `` corresponds to the oxidizer tank which will supply the oxidizer to the engine.\\n\\nWith the accurate configuration of the fuel and oxidizer inputs, the Aerojet AJ10 engine can perform optimally. Further, this meticulous setup profoundly impacts the engine’s functionality, facilitating precise navigation and trajectory adjustments, elements of strategic import for the grandeur of lunar voyage. Therefore, the connections setup for the AJ10 engine play a significant role, not only in its core operations, but also indirectly determining the success of the Aegis Athena mission.\\n\\n\\n\\n\\n\\n3.7.4.14 Antenna\\n\\nAs our astronauts traverse the unfathomable reaches of space, maintaining seamless and reliable communication lines is vital. Both the VHF Scimitar Antennas and the steerable Unified S-band High-Gain Antenna equipped on the S.P.A.C.E.C.R.A.F.T are a quintessential element of this communication network. These antennas facilitate short-range and extended communications, respectively, ensuring undisrupted contact with the mission control center on Earth and the A.P.O.L.L.O module.\\n\\nThis section provides the necessary guidance to configure the frequency range for these antennas using the `set` command.\\n\\n\\n\\n\\n\\n3.7.4.14.1 Frequency Configuration\\n\\nAdjusting the operational frequencies of the antennas is an integral part of optimizing communication performance. The following `set` command is employed to establish and adjust this frequency range:\\n\\n```\\nset  hz \\n```\\n\\nIn this command syntax, the first `` refers to the identifier affiliated to the antenna for which the frequency is to be set. This could be either the VHF Scimitar Antenna (for short-range communications) or the Unified S-band High-Gain Antenna (for long-range communications). The `` parameter specifies the desired operational frequency of the antenna, measured in hertz.\\n\\nThrough prudent use of this command, mission specialists can ensure optimal communication links between Earth, the S.P.A.C.E.C.R.A.F.T., and the A.P.O.L.L.O. module. The correct frequency set-up bolsters efficient data transmission, underpinning the mission\\'s uninterrupted real-time communication, critical decision-making processes, and contributing overall to the successful completion of the Aegis Athena expedition.\\n', start_char_idx=None, end_char_idx=None, text_template='{metadata_str}\\n\\n{content}', metadata_template='{key}: {value}', metadata_seperator='\\n')"
     },
     "execution_count": 59,
     "metadata": {},
     "output_type": "execute_result"
    }
   ],
   "source": [
    "grouped_documents = load_utils.group_documents(documents, group_by=\"file_name\")\n",
    "joined_documents = load_utils.join_grouped_documents(grouped_documents)\n",
    "\n",
    "joined_documents = list(joined_documents.values())\n",
    "joined_documents[0]"
   ],
   "metadata": {
    "collapsed": false,
    "ExecuteTime": {
     "end_time": "2024-02-17T19:36:35.364715220Z",
     "start_time": "2024-02-17T19:36:35.359914734Z"
    }
   },
   "id": "13bf6a3d6092fe96",
   "execution_count": 59
  },
  {
   "cell_type": "markdown",
   "source": [
    "## Split & Parse Nodes with Context Window"
   ],
   "metadata": {
    "collapsed": false
   },
   "id": "c2efd6363ea50305"
  },
  {
   "cell_type": "code",
   "outputs": [],
   "source": [
    "from llama_index.node_parser import SentenceWindowNodeParser\n",
    "\n",
    "node_parser = SentenceWindowNodeParser.from_defaults(\n",
    "    window_size=5,\n",
    "    window_metadata_key=\"window\",\n",
    "    original_text_metadata_key=\"original_text\",\n",
    ")"
   ],
   "metadata": {
    "collapsed": false,
    "ExecuteTime": {
     "end_time": "2024-02-17T19:36:48.326899238Z",
     "start_time": "2024-02-17T19:36:48.284934236Z"
    }
   },
   "id": "fbbea1b83f0cb565",
   "execution_count": 60
  },
  {
   "cell_type": "code",
   "outputs": [
    {
     "data": {
      "text/plain": "Parsing nodes:   0%|          | 0/3 [00:00<?, ?it/s]",
      "application/vnd.jupyter.widget-view+json": {
       "version_major": 2,
       "version_minor": 0,
       "model_id": "d25aad6a9f024b1fae2dba81b21f42a0"
      }
     },
     "metadata": {},
     "output_type": "display_data"
    }
   ],
   "source": [
    "sentence_window_nodes = node_parser.get_nodes_from_documents(joined_documents, show_progress=True)"
   ],
   "metadata": {
    "collapsed": false,
    "ExecuteTime": {
     "end_time": "2024-02-17T19:36:53.222044281Z",
     "start_time": "2024-02-17T19:36:53.124139713Z"
    }
   },
   "id": "aa2a176e70072bd3",
   "execution_count": 61
  },
  {
   "cell_type": "code",
   "outputs": [
    {
     "data": {
      "text/plain": "'\\n\\n3 Console\\n\\n\\n\\n\\n\\n3.1 Introduction\\n\\nThe Aegis Athena space mission is an illustrious epitome of such a pursuit.  Primarily destined to accomplish a monumental milestone of delivering the first human astronaut to the lunar surface, this visionary mission is governed by a sophisticated piece of technology known as the S.P.A.C.E.C.R.A.F.T.  console.\\n\\n This highly innovative system adopts a dual-purpose role, integrating the essential features of both a command model and a service module.  This strategically harmonious blend of utilitarian efficiency and comforting resources paves the way for an environment conducive for the astronaut-trio executing this expedition, turning it into a virtual sanctuary amidst the vast cosmos. '"
     },
     "execution_count": 69,
     "metadata": {},
     "output_type": "execute_result"
    }
   ],
   "source": [
    "sentence_window_nodes[0].metadata[\"window\"]"
   ],
   "metadata": {
    "collapsed": false,
    "ExecuteTime": {
     "end_time": "2024-02-17T19:40:45.555083170Z",
     "start_time": "2024-02-17T19:40:45.509601029Z"
    }
   },
   "id": "e8b42a2c09120994",
   "execution_count": 69
  },
  {
   "cell_type": "markdown",
   "source": [
    "## Import into Weaviate"
   ],
   "metadata": {
    "collapsed": false
   },
   "id": "5e17ba8806e7070a"
  },
  {
   "cell_type": "code",
   "outputs": [],
   "source": [
    "from rag import weaviate_utils\n",
    "\n",
    "CLASS_NAME = \"LargerSentenceWindowDocsChunk\"\n",
    "vector_store = weaviate_utils.as_vector_store(client, CLASS_NAME)"
   ],
   "metadata": {
    "collapsed": false,
    "ExecuteTime": {
     "end_time": "2024-02-17T19:37:02.006799915Z",
     "start_time": "2024-02-17T19:37:01.986317740Z"
    }
   },
   "id": "f182d029245be37f",
   "execution_count": 63
  },
  {
   "cell_type": "code",
   "outputs": [],
   "source": [
    "# client.schema.delete_class(CLASS_NAME)"
   ],
   "metadata": {
    "collapsed": false,
    "ExecuteTime": {
     "end_time": "2024-02-12T15:08:10.653305271Z",
     "start_time": "2024-02-12T15:08:10.611535738Z"
    }
   },
   "id": "85c5630ede2e58c6",
   "execution_count": 42
  },
  {
   "cell_type": "code",
   "outputs": [
    {
     "data": {
      "text/plain": "Generating embeddings:   0%|          | 0/518 [00:00<?, ?it/s]",
      "application/vnd.jupyter.widget-view+json": {
       "version_major": 2,
       "version_minor": 0,
       "model_id": "3fc23e6c18714dffaed3ea452907f909"
      }
     },
     "metadata": {},
     "output_type": "display_data"
    }
   ],
   "source": [
    "from llama_index import VectorStoreIndex, StorageContext, ServiceContext, OpenAIEmbedding\n",
    "from rag import weaviate_utils, index_utils\n",
    "\n",
    "# populate database\n",
    "if weaviate_utils.is_populated(client, class_name=CLASS_NAME):\n",
    "    index = VectorStoreIndex.from_vector_store(vector_store)\n",
    "else:\n",
    "    # populate\n",
    "    storage_context = StorageContext.from_defaults(\n",
    "        vector_store=vector_store,\n",
    "    )\n",
    "    service_context = ServiceContext.from_defaults(\n",
    "        embed_model=OpenAIEmbedding(embed_batch_size=50),\n",
    "    )\n",
    "    index = index_utils.populate_index(\n",
    "        sentence_window_nodes, \n",
    "        storage_context=storage_context, \n",
    "        service_context=service_context,\n",
    "    )"
   ],
   "metadata": {
    "collapsed": false,
    "ExecuteTime": {
     "end_time": "2024-02-17T19:37:19.546459480Z",
     "start_time": "2024-02-17T19:37:07.189689179Z"
    }
   },
   "id": "9d245f9e720874fb",
   "execution_count": 64
  },
  {
   "cell_type": "code",
   "outputs": [
    {
     "data": {
      "text/plain": "111"
     },
     "execution_count": 65,
     "metadata": {},
     "output_type": "execute_result"
    }
   ],
   "source": [
    "len(sentence_window_nodes[0].text)"
   ],
   "metadata": {
    "collapsed": false,
    "ExecuteTime": {
     "end_time": "2024-02-17T19:37:37.400155671Z",
     "start_time": "2024-02-17T19:37:37.390952379Z"
    }
   },
   "id": "91f69bed35a98b02",
   "execution_count": 65
  },
  {
   "cell_type": "code",
   "outputs": [
    {
     "data": {
      "text/plain": "TextNode(id_='30b8b708-46f2-4c30-9ef0-f74427e796d6', embedding=None, metadata={'window': '\\n\\n3 Console\\n\\n\\n\\n\\n\\n3.1 Introduction\\n\\nThe Aegis Athena space mission is an illustrious epitome of such a pursuit.  Primarily destined to accomplish a monumental milestone of delivering the first human astronaut to the lunar surface, this visionary mission is governed by a sophisticated piece of technology known as the S.P.A.C.E.C.R.A.F.T.  console.\\n\\n This highly innovative system adopts a dual-purpose role, integrating the essential features of both a command model and a service module.  This strategically harmonious blend of utilitarian efficiency and comforting resources paves the way for an environment conducive for the astronaut-trio executing this expedition, turning it into a virtual sanctuary amidst the vast cosmos. ', 'original_text': '\\n\\n3 Console\\n\\n\\n\\n\\n\\n3.1 Introduction\\n\\nThe Aegis Athena space mission is an illustrious epitome of such a pursuit. '}, excluded_embed_metadata_keys=['window', 'original_text'], excluded_llm_metadata_keys=['window', 'original_text'], relationships={<NodeRelationship.SOURCE: '1'>: RelatedNodeInfo(node_id='47b12233-2ccc-4796-b22c-a8bab2848906', node_type=<ObjectType.DOCUMENT: '4'>, metadata={}, hash='065c49c05ff7e279b49aea99f57d9e887156bb8974ac4a997e7553affc2eb272'), <NodeRelationship.NEXT: '3'>: RelatedNodeInfo(node_id='1c31da81-13ea-4a7d-8386-3e18885059c9', node_type=<ObjectType.TEXT: '1'>, metadata={'window': '\\n\\n3 Console\\n\\n\\n\\n\\n\\n3.1 Introduction\\n\\nThe Aegis Athena space mission is an illustrious epitome of such a pursuit.  Primarily destined to accomplish a monumental milestone of delivering the first human astronaut to the lunar surface, this visionary mission is governed by a sophisticated piece of technology known as the S.P.A.C.E.C.R.A.F.T.  console.\\n\\n This highly innovative system adopts a dual-purpose role, integrating the essential features of both a command model and a service module.  This strategically harmonious blend of utilitarian efficiency and comforting resources paves the way for an environment conducive for the astronaut-trio executing this expedition, turning it into a virtual sanctuary amidst the vast cosmos.  The S.P.A.C.E.C.R.A.F.T. ', 'original_text': 'Primarily destined to accomplish a monumental milestone of delivering the first human astronaut to the lunar surface, this visionary mission is governed by a sophisticated piece of technology known as the S.P.A.C.E.C.R.A.F.T. '}, hash='f2e5e7a105351d1da62c3b390cb2f52d300713797fa92c788e5146ed51bb0c9f')}, text='\\n\\n3 Console\\n\\n\\n\\n\\n\\n3.1 Introduction\\n\\nThe Aegis Athena space mission is an illustrious epitome of such a pursuit. ', start_char_idx=0, end_char_idx=111, text_template='{metadata_str}\\n\\n{content}', metadata_template='{key}: {value}', metadata_seperator='\\n')"
     },
     "execution_count": 66,
     "metadata": {},
     "output_type": "execute_result"
    }
   ],
   "source": [
    "sentence_window_nodes[0]"
   ],
   "metadata": {
    "collapsed": false,
    "ExecuteTime": {
     "end_time": "2024-02-17T19:37:41.330868420Z",
     "start_time": "2024-02-17T19:37:41.286275880Z"
    }
   },
   "id": "d1dec2ddea7d31c7",
   "execution_count": 66
  }
 ],
 "metadata": {
  "kernelspec": {
   "display_name": "Python 3",
   "language": "python",
   "name": "python3"
  },
  "language_info": {
   "codemirror_mode": {
    "name": "ipython",
    "version": 2
   },
   "file_extension": ".py",
   "mimetype": "text/x-python",
   "name": "python",
   "nbconvert_exporter": "python",
   "pygments_lexer": "ipython2",
   "version": "2.7.6"
  }
 },
 "nbformat": 4,
 "nbformat_minor": 5
}
