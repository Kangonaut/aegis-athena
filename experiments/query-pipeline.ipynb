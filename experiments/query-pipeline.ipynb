{
 "cells": [
  {
   "cell_type": "code",
   "outputs": [
    {
     "data": {
      "text/plain": "True"
     },
     "execution_count": 7,
     "metadata": {},
     "output_type": "execute_result"
    }
   ],
   "source": [
    "import dotenv\n",
    "\n",
    "dotenv.load_dotenv()"
   ],
   "metadata": {
    "collapsed": false,
    "ExecuteTime": {
     "end_time": "2024-02-11T08:57:24.906259692Z",
     "start_time": "2024-02-11T08:57:24.895512560Z"
    }
   },
   "id": "d36047e220991945",
   "execution_count": 7
  },
  {
   "cell_type": "markdown",
   "source": [
    "## Assemble RAG Pipeline"
   ],
   "metadata": {
    "collapsed": false
   },
   "id": "232df55830fd6e2c"
  },
  {
   "cell_type": "code",
   "execution_count": 96,
   "id": "initial_id",
   "metadata": {
    "collapsed": true,
    "ExecuteTime": {
     "end_time": "2024-02-11T11:19:10.194318677Z",
     "start_time": "2024-02-11T11:19:10.016667617Z"
    }
   },
   "outputs": [],
   "source": [
    "from llama_index.response_synthesizers import TreeSummarize\n",
    "from rag import weaviate_utils\n",
    "from llama_index import VectorStoreIndex, ServiceContext\n",
    "from llama_index.query_pipeline import QueryPipeline, InputComponent\n",
    "from llama_index.llms import OpenAI\n",
    "\n",
    "weaviate_client = weaviate_utils.get_weaviate_client()\n",
    "vector_store = weaviate_utils.as_vector_store(weaviate_client, class_name=\"DocsChunk\")\n",
    "index = VectorStoreIndex.from_vector_store(vector_store)\n",
    "retriever = index.as_retriever(similarity_top_k=5)\n",
    "\n",
    "llm = OpenAI(model=\"gpt-3.5-turbo\")\n",
    "summarizer = TreeSummarize(\n",
    "    service_context=ServiceContext.from_defaults(llm=llm)\n",
    ")\n",
    "\n",
    "# assumes that the database has already been populated\n",
    "pipeline = QueryPipeline(verbose=True)\n",
    "pipeline.add_modules({\n",
    "    \"input\": InputComponent(),\n",
    "    \"retriever\": retriever,\n",
    "    \"summarizer\": summarizer,\n",
    "})\n",
    "\n",
    "pipeline.add_link(\"input\", \"retriever\")\n",
    "pipeline.add_link(\"input\", \"summarizer\", dest_key=\"query_str\")\n",
    "pipeline.add_link(\"retriever\", \"summarizer\", dest_key=\"nodes\")"
   ]
  },
  {
   "cell_type": "code",
   "outputs": [
    {
     "name": "stdout",
     "output_type": "stream",
     "text": [
      "\u001B[1;3;38;2;155;135;227m> Running module input with input: \n",
      "input: What is ECS?\n",
      "\n",
      "\u001B[0m\u001B[1;3;38;2;155;135;227m> Running module retriever with input: \n",
      "input: What is ECS?\n",
      "\n",
      "\u001B[0m\u001B[1;3;38;2;155;135;227m> Running module summarizer with input: \n",
      "query_str: What is ECS?\n",
      "nodes: [NodeWithScore(node=TextNode(id_='d6c6fefd-5661-4ffe-b2e2-445b25ab1a4f', embedding=[0.012504828, 0.010405679, -0.008479728, -0.016335947, -0.005947587, 0.012504828, -0.013017491, -0.009047815, -0.0069...\n",
      "\n",
      "\u001B[0m"
     ]
    },
    {
     "data": {
      "text/plain": "'ECS stands for Environmental Control System. It is a vital component of the spacecraft module that is responsible for creating a comfortable and safe environment for both astronauts and delicate electronic components onboard the spacecraft. The ECS oversees various aspects of maintaining a hospitable environment in the unforgiving vacuum of space, including stable life support and protection of electronic equipment.'"
     },
     "execution_count": 109,
     "metadata": {},
     "output_type": "execute_result"
    }
   ],
   "source": [
    "response = pipeline.run(input=\"What is ECS?\")\n",
    "response.response"
   ],
   "metadata": {
    "collapsed": false,
    "ExecuteTime": {
     "end_time": "2024-02-11T12:25:38.064716813Z",
     "start_time": "2024-02-11T12:25:36.372519426Z"
    }
   },
   "id": "387b61aa4e4d02f4",
   "execution_count": 109
  },
  {
   "cell_type": "markdown",
   "source": [
    "## Evaluation"
   ],
   "metadata": {
    "collapsed": false
   },
   "id": "3c8ad7410b3fd3df"
  },
  {
   "cell_type": "code",
   "outputs": [],
   "source": [
    "from trulens_eval import Tru\n",
    "\n",
    "tru = Tru()"
   ],
   "metadata": {
    "collapsed": false,
    "ExecuteTime": {
     "end_time": "2024-02-11T11:19:17.674022709Z",
     "start_time": "2024-02-11T11:19:17.669441625Z"
    }
   },
   "id": "c4255902900dd745",
   "execution_count": 98
  },
  {
   "cell_type": "code",
   "outputs": [],
   "source": [
    "from trulens_eval.feedback.provider.openai import OpenAI\n",
    "\n",
    "openai = OpenAI()"
   ],
   "metadata": {
    "collapsed": false,
    "ExecuteTime": {
     "end_time": "2024-02-11T11:19:19.005218738Z",
     "start_time": "2024-02-11T11:19:18.960071206Z"
    }
   },
   "id": "84b5525c2eedcacc",
   "execution_count": 99
  },
  {
   "cell_type": "code",
   "outputs": [
    {
     "name": "stdout",
     "output_type": "stream",
     "text": [
      "✅ In Response Relevance, input prompt will be set to __record__.main_input or `Select.RecordInput` .\n",
      "✅ In Response Relevance, input response will be set to __record__.main_output or `Select.RecordOutput` .\n"
     ]
    }
   ],
   "source": [
    "from trulens_eval import Feedback\n",
    "\n",
    "# response relevance\n",
    "f_qa_relevance = Feedback(openai.relevance, name=\"Response Relevance\").on_input_output()"
   ],
   "metadata": {
    "collapsed": false,
    "ExecuteTime": {
     "end_time": "2024-02-11T11:19:19.995089424Z",
     "start_time": "2024-02-11T11:19:19.972020100Z"
    }
   },
   "id": "2948de0ba1c2078a",
   "execution_count": 100
  },
  {
   "cell_type": "code",
   "outputs": [],
   "source": [
    "from trulens_eval import TruLlama, TruBasicApp\n",
    "from typing import Callable\n",
    "\n",
    "\n",
    "def tru_query_pipeline_wrapper(query_pipeline: QueryPipeline) -> Callable[[str], str]:\n",
    "    def run(prompt: str) -> str:\n",
    "        response = query_pipeline.run(input=prompt)\n",
    "        return response.response\n",
    "\n",
    "    return run\n",
    "\n",
    "\n",
    "tru_recorder = TruBasicApp(\n",
    "    tru_query_pipeline_wrapper(query_pipeline=pipeline),\n",
    "    app_id=\"pipeline v1\",\n",
    "    feedbacks=[f_qa_relevance]\n",
    ")"
   ],
   "metadata": {
    "collapsed": false,
    "ExecuteTime": {
     "end_time": "2024-02-11T11:19:21.642892697Z",
     "start_time": "2024-02-11T11:19:21.607328150Z"
    }
   },
   "id": "2b851c347c628850",
   "execution_count": 101
  },
  {
   "cell_type": "code",
   "outputs": [
    {
     "name": "stdout",
     "output_type": "stream",
     "text": [
      "\u001B[1;3;38;2;155;135;227m> Running module input with input: \n",
      "input: How can I turn off the ECS controller?\n",
      "\n",
      "\u001B[0m\u001B[1;3;38;2;155;135;227m> Running module retriever with input: \n",
      "input: How can I turn off the ECS controller?\n",
      "\n",
      "\u001B[0m\u001B[1;3;38;2;155;135;227m> Running module summarizer with input: \n",
      "query_str: How can I turn off the ECS controller?\n",
      "nodes: [NodeWithScore(node=TextNode(id_='4db1ec04-695a-4e87-8484-cec616bedd38', embedding=[0.012828164, 0.0089711435, -0.006985492, -0.02905622, -0.00053569727, 0.024070663, -0.0070604896, -0.02449922, -0.00...\n",
      "\n",
      "\u001B[0mTo turn off the ECS controller, you can use the `set` command with the appropriate configuration. However, the specific command to turn off the ECS controller is not provided in the given context information.\n"
     ]
    }
   ],
   "source": [
    "with tru_recorder as recording:\n",
    "    response = tru_recorder.app(\"How can I turn off the ECS controller?\")\n",
    "    print(response)"
   ],
   "metadata": {
    "collapsed": false,
    "ExecuteTime": {
     "end_time": "2024-02-11T11:19:24.088429461Z",
     "start_time": "2024-02-11T11:19:22.596062172Z"
    }
   },
   "id": "5e9e6b29bec24805",
   "execution_count": 102
  },
  {
   "cell_type": "code",
   "outputs": [
    {
     "name": "stdout",
     "output_type": "stream",
     "text": [
      "Starting dashboard ...\n",
      "Config file already exists. Skipping writing process.\n",
      "Credentials file already exists. Skipping writing process.\n",
      "Dashboard already running at path:   Network URL: http://192.168.178.44:8501\n"
     ]
    },
    {
     "data": {
      "text/plain": "<Popen: returncode: None args: ['streamlit', 'run', '--server.headless=True'...>"
     },
     "execution_count": 103,
     "metadata": {},
     "output_type": "execute_result"
    }
   ],
   "source": [
    "tru.run_dashboard()"
   ],
   "metadata": {
    "collapsed": false,
    "ExecuteTime": {
     "end_time": "2024-02-11T11:19:26.512799566Z",
     "start_time": "2024-02-11T11:19:26.509356128Z"
    }
   },
   "id": "7634ebff71892434",
   "execution_count": 103
  },
  {
   "cell_type": "code",
   "outputs": [],
   "source": [
    "tru.stop_dashboard()"
   ],
   "metadata": {
    "collapsed": false,
    "ExecuteTime": {
     "end_time": "2024-02-11T11:19:38.236349868Z",
     "start_time": "2024-02-11T11:19:38.231265817Z"
    }
   },
   "id": "48bd80a2222f5609",
   "execution_count": 104
  }
 ],
 "metadata": {
  "kernelspec": {
   "display_name": "Python 3",
   "language": "python",
   "name": "python3"
  },
  "language_info": {
   "codemirror_mode": {
    "name": "ipython",
    "version": 2
   },
   "file_extension": ".py",
   "mimetype": "text/x-python",
   "name": "python",
   "nbconvert_exporter": "python",
   "pygments_lexer": "ipython2",
   "version": "2.7.6"
  }
 },
 "nbformat": 4,
 "nbformat_minor": 5
}
