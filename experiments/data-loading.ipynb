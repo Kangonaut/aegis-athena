{
 "cells": [
  {
   "cell_type": "code",
   "outputs": [
    {
     "data": {
      "text/plain": "True"
     },
     "execution_count": 48,
     "metadata": {},
     "output_type": "execute_result"
    }
   ],
   "source": [
    "import dotenv\n",
    "\n",
    "dotenv.load_dotenv()"
   ],
   "metadata": {
    "collapsed": false,
    "ExecuteTime": {
     "end_time": "2024-02-10T16:55:33.896039437Z",
     "start_time": "2024-02-10T16:55:33.891335787Z"
    }
   },
   "id": "6f7a23b8c2e23909",
   "execution_count": 48
  },
  {
   "cell_type": "markdown",
   "source": [
    "## Init Client"
   ],
   "metadata": {
    "collapsed": false
   },
   "id": "6c49f9108066a66"
  },
  {
   "cell_type": "code",
   "execution_count": 46,
   "id": "initial_id",
   "metadata": {
    "collapsed": true,
    "ExecuteTime": {
     "end_time": "2024-02-10T16:55:27.398458557Z",
     "start_time": "2024-02-10T16:55:27.218601035Z"
    }
   },
   "outputs": [],
   "source": [
    "from rag import weaviate_utils\n",
    "\n",
    "client = weaviate_utils.get_weaviate_client()"
   ]
  },
  {
   "cell_type": "markdown",
   "source": [
    "## Load Markdown"
   ],
   "metadata": {
    "collapsed": false
   },
   "id": "6bf85166ac09dbfe"
  },
  {
   "cell_type": "code",
   "outputs": [],
   "source": [
    "from llama_index import SimpleDirectoryReader\n",
    "from llama_index import Document\n",
    "import os\n",
    "\n",
    "dir_path: str = os.path.join(\"../mission-docs\")\n",
    "reader = SimpleDirectoryReader(\n",
    "    input_dir=dir_path,\n",
    "    required_exts=[\".md\"],\n",
    ")"
   ],
   "metadata": {
    "collapsed": false,
    "ExecuteTime": {
     "end_time": "2024-02-10T17:10:07.289374502Z",
     "start_time": "2024-02-10T17:10:07.283061144Z"
    }
   },
   "id": "d62701b1c21daf57",
   "execution_count": 75
  },
  {
   "cell_type": "code",
   "outputs": [
    {
     "data": {
      "text/plain": "Document(id_='46d3e062-7b64-4985-aee3-5a1df53f2948', embedding=None, metadata={'file_path': '../mission-docs/console.md', 'file_name': 'console.md', 'file_type': 'text/markdown', 'file_size': 41188, 'creation_date': '2024-02-10', 'last_modified_date': '2024-02-10', 'last_accessed_date': '2024-02-10'}, excluded_embed_metadata_keys=['file_name', 'file_type', 'file_size', 'creation_date', 'last_modified_date', 'last_accessed_date'], excluded_llm_metadata_keys=['file_name', 'file_type', 'file_size', 'creation_date', 'last_modified_date', 'last_accessed_date'], relationships={}, text='\\n\\n3 Console\\n\\n', start_char_idx=None, end_char_idx=None, text_template='{metadata_str}\\n\\n{content}', metadata_template='{key}: {value}', metadata_seperator='\\n')"
     },
     "execution_count": 78,
     "metadata": {},
     "output_type": "execute_result"
    }
   ],
   "source": [
    "documents: list[Document] = reader.load_data()\n",
    "\n",
    "documents[0]"
   ],
   "metadata": {
    "collapsed": false,
    "ExecuteTime": {
     "end_time": "2024-02-10T17:10:25.283092414Z",
     "start_time": "2024-02-10T17:10:25.239102040Z"
    }
   },
   "id": "f5240dc45662984c",
   "execution_count": 78
  },
  {
   "cell_type": "code",
   "outputs": [],
   "source": [
    "def join_docs(docs: list[Document]) -> list[Document]:\n",
    "    # group docs by file\n",
    "    file_docs: dict[str, list[Document]] = {}\n",
    "    for doc in docs:\n",
    "        file_name = doc.metadata[\"file_name\"]\n",
    "        if file_name not in file_docs:\n",
    "            file_docs[file_name] = []\n",
    "        file_docs[file_name].append(doc)\n",
    "\n",
    "    # join docs of the same file\n",
    "    return [Document(\n",
    "        text=\"\\n\\n\".join(\n",
    "            map(lambda x: x.text, docs),\n",
    "        ),\n",
    "        metadata={\n",
    "            \"chapter\": docs[0].text.strip(),\n",
    "        },\n",
    "    ) for docs in file_docs.values()]"
   ],
   "metadata": {
    "collapsed": false,
    "ExecuteTime": {
     "end_time": "2024-02-10T16:54:48.796304797Z",
     "start_time": "2024-02-10T16:54:48.788418150Z"
    }
   },
   "id": "2634c196f7d2d9f4",
   "execution_count": 40
  },
  {
   "cell_type": "markdown",
   "source": [
    "## Import into Weaviate"
   ],
   "metadata": {
    "collapsed": false
   },
   "id": "5e17ba8806e7070a"
  },
  {
   "cell_type": "code",
   "outputs": [],
   "source": [
    "from llama_index.vector_stores import WeaviateVectorStore\n",
    "\n",
    "CLASS_NAME: str = \"DocsChunk\"\n",
    "\n",
    "# create class\n",
    "vector_store = WeaviateVectorStore(\n",
    "    weaviate_client=client,\n",
    "    index_name=CLASS_NAME,\n",
    "    text_key=\"chunk\",\n",
    ")"
   ],
   "metadata": {
    "collapsed": false,
    "ExecuteTime": {
     "end_time": "2024-02-10T17:15:20.183497335Z",
     "start_time": "2024-02-10T17:15:20.141986918Z"
    }
   },
   "id": "f182d029245be37f",
   "execution_count": 94
  },
  {
   "cell_type": "code",
   "outputs": [
    {
     "data": {
      "text/plain": "False"
     },
     "execution_count": 95,
     "metadata": {},
     "output_type": "execute_result"
    }
   ],
   "source": [
    "from weaviate import Client\n",
    "\n",
    "def is_populated(weaviate_client: Client, class_name: str) -> bool:\n",
    "    if not client.schema.exists(class_name):\n",
    "        return False\n",
    "    result = weaviate_client.query.aggregate(class_name).with_meta_count().do()\n",
    "    return result[\"data\"][\"Aggregate\"][class_name][0][\"meta\"][\"count\"] != 0\n",
    "    \n",
    "is_populated(client, class_name=CLASS_NAME)"
   ],
   "metadata": {
    "collapsed": false,
    "ExecuteTime": {
     "end_time": "2024-02-10T17:15:22.204404605Z",
     "start_time": "2024-02-10T17:15:22.195103051Z"
    }
   },
   "id": "d26622f25f97c1bd",
   "execution_count": 95
  },
  {
   "cell_type": "code",
   "outputs": [
    {
     "data": {
      "text/plain": "Generating embeddings:   0%|          | 0/133 [00:00<?, ?it/s]",
      "application/vnd.jupyter.widget-view+json": {
       "version_major": 2,
       "version_minor": 0,
       "model_id": "dc45dac8654245c9a38d335bebd44726"
      }
     },
     "metadata": {},
     "output_type": "display_data"
    }
   ],
   "source": [
    "from llama_index import VectorStoreIndex, StorageContext\n",
    "\n",
    "# populate database\n",
    "if is_populated(client, class_name=CLASS_NAME):\n",
    "    index = VectorStoreIndex.from_vector_store(vector_store)\n",
    "else:\n",
    "    storage_context = StorageContext.from_defaults(vector_store=vector_store)\n",
    "    index = VectorStoreIndex(\n",
    "        nodes=documents,\n",
    "        storage_context=storage_context,\n",
    "        show_progress=True,\n",
    "    )"
   ],
   "metadata": {
    "collapsed": false,
    "ExecuteTime": {
     "end_time": "2024-02-10T17:15:28.155984333Z",
     "start_time": "2024-02-10T17:15:24.444152498Z"
    }
   },
   "id": "9d245f9e720874fb",
   "execution_count": 96
  },
  {
   "cell_type": "markdown",
   "source": [
    "## Query Test"
   ],
   "metadata": {
    "collapsed": false
   },
   "id": "ff49b8d4ecf91465"
  },
  {
   "cell_type": "code",
   "outputs": [],
   "source": [
    "query_engine = index.as_query_engine()"
   ],
   "metadata": {
    "collapsed": false,
    "ExecuteTime": {
     "end_time": "2024-02-10T17:15:30.172395737Z",
     "start_time": "2024-02-10T17:15:30.169155533Z"
    }
   },
   "id": "44d945c69119add",
   "execution_count": 97
  },
  {
   "cell_type": "code",
   "outputs": [
    {
     "name": "stdout",
     "output_type": "stream",
     "text": [
      "The esteemed Terrestrial Human's Republic operates the Aegis Athena mission.\n"
     ]
    }
   ],
   "source": [
    "response = query_engine.query(\"Who operates the Aegis Athena mission?\")\n",
    "\n",
    "print(response.response)"
   ],
   "metadata": {
    "collapsed": false,
    "ExecuteTime": {
     "end_time": "2024-02-10T17:15:32.433570777Z",
     "start_time": "2024-02-10T17:15:30.916835010Z"
    }
   },
   "id": "5eec2a1767e21970",
   "execution_count": 98
  },
  {
   "cell_type": "code",
   "outputs": [
    {
     "name": "stdout",
     "output_type": "stream",
     "text": [
      "Chunk #0: \n",
      "\n",
      "3.1 Introduction\n",
      "\n",
      "The Aegis Athena space mission is an illustrious epitome of such a pursuit. Primarily destined to accomplish a monumental milestone of delivering the first human astronaut to the lunar surface, this visionary mission is governed by a sophisticated piece of technology known as the S.P.A.C.E.C.R.A.F.T. console.\n",
      "\n",
      "This highly innovative system adopts a dual-purpose role, integrating the essential features of both a command model and a service module. This strategically harmonious blend of utilitarian efficiency and comforting resources paves the way for an environment conducive for the astronaut-trio executing this expedition, turning it into a virtual sanctuary amidst the vast cosmos. The S.P.A.C.E.C.R.A.F.T. console operates with a plethora of commands, designed to modify the inherent system configurations and retrieve state-of-the-art status information. Such telemetry data is indubitably critical in assessing the spacecraft's performance and securing the triumphant fruition of the mission's objectives.\n",
      "\n",
      "\n",
      "\n",
      "\n",
      "Chunk #1: \n",
      "\n",
      "1 Aegis Athena - Introduction\n",
      "\n",
      "Aegis Athena is a notable designation for an ambitious space venture orchestrated by the esteemed Terrestrial Human's Republic.\n",
      "\n",
      "\n",
      "\n",
      "\n",
      "Chunk #2: \n",
      "\n",
      "1.3.1 Establishing a Communication Link\n",
      "\n",
      "Critical to the success of all space missions, and a nearly indispensable component of Aegis Athena, is the erection and constant upholding of a covetable space-Earth communication link. This advanced system of communications will serve as the lifeline between the daring astronauts traversing the alien lunar terrain and the team of tirelessly working experts at mission control back on Earth.\n",
      "\n",
      "This high-quality communication link will, with the aid of cutting-edge technology, allow two-way transmission of both voice and data, letting our astronauts report discoveries in real time, and keep him accurately informed of any mission adjustments required. This objective is not just crucial to Aegis Athena but also illuminates the path to future space exploration missions that venture further into the cosmos.\n",
      "\n",
      "Priority: Medium\n",
      "\n",
      "\n",
      "\n",
      "\n",
      "Chunk #3: \n",
      "\n",
      "1.3.6.1 Prioritizing Return and Associated Reasons\n",
      "\n",
      "While orchestrating the operational guidelines for Aegis Athena, the varying degrees of priority accorded to individual elements of the mission were scrupulously weighed and assigned in accordance with the mission's core objectives and overarching narrative.\n",
      "\n",
      "The principle objective of Aegis Athena, as has been ingrained in the mission manifesto, is to achieve human presence on the lunar surface. Practically, this accounts for the navigation of an arduous trajectory through space, culminating in the successful Lunar Landing. The safe return of the crew stands as a distinct, and consequently, secondary part of this primary objective.\n",
      "\n",
      "Ascertaining the safe return of the astronauts would undoubtedly entail further complexity, risk, and resources, factors that might potentially divert focus and funds from the initial but paramount goal - landing on the lunar surface. This increased complexity stems from the requirements for preparing the lunar module for liftoff from the lunar surface, the required fuel reserves, added safety measures, and a meticulously calculated Earth re-entry strategy to ensure safe splashdown and recovery.\n",
      "\n",
      "Given the mission's utilitarian approach and the geopolitical imperative of being the first to achieve this milestone, even at considerable risk, the task of the crew’s safe return is acknowledged as a low priority.\n",
      "\n",
      "However, it must be stressed that this doesn't exclude efforts directed toward ensuring a safe return. The Athena spacecraft, at the helm of which our intrepid astronauts will guide us through this grand endeavor, is embedded with advanced life support systems, top-tier engineering protocols for challenging situations, and a robust design that stands ready to weather the unpredictable conditions of space and atmospheric re-entry. Yet, the realities and the overall priorities of the mission necessitate this lower priority status for the safe return leg of the mission.\n",
      "\n",
      "\n",
      "\n",
      "\n",
      "Chunk #4: \n",
      "\n",
      "1.1 Mission Statement\n",
      "\n",
      "\"Aegis Athena,\" the proclaimed title of our mission, encapsulates an immensely critical objective at its heart - to actualize the journey of the very first human being to the uncharted terrains of the lunar surface. This mission does not merely stand as a testament to human ambition and scientific achievement, but also serves a geopolitical purpose, chiefly, to establish and emphasize our celestial superiority in the face of the Guild.\n",
      "\n",
      "On account of our adversaries, the mission has evolved an undertone of urgency. This purposeful venture is both our shield and spear in the vast expanse of space, underlining our capacity to transcend boundaries and persevere even when faced with the most immeasurable of odds.\n",
      "\n",
      "\n",
      "\n"
     ]
    }
   ],
   "source": [
    "response = client.query.get(\n",
    "    CLASS_NAME,\n",
    "    properties=[\"chunk\"]\n",
    ").with_near_text({\n",
    "    \"concepts\": [\"Who operate the Aegis Athena mission?\"]\n",
    "}).do()\n",
    "\n",
    "for idx, doc in enumerate(response[\"data\"][\"Get\"][\"DocsChunk\"][:5]):\n",
    "    chunk = doc[\"chunk\"]\n",
    "    print(f\"Chunk #{idx}: {chunk}\\n\\n\")"
   ],
   "metadata": {
    "collapsed": false,
    "ExecuteTime": {
     "end_time": "2024-02-10T17:19:56.993527792Z",
     "start_time": "2024-02-10T17:19:56.600113382Z"
    }
   },
   "id": "299f1719b4605985",
   "execution_count": 109
  }
 ],
 "metadata": {
  "kernelspec": {
   "display_name": "Python 3",
   "language": "python",
   "name": "python3"
  },
  "language_info": {
   "codemirror_mode": {
    "name": "ipython",
    "version": 2
   },
   "file_extension": ".py",
   "mimetype": "text/x-python",
   "name": "python",
   "nbconvert_exporter": "python",
   "pygments_lexer": "ipython2",
   "version": "2.7.6"
  }
 },
 "nbformat": 4,
 "nbformat_minor": 5
}
