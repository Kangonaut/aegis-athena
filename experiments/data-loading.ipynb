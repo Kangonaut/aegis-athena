{
 "cells": [
  {
   "cell_type": "code",
   "outputs": [
    {
     "data": {
      "text/plain": "True"
     },
     "execution_count": 6,
     "metadata": {},
     "output_type": "execute_result"
    }
   ],
   "source": [
    "import dotenv\n",
    "\n",
    "dotenv.load_dotenv()"
   ],
   "metadata": {
    "collapsed": false,
    "ExecuteTime": {
     "end_time": "2024-02-12T11:19:32.245879349Z",
     "start_time": "2024-02-12T11:19:32.236458241Z"
    }
   },
   "id": "6f7a23b8c2e23909",
   "execution_count": 6
  },
  {
   "cell_type": "markdown",
   "source": [
    "## Init Client"
   ],
   "metadata": {
    "collapsed": false
   },
   "id": "6c49f9108066a66"
  },
  {
   "cell_type": "code",
   "execution_count": 7,
   "id": "initial_id",
   "metadata": {
    "collapsed": true,
    "ExecuteTime": {
     "end_time": "2024-02-12T11:19:33.663265873Z",
     "start_time": "2024-02-12T11:19:33.499534033Z"
    }
   },
   "outputs": [],
   "source": [
    "from rag import weaviate_utils\n",
    "\n",
    "client = weaviate_utils.get_weaviate_client()"
   ]
  },
  {
   "cell_type": "markdown",
   "source": [
    "## Load Markdown"
   ],
   "metadata": {
    "collapsed": false
   },
   "id": "6bf85166ac09dbfe"
  },
  {
   "cell_type": "code",
   "outputs": [
    {
     "data": {
      "text/plain": "Document(id_='4146f49b-880a-45c4-8165-8f5c1f879168', embedding=None, metadata={'file_path': '../mission-docs/console.md', 'file_name': 'console.md', 'file_type': 'text/markdown', 'file_size': 41188, 'creation_date': '2024-02-10', 'last_modified_date': '2024-02-10', 'last_accessed_date': '2024-02-12'}, excluded_embed_metadata_keys=['file_name', 'file_type', 'file_size', 'creation_date', 'last_modified_date', 'last_accessed_date'], excluded_llm_metadata_keys=['file_name', 'file_type', 'file_size', 'creation_date', 'last_modified_date', 'last_accessed_date'], relationships={}, text='\\n\\n3 Console\\n\\n', start_char_idx=None, end_char_idx=None, text_template='{metadata_str}\\n\\n{content}', metadata_template='{key}: {value}', metadata_seperator='\\n')"
     },
     "execution_count": 8,
     "metadata": {},
     "output_type": "execute_result"
    }
   ],
   "source": [
    "from llama_index import Document\n",
    "\n",
    "from rag import load_utils\n",
    "\n",
    "documents: list[Document] = load_utils.load_data_dir(dir_path=\"../mission-docs\")\n",
    "\n",
    "documents[0]"
   ],
   "metadata": {
    "collapsed": false,
    "ExecuteTime": {
     "end_time": "2024-02-12T11:19:34.688259163Z",
     "start_time": "2024-02-12T11:19:34.676879726Z"
    }
   },
   "id": "f5240dc45662984c",
   "execution_count": 8
  },
  {
   "cell_type": "markdown",
   "source": [
    "## Import into Weaviate"
   ],
   "metadata": {
    "collapsed": false
   },
   "id": "5e17ba8806e7070a"
  },
  {
   "cell_type": "code",
   "outputs": [
    {
     "name": "stderr",
     "output_type": "stream",
     "text": [
      "/home/kangonaut/data/aegis-athena/venv/lib/python3.11/site-packages/weaviate/__init__.py:128: DeprecationWarning: Dep010: Importing AuthApiKey from weaviate is deprecated. Please import it from its specific module: weaviate.auth\n",
      "  _Warnings.root_module_import(name, map_[name])\n"
     ]
    }
   ],
   "source": [
    "from rag import weaviate_utils\n",
    "\n",
    "CLASS_NAME = \"MarkdownDocsChunk\"\n",
    "vector_store = weaviate_utils.as_vector_store(client, CLASS_NAME)"
   ],
   "metadata": {
    "collapsed": false,
    "ExecuteTime": {
     "end_time": "2024-02-12T11:19:35.901339872Z",
     "start_time": "2024-02-12T11:19:35.879211736Z"
    }
   },
   "id": "f182d029245be37f",
   "execution_count": 9
  },
  {
   "cell_type": "code",
   "outputs": [
    {
     "data": {
      "text/plain": "Generating embeddings:   0%|          | 0/133 [00:00<?, ?it/s]",
      "application/vnd.jupyter.widget-view+json": {
       "version_major": 2,
       "version_minor": 0,
       "model_id": "bc2cf5db76c2437695edea5471175f88"
      }
     },
     "metadata": {},
     "output_type": "display_data"
    }
   ],
   "source": [
    "from llama_index import VectorStoreIndex, StorageContext\n",
    "from rag import weaviate_utils, index_utils\n",
    "\n",
    "# populate database\n",
    "if weaviate_utils.is_populated(client, class_name=CLASS_NAME):\n",
    "    index = VectorStoreIndex.from_vector_store(vector_store)\n",
    "else:\n",
    "    # populate\n",
    "    storage_context = StorageContext.from_defaults(vector_store=vector_store)\n",
    "    index = index_utils.populate_index(storage_context, documents)"
   ],
   "metadata": {
    "collapsed": false,
    "ExecuteTime": {
     "end_time": "2024-02-12T11:19:42.936958230Z",
     "start_time": "2024-02-12T11:19:38.773582635Z"
    }
   },
   "id": "9d245f9e720874fb",
   "execution_count": 10
  },
  {
   "cell_type": "markdown",
   "source": [
    "## Query Test"
   ],
   "metadata": {
    "collapsed": false
   },
   "id": "ff49b8d4ecf91465"
  },
  {
   "cell_type": "code",
   "outputs": [],
   "source": [
    "query_engine = index.as_query_engine()"
   ],
   "metadata": {
    "collapsed": false,
    "ExecuteTime": {
     "end_time": "2024-02-12T11:19:45.760640560Z",
     "start_time": "2024-02-12T11:19:45.647478013Z"
    }
   },
   "id": "44d945c69119add",
   "execution_count": 11
  },
  {
   "cell_type": "code",
   "outputs": [
    {
     "name": "stdout",
     "output_type": "stream",
     "text": [
      "The ECS controller could be malfunctioning due to various reasons such as incorrect configurations of the subsystems, a failure in one or more of the essential subsystems (Water Management Section, Oxygen Supply and Cabin Pressure Control Section, Atmosphere Revitalization System, and Heat Transport Section), or a technical issue with the controller itself.\n"
     ]
    }
   ],
   "source": [
    "response = query_engine.query(\"The ECS controller is malfunctioning, why could that be?\")\n",
    "\n",
    "print(response.response)"
   ],
   "metadata": {
    "collapsed": false,
    "ExecuteTime": {
     "end_time": "2024-02-12T11:19:49.409244550Z",
     "start_time": "2024-02-12T11:19:46.542073063Z"
    }
   },
   "id": "5eec2a1767e21970",
   "execution_count": 12
  },
  {
   "cell_type": "code",
   "outputs": [
    {
     "name": "stdout",
     "output_type": "stream",
     "text": [
      "Chunk #0: \n",
      "\n",
      "3.1 Introduction\n",
      "\n",
      "The Aegis Athena space mission is an illustrious epitome of such a pursuit. Primarily destined to accomplish a monumental milestone of delivering the first human astronaut to the lunar surface, this visionary mission is governed by a sophisticated piece of technology known as the S.P.A.C.E.C.R.A.F.T. console.\n",
      "\n",
      "This highly innovative system adopts a dual-purpose role, integrating the essential features of both a command model and a service module. This strategically harmonious blend of utilitarian efficiency and comforting resources paves the way for an environment conducive for the astronaut-trio executing this expedition, turning it into a virtual sanctuary amidst the vast cosmos. The S.P.A.C.E.C.R.A.F.T. console operates with a plethora of commands, designed to modify the inherent system configurations and retrieve state-of-the-art status information. Such telemetry data is indubitably critical in assessing the spacecraft's performance and securing the triumphant fruition of the mission's objectives.\n",
      "\n",
      "\n",
      "\n",
      "\n",
      "Chunk #1: \n",
      "\n",
      "1 Aegis Athena - Introduction\n",
      "\n",
      "Aegis Athena is a notable designation for an ambitious space venture orchestrated by the esteemed Terrestrial Human's Republic.\n",
      "\n",
      "\n",
      "\n",
      "\n",
      "Chunk #2: \n",
      "\n",
      "1.3.1 Establishing a Communication Link\n",
      "\n",
      "Critical to the success of all space missions, and a nearly indispensable component of Aegis Athena, is the erection and constant upholding of a covetable space-Earth communication link. This advanced system of communications will serve as the lifeline between the daring astronauts traversing the alien lunar terrain and the team of tirelessly working experts at mission control back on Earth.\n",
      "\n",
      "This high-quality communication link will, with the aid of cutting-edge technology, allow two-way transmission of both voice and data, letting our astronauts report discoveries in real time, and keep him accurately informed of any mission adjustments required. This objective is not just crucial to Aegis Athena but also illuminates the path to future space exploration missions that venture further into the cosmos.\n",
      "\n",
      "Priority: Medium\n",
      "\n",
      "\n",
      "\n",
      "\n",
      "Chunk #3: \n",
      "\n",
      "1.1 Mission Statement\n",
      "\n",
      "\"Aegis Athena,\" the proclaimed title of our mission, encapsulates an immensely critical objective at its heart - to actualize the journey of the very first human being to the uncharted terrains of the lunar surface. This mission does not merely stand as a testament to human ambition and scientific achievement, but also serves a geopolitical purpose, chiefly, to establish and emphasize our celestial superiority in the face of the Guild.\n",
      "\n",
      "On account of our adversaries, the mission has evolved an undertone of urgency. This purposeful venture is both our shield and spear in the vast expanse of space, underlining our capacity to transcend boundaries and persevere even when faced with the most immeasurable of odds.\n",
      "\n",
      "\n",
      "\n",
      "\n",
      "Chunk #4: \n",
      "\n",
      "1.3.6.1 Prioritizing Return and Associated Reasons\n",
      "\n",
      "While orchestrating the operational guidelines for Aegis Athena, the varying degrees of priority accorded to individual elements of the mission were scrupulously weighed and assigned in accordance with the mission's core objectives and overarching narrative.\n",
      "\n",
      "The principle objective of Aegis Athena, as has been ingrained in the mission manifesto, is to achieve human presence on the lunar surface. Practically, this accounts for the navigation of an arduous trajectory through space, culminating in the successful Lunar Landing. The safe return of the crew stands as a distinct, and consequently, secondary part of this primary objective.\n",
      "\n",
      "Ascertaining the safe return of the astronauts would undoubtedly entail further complexity, risk, and resources, factors that might potentially divert focus and funds from the initial but paramount goal - landing on the lunar surface. This increased complexity stems from the requirements for preparing the lunar module for liftoff from the lunar surface, the required fuel reserves, added safety measures, and a meticulously calculated Earth re-entry strategy to ensure safe splashdown and recovery.\n",
      "\n",
      "Given the mission's utilitarian approach and the geopolitical imperative of being the first to achieve this milestone, even at considerable risk, the task of the crew’s safe return is acknowledged as a low priority.\n",
      "\n",
      "However, it must be stressed that this doesn't exclude efforts directed toward ensuring a safe return. The Athena spacecraft, at the helm of which our intrepid astronauts will guide us through this grand endeavor, is embedded with advanced life support systems, top-tier engineering protocols for challenging situations, and a robust design that stands ready to weather the unpredictable conditions of space and atmospheric re-entry. Yet, the realities and the overall priorities of the mission necessitate this lower priority status for the safe return leg of the mission.\n",
      "\n",
      "\n",
      "\n"
     ]
    }
   ],
   "source": [
    "response = client.query.get(\n",
    "    CLASS_NAME,\n",
    "    properties=[\"chunk\"]\n",
    ").with_near_text({\n",
    "    \"concepts\": [\"Who operates the Aegis Athena mission?\"]\n",
    "}).do()\n",
    "\n",
    "for idx, doc in enumerate(response[\"data\"][\"Get\"][CLASS_NAME][:5]):\n",
    "    chunk = doc[\"chunk\"]\n",
    "    print(f\"Chunk #{idx}: {chunk}\\n\\n\")"
   ],
   "metadata": {
    "collapsed": false,
    "ExecuteTime": {
     "end_time": "2024-02-12T11:19:58.276379429Z",
     "start_time": "2024-02-12T11:19:57.628190137Z"
    }
   },
   "id": "299f1719b4605985",
   "execution_count": 14
  }
 ],
 "metadata": {
  "kernelspec": {
   "display_name": "Python 3",
   "language": "python",
   "name": "python3"
  },
  "language_info": {
   "codemirror_mode": {
    "name": "ipython",
    "version": 2
   },
   "file_extension": ".py",
   "mimetype": "text/x-python",
   "name": "python",
   "nbconvert_exporter": "python",
   "pygments_lexer": "ipython2",
   "version": "2.7.6"
  }
 },
 "nbformat": 4,
 "nbformat_minor": 5
}
