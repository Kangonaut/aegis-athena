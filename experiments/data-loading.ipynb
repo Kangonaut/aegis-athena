{
 "cells": [
  {
   "cell_type": "code",
   "outputs": [
    {
     "data": {
      "text/plain": "True"
     },
     "execution_count": 1,
     "metadata": {},
     "output_type": "execute_result"
    }
   ],
   "source": [
    "import dotenv\n",
    "\n",
    "dotenv.load_dotenv()"
   ],
   "metadata": {
    "collapsed": false,
    "ExecuteTime": {
     "end_time": "2024-02-10T20:21:51.239388250Z",
     "start_time": "2024-02-10T20:21:51.238666888Z"
    }
   },
   "id": "6f7a23b8c2e23909",
   "execution_count": 1
  },
  {
   "cell_type": "markdown",
   "source": [
    "## Init Client"
   ],
   "metadata": {
    "collapsed": false
   },
   "id": "6c49f9108066a66"
  },
  {
   "cell_type": "code",
   "execution_count": 12,
   "id": "initial_id",
   "metadata": {
    "collapsed": true,
    "ExecuteTime": {
     "end_time": "2024-02-10T20:22:06.540066905Z",
     "start_time": "2024-02-10T20:22:06.377704437Z"
    }
   },
   "outputs": [],
   "source": [
    "from rag import weaviate_utils\n",
    "\n",
    "client = weaviate_utils.get_weaviate_client()"
   ]
  },
  {
   "cell_type": "markdown",
   "source": [
    "## Load Markdown"
   ],
   "metadata": {
    "collapsed": false
   },
   "id": "6bf85166ac09dbfe"
  },
  {
   "cell_type": "code",
   "outputs": [
    {
     "data": {
      "text/plain": "Document(id_='7179eb88-809d-4cfe-83fb-fd91b913298b', embedding=None, metadata={'file_path': '../mission-docs/console.md', 'file_name': 'console.md', 'file_type': 'text/markdown', 'file_size': 41188, 'creation_date': '2024-02-10', 'last_modified_date': '2024-02-10', 'last_accessed_date': '2024-02-10'}, excluded_embed_metadata_keys=['file_name', 'file_type', 'file_size', 'creation_date', 'last_modified_date', 'last_accessed_date'], excluded_llm_metadata_keys=['file_name', 'file_type', 'file_size', 'creation_date', 'last_modified_date', 'last_accessed_date'], relationships={}, text='\\n\\n3 Console\\n\\n', start_char_idx=None, end_char_idx=None, text_template='{metadata_str}\\n\\n{content}', metadata_template='{key}: {value}', metadata_seperator='\\n')"
     },
     "execution_count": 3,
     "metadata": {},
     "output_type": "execute_result"
    }
   ],
   "source": [
    "from llama_index import Document\n",
    "\n",
    "from rag import load_utils\n",
    "\n",
    "documents: list[Document] = load_utils.load_data_dir(dir_path=\"../mission-docs\")\n",
    "\n",
    "documents[0]"
   ],
   "metadata": {
    "collapsed": false,
    "ExecuteTime": {
     "end_time": "2024-02-10T20:21:52.827208851Z",
     "start_time": "2024-02-10T20:21:52.814525439Z"
    }
   },
   "id": "f5240dc45662984c",
   "execution_count": 3
  },
  {
   "cell_type": "markdown",
   "source": [
    "## Import into Weaviate"
   ],
   "metadata": {
    "collapsed": false
   },
   "id": "5e17ba8806e7070a"
  },
  {
   "cell_type": "code",
   "outputs": [],
   "source": [
    "from rag import weaviate_utils\n",
    "\n",
    "CLASS_NAME = \"DocsChunk\"\n",
    "vector_store = weaviate_utils.get_as_vector_store(client, CLASS_NAME)"
   ],
   "metadata": {
    "collapsed": false,
    "ExecuteTime": {
     "end_time": "2024-02-10T20:22:03.260787174Z",
     "start_time": "2024-02-10T20:22:03.255761878Z"
    }
   },
   "id": "f182d029245be37f",
   "execution_count": 10
  },
  {
   "cell_type": "code",
   "outputs": [],
   "source": [
    "from llama_index import VectorStoreIndex, StorageContext\n",
    "from rag import weaviate_utils, index_utils\n",
    "\n",
    "# populate database\n",
    "if weaviate_utils.is_populated(client, class_name=CLASS_NAME):\n",
    "    index = VectorStoreIndex.from_vector_store(vector_store)\n",
    "else:\n",
    "    # populate\n",
    "    storage_context = StorageContext.from_defaults(vector_store=vector_store)\n",
    "    index = index_utils.populate_index(storage_context, documents)"
   ],
   "metadata": {
    "collapsed": false,
    "ExecuteTime": {
     "end_time": "2024-02-10T20:21:53.807472471Z",
     "start_time": "2024-02-10T20:21:52.838914652Z"
    }
   },
   "id": "9d245f9e720874fb",
   "execution_count": 5
  },
  {
   "cell_type": "markdown",
   "source": [
    "## Query Test"
   ],
   "metadata": {
    "collapsed": false
   },
   "id": "ff49b8d4ecf91465"
  },
  {
   "cell_type": "code",
   "outputs": [],
   "source": [
    "query_engine = index.as_query_engine()"
   ],
   "metadata": {
    "collapsed": false,
    "ExecuteTime": {
     "end_time": "2024-02-10T20:21:53.940271043Z",
     "start_time": "2024-02-10T20:21:53.808662947Z"
    }
   },
   "id": "44d945c69119add",
   "execution_count": 6
  },
  {
   "cell_type": "code",
   "outputs": [
    {
     "name": "stdout",
     "output_type": "stream",
     "text": [
      "The ECS controller could be malfunctioning due to various reasons such as incorrect configurations of the subsystems, a failure in one or more of the essential subsystems (Water Management Section, Oxygen Supply and Cabin Pressure Control Section, Atmosphere Revitalization System, and Heat Transport Section), or a technical issue with the controller itself.\n"
     ]
    }
   ],
   "source": [
    "response = query_engine.query(\"The ECS controller is malfunctioning, why could that be?\")\n",
    "\n",
    "print(response.response)"
   ],
   "metadata": {
    "collapsed": false,
    "ExecuteTime": {
     "end_time": "2024-02-10T20:21:56.291232691Z",
     "start_time": "2024-02-10T20:21:53.939203396Z"
    }
   },
   "id": "5eec2a1767e21970",
   "execution_count": 7
  },
  {
   "cell_type": "code",
   "outputs": [
    {
     "name": "stdout",
     "output_type": "stream",
     "text": [
      "Chunk #0: \n",
      "\n",
      "3.1 Introduction\n",
      "\n",
      "The Aegis Athena space mission is an illustrious epitome of such a pursuit. Primarily destined to accomplish a monumental milestone of delivering the first human astronaut to the lunar surface, this visionary mission is governed by a sophisticated piece of technology known as the S.P.A.C.E.C.R.A.F.T. console.\n",
      "\n",
      "This highly innovative system adopts a dual-purpose role, integrating the essential features of both a command model and a service module. This strategically harmonious blend of utilitarian efficiency and comforting resources paves the way for an environment conducive for the astronaut-trio executing this expedition, turning it into a virtual sanctuary amidst the vast cosmos. The S.P.A.C.E.C.R.A.F.T. console operates with a plethora of commands, designed to modify the inherent system configurations and retrieve state-of-the-art status information. Such telemetry data is indubitably critical in assessing the spacecraft's performance and securing the triumphant fruition of the mission's objectives.\n",
      "\n",
      "\n",
      "\n",
      "\n",
      "Chunk #1: \n",
      "\n",
      "1 Aegis Athena - Introduction\n",
      "\n",
      "Aegis Athena is a notable designation for an ambitious space venture orchestrated by the esteemed Terrestrial Human's Republic.\n",
      "\n",
      "\n",
      "\n",
      "\n",
      "Chunk #2: \n",
      "\n",
      "1.3.1 Establishing a Communication Link\n",
      "\n",
      "Critical to the success of all space missions, and a nearly indispensable component of Aegis Athena, is the erection and constant upholding of a covetable space-Earth communication link. This advanced system of communications will serve as the lifeline between the daring astronauts traversing the alien lunar terrain and the team of tirelessly working experts at mission control back on Earth.\n",
      "\n",
      "This high-quality communication link will, with the aid of cutting-edge technology, allow two-way transmission of both voice and data, letting our astronauts report discoveries in real time, and keep him accurately informed of any mission adjustments required. This objective is not just crucial to Aegis Athena but also illuminates the path to future space exploration missions that venture further into the cosmos.\n",
      "\n",
      "Priority: Medium\n",
      "\n",
      "\n",
      "\n",
      "\n",
      "Chunk #3: \n",
      "\n",
      "1.1 Mission Statement\n",
      "\n",
      "\"Aegis Athena,\" the proclaimed title of our mission, encapsulates an immensely critical objective at its heart - to actualize the journey of the very first human being to the uncharted terrains of the lunar surface. This mission does not merely stand as a testament to human ambition and scientific achievement, but also serves a geopolitical purpose, chiefly, to establish and emphasize our celestial superiority in the face of the Guild.\n",
      "\n",
      "On account of our adversaries, the mission has evolved an undertone of urgency. This purposeful venture is both our shield and spear in the vast expanse of space, underlining our capacity to transcend boundaries and persevere even when faced with the most immeasurable of odds.\n",
      "\n",
      "\n",
      "\n",
      "\n",
      "Chunk #4: \n",
      "\n",
      "1.3.6.1 Prioritizing Return and Associated Reasons\n",
      "\n",
      "While orchestrating the operational guidelines for Aegis Athena, the varying degrees of priority accorded to individual elements of the mission were scrupulously weighed and assigned in accordance with the mission's core objectives and overarching narrative.\n",
      "\n",
      "The principle objective of Aegis Athena, as has been ingrained in the mission manifesto, is to achieve human presence on the lunar surface. Practically, this accounts for the navigation of an arduous trajectory through space, culminating in the successful Lunar Landing. The safe return of the crew stands as a distinct, and consequently, secondary part of this primary objective.\n",
      "\n",
      "Ascertaining the safe return of the astronauts would undoubtedly entail further complexity, risk, and resources, factors that might potentially divert focus and funds from the initial but paramount goal - landing on the lunar surface. This increased complexity stems from the requirements for preparing the lunar module for liftoff from the lunar surface, the required fuel reserves, added safety measures, and a meticulously calculated Earth re-entry strategy to ensure safe splashdown and recovery.\n",
      "\n",
      "Given the mission's utilitarian approach and the geopolitical imperative of being the first to achieve this milestone, even at considerable risk, the task of the crew’s safe return is acknowledged as a low priority.\n",
      "\n",
      "However, it must be stressed that this doesn't exclude efforts directed toward ensuring a safe return. The Athena spacecraft, at the helm of which our intrepid astronauts will guide us through this grand endeavor, is embedded with advanced life support systems, top-tier engineering protocols for challenging situations, and a robust design that stands ready to weather the unpredictable conditions of space and atmospheric re-entry. Yet, the realities and the overall priorities of the mission necessitate this lower priority status for the safe return leg of the mission.\n",
      "\n",
      "\n",
      "\n"
     ]
    }
   ],
   "source": [
    "response = client.query.get(\n",
    "    CLASS_NAME,\n",
    "    properties=[\"chunk\"]\n",
    ").with_near_text({\n",
    "    \"concepts\": [\"Who operates the Aegis Athena mission?\"]\n",
    "}).do()\n",
    "\n",
    "for idx, doc in enumerate(response[\"data\"][\"Get\"][\"DocsChunk\"][:5]):\n",
    "    chunk = doc[\"chunk\"]\n",
    "    print(f\"Chunk #{idx}: {chunk}\\n\\n\")"
   ],
   "metadata": {
    "collapsed": false,
    "ExecuteTime": {
     "end_time": "2024-02-10T20:22:11.100394257Z",
     "start_time": "2024-02-10T20:22:10.644235475Z"
    }
   },
   "id": "299f1719b4605985",
   "execution_count": 13
  }
 ],
 "metadata": {
  "kernelspec": {
   "display_name": "Python 3",
   "language": "python",
   "name": "python3"
  },
  "language_info": {
   "codemirror_mode": {
    "name": "ipython",
    "version": 2
   },
   "file_extension": ".py",
   "mimetype": "text/x-python",
   "name": "python",
   "nbconvert_exporter": "python",
   "pygments_lexer": "ipython2",
   "version": "2.7.6"
  }
 },
 "nbformat": 4,
 "nbformat_minor": 5
}
