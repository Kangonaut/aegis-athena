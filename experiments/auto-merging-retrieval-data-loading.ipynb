{
 "cells": [
  {
   "cell_type": "code",
   "outputs": [
    {
     "name": "stderr",
     "output_type": "stream",
     "text": [
      "2024-03-09 13:59:50.234 \n",
      "  \u001B[33m\u001B[1mWarning:\u001B[0m to view this Streamlit app on a browser, run it with the following\n",
      "  command:\n",
      "\n",
      "    streamlit run /home/kangonaut/data/aegis-athena/venv/lib/python3.11/site-packages/ipykernel_launcher.py [ARGUMENTS]\n"
     ]
    }
   ],
   "source": [
    "from utils import environment_utils\n",
    "\n",
    "environment_utils.load_env()"
   ],
   "metadata": {
    "collapsed": false,
    "ExecuteTime": {
     "end_time": "2024-03-09T12:59:50.239102Z",
     "start_time": "2024-03-09T12:59:48.087273Z"
    }
   },
   "id": "6f7a23b8c2e23909",
   "execution_count": 2
  },
  {
   "cell_type": "markdown",
   "source": [
    "## Load Markdown"
   ],
   "metadata": {
    "collapsed": false
   },
   "id": "6bf85166ac09dbfe"
  },
  {
   "cell_type": "code",
   "outputs": [],
   "source": [
    "from llama_index.core import Document\n",
    "\n",
    "from rag import load_utils\n",
    "\n",
    "documents: list[Document] = load_utils.load_data_dir(dir_path=\"../mission-docs\")"
   ],
   "metadata": {
    "collapsed": false,
    "ExecuteTime": {
     "end_time": "2024-03-09T12:59:51.284892Z",
     "start_time": "2024-03-09T12:59:51.262853Z"
    }
   },
   "id": "f5240dc45662984c",
   "execution_count": 3
  },
  {
   "cell_type": "code",
   "outputs": [],
   "source": [
    "# exclude `file_path` metadata from LLM context and embeddings\n",
    "for document in documents:\n",
    "    document.excluded_embed_metadata_keys.append(\"file_path\")\n",
    "    document.excluded_llm_metadata_keys.append(\"file_path\")"
   ],
   "metadata": {
    "collapsed": false,
    "ExecuteTime": {
     "end_time": "2024-03-09T12:59:53.279204Z",
     "start_time": "2024-03-09T12:59:53.274828Z"
    }
   },
   "id": "8bb7b06176246014",
   "execution_count": 4
  },
  {
   "cell_type": "code",
   "outputs": [
    {
     "data": {
      "text/plain": "Document(id_='0569b862-1661-42c5-bb17-d15825ebdeb1', embedding=None, metadata={'file_path': '/home/kangonaut/data/aegis-athena/experiments/../mission-docs/console.md', 'file_name': '/home/kangonaut/data/aegis-athena/experiments/../mission-docs/console.md', 'file_type': 'text/markdown', 'file_size': 40904, 'creation_date': '2024-02-27', 'last_modified_date': '2024-02-27', 'last_accessed_date': None, 'section_title': '3 Console'}, excluded_embed_metadata_keys=['file_name', 'file_type', 'file_size', 'creation_date', 'last_modified_date', 'last_accessed_date', 'file_path'], excluded_llm_metadata_keys=['file_name', 'file_type', 'file_size', 'creation_date', 'last_modified_date', 'last_accessed_date', 'file_path'], relationships={}, text='3 Console\\n\\n', start_char_idx=None, end_char_idx=None, text_template='{metadata_str}\\n\\n{content}', metadata_template='{key}: {value}', metadata_seperator='\\n')"
     },
     "execution_count": 5,
     "metadata": {},
     "output_type": "execute_result"
    }
   ],
   "source": [
    "documents[0]"
   ],
   "metadata": {
    "collapsed": false,
    "ExecuteTime": {
     "end_time": "2024-03-09T12:59:54.143073Z",
     "start_time": "2024-03-09T12:59:54.135266Z"
    }
   },
   "id": "8d9fddcb01b773",
   "execution_count": 5
  },
  {
   "cell_type": "markdown",
   "source": [
    "## Parse Nodes into Sentences and reference Parent Block"
   ],
   "metadata": {
    "collapsed": false
   },
   "id": "c2efd6363ea50305"
  },
  {
   "cell_type": "code",
   "outputs": [],
   "source": [
    "from rag.node_parser.mock_node_parser import MockNodeParser\n",
    "from rag.node_parser.individual_sentence_node_parser import IndividualSentenceNodeParser\n",
    "from llama_index.core.node_parser import HierarchicalNodeParser\n",
    "\n",
    "node_parser = HierarchicalNodeParser.from_defaults(\n",
    "    node_parser_ids=[\"mock\", \"sentences\"],\n",
    "    node_parser_map={\n",
    "        \"mock\": MockNodeParser(),\n",
    "        \"sentences\": IndividualSentenceNodeParser.from_defaults(),\n",
    "    }\n",
    ")"
   ],
   "metadata": {
    "collapsed": false,
    "ExecuteTime": {
     "end_time": "2024-03-09T13:01:41.467022Z",
     "start_time": "2024-03-09T13:01:41.459598Z"
    }
   },
   "id": "4c1d3a3c799b7c17",
   "execution_count": 6
  },
  {
   "cell_type": "code",
   "outputs": [
    {
     "name": "stdout",
     "output_type": "stream",
     "text": [
      "#leaf_nodes: 474\n",
      "#root_nodes: 133\n"
     ]
    }
   ],
   "source": [
    "from llama_index.core.node_parser import get_leaf_nodes, get_root_nodes\n",
    "\n",
    "hierarchical_nodes = node_parser.get_nodes_from_documents(documents)\n",
    "\n",
    "# separate leaf and root nodes\n",
    "leaf_nodes = get_leaf_nodes(hierarchical_nodes)\n",
    "root_nodes = get_root_nodes(hierarchical_nodes)\n",
    "\n",
    "print(f\"#leaf_nodes: {len(leaf_nodes)}\")\n",
    "print(f\"#root_nodes: {len(root_nodes)}\")"
   ],
   "metadata": {
    "collapsed": false,
    "ExecuteTime": {
     "end_time": "2024-03-09T13:01:45.418319Z",
     "start_time": "2024-03-09T13:01:45.356527Z"
    }
   },
   "id": "e59474319644495b",
   "execution_count": 7
  },
  {
   "cell_type": "markdown",
   "source": [
    "## Import Root Nodes into MongoDB"
   ],
   "metadata": {
    "collapsed": false
   },
   "id": "d8ff92c57b773906"
  },
  {
   "cell_type": "code",
   "outputs": [],
   "source": [
    "from llama_index.storage.docstore.mongodb import MongoDocumentStore\n",
    "from rag import mongodb_utils\n",
    "\n",
    "mongodb_client = mongodb_utils.get_client()\n",
    "mongodb_docstore = mongodb_utils.as_docstore(mongodb_client)"
   ],
   "metadata": {
    "collapsed": false,
    "ExecuteTime": {
     "end_time": "2024-03-09T13:02:01.630755Z",
     "start_time": "2024-03-09T13:02:01.610535Z"
    }
   },
   "id": "b9abe067e0b6c110",
   "execution_count": 8
  },
  {
   "cell_type": "code",
   "outputs": [
    {
     "name": "stdout",
     "output_type": "stream",
     "text": [
      "133 documents deleted\n"
     ]
    }
   ],
   "source": [
    "# delete previous data\n",
    "counter: int = 0\n",
    "for doc_id, document in mongodb_docstore.docs.items():\n",
    "    mongodb_docstore.delete_document(doc_id)\n",
    "    counter += 1\n",
    "    \n",
    "print(f\"{counter} documents deleted\")"
   ],
   "metadata": {
    "collapsed": false,
    "ExecuteTime": {
     "end_time": "2024-03-09T13:02:08.240905Z",
     "start_time": "2024-03-09T13:02:05.699696Z"
    }
   },
   "id": "4f9c9c0843d4ed30",
   "execution_count": 9
  },
  {
   "cell_type": "code",
   "outputs": [],
   "source": [
    "mongodb_docstore.add_documents(root_nodes)"
   ],
   "metadata": {
    "collapsed": false,
    "ExecuteTime": {
     "end_time": "2024-03-09T13:02:20.188488Z",
     "start_time": "2024-03-09T13:02:18.569892Z"
    }
   },
   "id": "88464e0fc6e44d30",
   "execution_count": 10
  },
  {
   "cell_type": "markdown",
   "source": [
    "## Import Leaf Nodes into Weaviate"
   ],
   "metadata": {
    "collapsed": false
   },
   "id": "5e17ba8806e7070a"
  },
  {
   "cell_type": "code",
   "outputs": [
    {
     "name": "stderr",
     "output_type": "stream",
     "text": [
      "/home/kangonaut/data/aegis-athena/venv/lib/python3.11/site-packages/weaviate/warnings.py:121: DeprecationWarning: Dep005: You are using weaviate-client version 3.26.2. The latest version is 4.5.1.\n",
      "            Please consider upgrading to the latest version. See https://weaviate.io/developers/weaviate/client-libraries/python for details.\n",
      "  warnings.warn(\n"
     ]
    }
   ],
   "source": [
    "from rag import weaviate_utils\n",
    "\n",
    "WEAVIATE_CLASS_NAME = \"AutoMergingDocsChunk\"\n",
    "\n",
    "client = weaviate_utils.get_weaviate_client()\n",
    "vector_store = weaviate_utils.as_vector_store(client, WEAVIATE_CLASS_NAME)"
   ],
   "metadata": {
    "collapsed": false,
    "ExecuteTime": {
     "end_time": "2024-03-09T13:02:58.976294Z",
     "start_time": "2024-03-09T13:02:58.777241Z"
    }
   },
   "id": "3555033ec9932acd",
   "execution_count": 11
  },
  {
   "cell_type": "code",
   "outputs": [],
   "source": [
    "# delete previous data\n",
    "client.schema.delete_class(WEAVIATE_CLASS_NAME)"
   ],
   "metadata": {
    "collapsed": false,
    "ExecuteTime": {
     "end_time": "2024-03-09T13:03:06.108721Z",
     "start_time": "2024-03-09T13:03:06.058978Z"
    }
   },
   "id": "85c5630ede2e58c6",
   "execution_count": 12
  },
  {
   "cell_type": "code",
   "outputs": [
    {
     "data": {
      "text/plain": "Generating embeddings:   0%|          | 0/474 [00:00<?, ?it/s]",
      "application/vnd.jupyter.widget-view+json": {
       "version_major": 2,
       "version_minor": 0,
       "model_id": "f822fed867444158bfb36574e086eb4c"
      }
     },
     "metadata": {},
     "output_type": "display_data"
    }
   ],
   "source": [
    "from llama_index.core import StorageContext, ServiceContext\n",
    "from llama_index.embeddings.openai import OpenAIEmbedding\n",
    "from rag import index_utils\n",
    "\n",
    "# populate\n",
    "weaviate_storage_context = StorageContext.from_defaults(\n",
    "    vector_store=vector_store,\n",
    ")\n",
    "embed_model = OpenAIEmbedding(embed_batch_size=50)\n",
    "weaviate_index = index_utils.populate_index(\n",
    "    docs=leaf_nodes,\n",
    "    storage_context=weaviate_storage_context,\n",
    "    embed_model=embed_model,\n",
    ")"
   ],
   "metadata": {
    "collapsed": false,
    "ExecuteTime": {
     "end_time": "2024-03-09T13:03:29.047461Z",
     "start_time": "2024-03-09T13:03:11.591994Z"
    }
   },
   "id": "9d245f9e720874fb",
   "execution_count": 13
  },
  {
   "cell_type": "markdown",
   "source": [
    "## Testing"
   ],
   "metadata": {
    "collapsed": false
   },
   "id": "c9d730345a5d0865"
  },
  {
   "cell_type": "code",
   "outputs": [],
   "source": [
    "from llama_index.core import StorageContext\n",
    "\n",
    "mongodb_storage_context = StorageContext.from_defaults(\n",
    "    docstore=mongodb_docstore,\n",
    ")"
   ],
   "metadata": {
    "collapsed": false,
    "ExecuteTime": {
     "end_time": "2024-03-09T13:03:31.596680Z",
     "start_time": "2024-03-09T13:03:31.592739Z"
    }
   },
   "id": "b3e72bf5f6c0b0de",
   "execution_count": 14
  },
  {
   "cell_type": "code",
   "outputs": [],
   "source": [
    "from llama_index.core.retrievers import AutoMergingRetriever\n",
    "\n",
    "weaviate_retriever = weaviate_index.as_retriever(similarity_top_k=6)\n",
    "retriever = AutoMergingRetriever(\n",
    "    simple_ratio_thresh=0.3,\n",
    "    vector_retriever=weaviate_retriever,\n",
    "    storage_context=mongodb_storage_context,\n",
    "    verbose=True,\n",
    ")"
   ],
   "metadata": {
    "collapsed": false,
    "ExecuteTime": {
     "end_time": "2024-03-09T13:03:32.927545Z",
     "start_time": "2024-03-09T13:03:32.922997Z"
    }
   },
   "id": "636d1709e31e8d35",
   "execution_count": 15
  },
  {
   "cell_type": "code",
   "outputs": [],
   "source": [
    "from llama_index.core.schema import BaseNode\n",
    "\n",
    "\n",
    "def display_nodes(nodes: list[BaseNode]) -> None:\n",
    "    for idx, node in enumerate(nodes):\n",
    "        print(f\"Node #{idx}:\\n{node.text}\\n\")"
   ],
   "metadata": {
    "collapsed": false,
    "ExecuteTime": {
     "end_time": "2024-03-09T13:03:51.642748Z",
     "start_time": "2024-03-09T13:03:51.638195Z"
    }
   },
   "id": "92cd3a301d3270e1",
   "execution_count": 16
  },
  {
   "cell_type": "code",
   "outputs": [
    {
     "name": "stdout",
     "output_type": "stream",
     "text": [
      "> Merging 4 nodes into parent node.\n",
      "> Parent node id: 00685af6-62ea-493f-9b76-a9991bc2e14e.\n",
      "> Parent node text: 1.2 Main Objective\n",
      "\n",
      "The mission's central aim is decidedly explicit - to facilitate humanity's ma...\n",
      "\n",
      "> Merging 2 nodes into parent node.\n",
      "> Parent node id: f9b43f85-bbf2-488e-8c66-02c55c43a2f8.\n",
      "> Parent node text: 1.3. Secondary Mission Objectives and Details\n",
      "\n",
      "While the key aspiration of Aegis Athena revolves ...\n"
     ]
    }
   ],
   "source": [
    "query: str = \"What is the main objective of the mission?\"\n",
    "\n",
    "vanilla_nodes = weaviate_retriever.retrieve(query)\n",
    "auto_merging_nodes = retriever.retrieve(query)"
   ],
   "metadata": {
    "collapsed": false,
    "ExecuteTime": {
     "end_time": "2024-03-09T13:03:54.440983Z",
     "start_time": "2024-03-09T13:03:53.392816Z"
    }
   },
   "id": "de8f12de5a2447d3",
   "execution_count": 17
  },
  {
   "cell_type": "code",
   "outputs": [
    {
     "name": "stdout",
     "output_type": "stream",
     "text": [
      "Node #0:\n",
      "1.2 Main Objective\n",
      "\n",
      "The mission's central aim is decidedly explicit - to facilitate humanity's maiden voyage to the lunar surface.\n",
      "\n",
      "Node #1:\n",
      "These objectives fuel our quest for expansive knowledge and dominance.\n",
      "\n",
      "Node #2:\n",
      "While it would be ill-advised and counter-productive to deny the possibility of mission errors, it is imperative for the morale and unity of our nation that the astronauts are perceived to have returned safely.\n",
      "\n",
      "Node #3:\n",
      "Therefore, as a contingency, a set of doppelgängers have been enlisted to present to the public in the event of partial mission success.\n",
      "\n",
      "Node #4:\n",
      "Securing their faith in our collective strength against an adversary, whose priorities are primarily driven by monetary motivations, is paramount.\n",
      "\n",
      "Node #5:\n",
      "1.3.\n"
     ]
    }
   ],
   "source": [
    "display_nodes(vanilla_nodes)"
   ],
   "metadata": {
    "collapsed": false,
    "ExecuteTime": {
     "end_time": "2024-03-09T13:03:57.194856Z",
     "start_time": "2024-03-09T13:03:57.190590Z"
    }
   },
   "id": "adaeb92e0693d791",
   "execution_count": 18
  },
  {
   "cell_type": "code",
   "outputs": [
    {
     "name": "stdout",
     "output_type": "stream",
     "text": [
      "Node #0:\n",
      "1.2 Main Objective\n",
      "\n",
      "The mission's central aim is decidedly explicit - to facilitate humanity's maiden voyage to the lunar surface. While central, the successful completion of this objective does not necessarily encompass a failsafe protocol for the safe return of the pioneering astronauts to our terrestrial home.\n",
      "\n",
      "Our approach is rooted in principles of utilitarian thought. Our commitment is first and foremost to our nation and its people. Securing their faith in our collective strength against an adversary, whose priorities are primarily driven by monetary motivations, is paramount.\n",
      "\n",
      "While it would be ill-advised and counter-productive to deny the possibility of mission errors, it is imperative for the morale and unity of our nation that the astronauts are perceived to have returned safely. Therefore, as a contingency, a set of doppelgängers have been enlisted to present to the public in the event of partial mission success.\n",
      "\n",
      "\n",
      "\n",
      "Node #1:\n",
      "1.3. Secondary Mission Objectives and Details\n",
      "\n",
      "While the key aspiration of Aegis Athena revolves around the first human's journey and landing on the lunar sphere, an array of complementary objectives exists in harmony, further complementing the mission's primary focus. These objectives fuel our quest for expansive knowledge and dominance.\n",
      "\n"
     ]
    }
   ],
   "source": [
    "display_nodes(auto_merging_nodes)"
   ],
   "metadata": {
    "collapsed": false,
    "ExecuteTime": {
     "end_time": "2024-03-09T13:03:58.235790Z",
     "start_time": "2024-03-09T13:03:58.233750Z"
    }
   },
   "id": "360f6e7ddf13ab80",
   "execution_count": 19
  }
 ],
 "metadata": {
  "kernelspec": {
   "display_name": "Python 3",
   "language": "python",
   "name": "python3"
  },
  "language_info": {
   "codemirror_mode": {
    "name": "ipython",
    "version": 2
   },
   "file_extension": ".py",
   "mimetype": "text/x-python",
   "name": "python",
   "nbconvert_exporter": "python",
   "pygments_lexer": "ipython2",
   "version": "2.7.6"
  }
 },
 "nbformat": 4,
 "nbformat_minor": 5
}
