{
 "cells": [
  {
   "cell_type": "code",
   "outputs": [],
   "source": [
    "from utils import environment_utils\n",
    "\n",
    "environment_utils.load_env()"
   ],
   "metadata": {
    "collapsed": false,
    "ExecuteTime": {
     "end_time": "2024-03-16T14:20:33.300516Z",
     "start_time": "2024-03-16T14:20:33.292720Z"
    }
   },
   "id": "6f7a23b8c2e23909",
   "execution_count": 22
  },
  {
   "cell_type": "markdown",
   "source": [
    "## Load Markdown"
   ],
   "metadata": {
    "collapsed": false
   },
   "id": "6bf85166ac09dbfe"
  },
  {
   "cell_type": "code",
   "outputs": [],
   "source": [
    "from llama_index.core import Document\n",
    "\n",
    "from rag import load_utils\n",
    "\n",
    "documents: list[Document] = load_utils.load_data_dir(dir_path=\"../mission-docs\")"
   ],
   "metadata": {
    "collapsed": false,
    "ExecuteTime": {
     "end_time": "2024-03-16T14:20:37.664760Z",
     "start_time": "2024-03-16T14:20:37.651701Z"
    }
   },
   "id": "f5240dc45662984c",
   "execution_count": 23
  },
  {
   "cell_type": "code",
   "outputs": [],
   "source": [
    "# exclude `file_path` metadata from LLM context and embeddings\n",
    "for document in documents:\n",
    "    document.excluded_embed_metadata_keys.append(\"file_path\")\n",
    "    document.excluded_llm_metadata_keys.append(\"file_path\")"
   ],
   "metadata": {
    "collapsed": false,
    "ExecuteTime": {
     "end_time": "2024-03-16T14:20:38.997123Z",
     "start_time": "2024-03-16T14:20:38.994588Z"
    }
   },
   "id": "8bb7b06176246014",
   "execution_count": 24
  },
  {
   "cell_type": "code",
   "outputs": [
    {
     "data": {
      "text/plain": "Document(id_='94150752-1188-488c-b122-9e85547867ef', embedding=None, metadata={'file_path': '/home/kangonaut/data/aegis-athena/experiments/../mission-docs/apollo.md', 'file_name': '/home/kangonaut/data/aegis-athena/experiments/../mission-docs/apollo.md', 'file_type': 'text/markdown', 'file_size': 736, 'creation_date': '2024-03-16', 'last_modified_date': '2024-03-16', 'last_accessed_date': None, 'section_title': '5 APOLLO'}, excluded_embed_metadata_keys=['file_name', 'file_type', 'file_size', 'creation_date', 'last_modified_date', 'last_accessed_date', 'file_path'], excluded_llm_metadata_keys=['file_name', 'file_type', 'file_size', 'creation_date', 'last_modified_date', 'last_accessed_date', 'file_path'], relationships={}, text='5 APOLLO\\n\\n', start_char_idx=None, end_char_idx=None, text_template='{metadata_str}\\n\\n{content}', metadata_template='{key}: {value}', metadata_seperator='\\n')"
     },
     "execution_count": 25,
     "metadata": {},
     "output_type": "execute_result"
    }
   ],
   "source": [
    "documents[0]"
   ],
   "metadata": {
    "collapsed": false,
    "ExecuteTime": {
     "end_time": "2024-03-16T14:20:40.152142Z",
     "start_time": "2024-03-16T14:20:40.147271Z"
    }
   },
   "id": "8d9fddcb01b773",
   "execution_count": 25
  },
  {
   "cell_type": "code",
   "outputs": [
    {
     "data": {
      "text/plain": "141"
     },
     "execution_count": 26,
     "metadata": {},
     "output_type": "execute_result"
    }
   ],
   "source": [
    "len(documents)"
   ],
   "metadata": {
    "collapsed": false,
    "ExecuteTime": {
     "end_time": "2024-03-16T14:20:43.024979Z",
     "start_time": "2024-03-16T14:20:43.021342Z"
    }
   },
   "id": "6586770dd991d56b",
   "execution_count": 26
  },
  {
   "cell_type": "markdown",
   "source": [
    "## Parse Nodes into Sentences and reference Parent Block"
   ],
   "metadata": {
    "collapsed": false
   },
   "id": "c2efd6363ea50305"
  },
  {
   "cell_type": "code",
   "outputs": [],
   "source": [
    "from rag.node_parser.mock_node_parser import MockNodeParser\n",
    "from rag.node_parser.individual_sentence_node_parser import IndividualSentenceNodeParser\n",
    "from llama_index.core.node_parser import HierarchicalNodeParser\n",
    "\n",
    "node_parser = HierarchicalNodeParser.from_defaults(\n",
    "    node_parser_ids=[\"mock\", \"sentences\"],\n",
    "    node_parser_map={\n",
    "        \"mock\": MockNodeParser(),\n",
    "        \"sentences\": IndividualSentenceNodeParser.from_defaults(),\n",
    "    }\n",
    ")"
   ],
   "metadata": {
    "collapsed": false,
    "ExecuteTime": {
     "end_time": "2024-03-16T14:20:45.963630Z",
     "start_time": "2024-03-16T14:20:45.959011Z"
    }
   },
   "id": "4c1d3a3c799b7c17",
   "execution_count": 27
  },
  {
   "cell_type": "code",
   "outputs": [
    {
     "name": "stdout",
     "output_type": "stream",
     "text": [
      "#leaf_nodes: 540\n",
      "#root_nodes: 141\n"
     ]
    }
   ],
   "source": [
    "from llama_index.core.node_parser import get_leaf_nodes, get_root_nodes\n",
    "\n",
    "hierarchical_nodes = node_parser.get_nodes_from_documents(documents)\n",
    "\n",
    "# separate leaf and root nodes\n",
    "leaf_nodes = get_leaf_nodes(hierarchical_nodes)\n",
    "root_nodes = get_root_nodes(hierarchical_nodes)\n",
    "\n",
    "print(f\"#leaf_nodes: {len(leaf_nodes)}\")\n",
    "print(f\"#root_nodes: {len(root_nodes)}\")"
   ],
   "metadata": {
    "collapsed": false,
    "ExecuteTime": {
     "end_time": "2024-03-16T14:20:48.142364Z",
     "start_time": "2024-03-16T14:20:48.080500Z"
    }
   },
   "id": "e59474319644495b",
   "execution_count": 28
  },
  {
   "cell_type": "markdown",
   "source": [
    "## Import Root Nodes into MongoDB"
   ],
   "metadata": {
    "collapsed": false
   },
   "id": "d8ff92c57b773906"
  },
  {
   "cell_type": "code",
   "outputs": [],
   "source": [
    "from llama_index.storage.docstore.mongodb import MongoDocumentStore\n",
    "from rag import mongodb_utils\n",
    "\n",
    "mongodb_client = mongodb_utils.get_client()\n",
    "mongodb_docstore = mongodb_utils.as_docstore(mongodb_client)"
   ],
   "metadata": {
    "collapsed": false,
    "ExecuteTime": {
     "end_time": "2024-03-16T14:21:55.657244Z",
     "start_time": "2024-03-16T14:21:55.648986Z"
    }
   },
   "id": "b9abe067e0b6c110",
   "execution_count": 29
  },
  {
   "cell_type": "code",
   "outputs": [
    {
     "name": "stdout",
     "output_type": "stream",
     "text": [
      "137 documents deleted\n"
     ]
    }
   ],
   "source": [
    "# delete previous data\n",
    "counter: int = 0\n",
    "for doc_id, document in mongodb_docstore.docs.items():\n",
    "    mongodb_docstore.delete_document(doc_id)\n",
    "    counter += 1\n",
    "    \n",
    "print(f\"{counter} documents deleted\")"
   ],
   "metadata": {
    "collapsed": false,
    "ExecuteTime": {
     "end_time": "2024-03-16T14:22:00.448887Z",
     "start_time": "2024-03-16T14:21:57.853142Z"
    }
   },
   "id": "4f9c9c0843d4ed30",
   "execution_count": 30
  },
  {
   "cell_type": "code",
   "outputs": [],
   "source": [
    "mongodb_docstore.add_documents(root_nodes)"
   ],
   "metadata": {
    "collapsed": false,
    "ExecuteTime": {
     "end_time": "2024-03-16T14:22:03.207147Z",
     "start_time": "2024-03-16T14:22:01.347462Z"
    }
   },
   "id": "88464e0fc6e44d30",
   "execution_count": 31
  },
  {
   "cell_type": "markdown",
   "source": [
    "## Import Leaf Nodes into Weaviate"
   ],
   "metadata": {
    "collapsed": false
   },
   "id": "5e17ba8806e7070a"
  },
  {
   "cell_type": "code",
   "outputs": [],
   "source": [
    "from rag import weaviate_utils\n",
    "\n",
    "WEAVIATE_CLASS_NAME = \"AutoMergingDocsChunk\"\n",
    "\n",
    "client = weaviate_utils.get_weaviate_client()\n",
    "vector_store = weaviate_utils.as_vector_store(client, WEAVIATE_CLASS_NAME)"
   ],
   "metadata": {
    "collapsed": false,
    "ExecuteTime": {
     "end_time": "2024-03-16T14:22:07.243639Z",
     "start_time": "2024-03-16T14:22:07.061353Z"
    }
   },
   "id": "3555033ec9932acd",
   "execution_count": 33
  },
  {
   "cell_type": "code",
   "outputs": [],
   "source": [
    "# delete previous data\n",
    "client.schema.delete_class(WEAVIATE_CLASS_NAME)"
   ],
   "metadata": {
    "collapsed": false,
    "ExecuteTime": {
     "end_time": "2024-03-16T14:22:08.567821Z",
     "start_time": "2024-03-16T14:22:08.519966Z"
    }
   },
   "id": "85c5630ede2e58c6",
   "execution_count": 34
  },
  {
   "cell_type": "code",
   "outputs": [
    {
     "data": {
      "text/plain": "Generating embeddings:   0%|          | 0/540 [00:00<?, ?it/s]",
      "application/vnd.jupyter.widget-view+json": {
       "version_major": 2,
       "version_minor": 0,
       "model_id": "57bbbd3899b24e22a1c4a9b57c53252a"
      }
     },
     "metadata": {},
     "output_type": "display_data"
    }
   ],
   "source": [
    "from llama_index.core import StorageContext, ServiceContext\n",
    "from llama_index.embeddings.openai import OpenAIEmbedding\n",
    "from rag import index_utils\n",
    "\n",
    "# populate\n",
    "weaviate_storage_context = StorageContext.from_defaults(\n",
    "    vector_store=vector_store,\n",
    ")\n",
    "embed_model = OpenAIEmbedding(embed_batch_size=50)\n",
    "weaviate_index = index_utils.populate_index(\n",
    "    docs=leaf_nodes,\n",
    "    storage_context=weaviate_storage_context,\n",
    "    embed_model=embed_model,\n",
    ")"
   ],
   "metadata": {
    "collapsed": false,
    "ExecuteTime": {
     "end_time": "2024-03-16T14:22:27.686881Z",
     "start_time": "2024-03-16T14:22:10.180901Z"
    }
   },
   "id": "9d245f9e720874fb",
   "execution_count": 35
  },
  {
   "cell_type": "markdown",
   "source": [
    "## Testing"
   ],
   "metadata": {
    "collapsed": false
   },
   "id": "c9d730345a5d0865"
  },
  {
   "cell_type": "code",
   "outputs": [],
   "source": [
    "from llama_index.core import StorageContext\n",
    "\n",
    "mongodb_storage_context = StorageContext.from_defaults(\n",
    "    docstore=mongodb_docstore,\n",
    ")"
   ],
   "metadata": {
    "collapsed": false,
    "ExecuteTime": {
     "end_time": "2024-03-16T14:22:30.842337Z",
     "start_time": "2024-03-16T14:22:30.837847Z"
    }
   },
   "id": "b3e72bf5f6c0b0de",
   "execution_count": 36
  },
  {
   "cell_type": "code",
   "outputs": [],
   "source": [
    "from llama_index.core.retrievers import AutoMergingRetriever\n",
    "\n",
    "weaviate_retriever = weaviate_index.as_retriever(similarity_top_k=6)\n",
    "retriever = AutoMergingRetriever(\n",
    "    simple_ratio_thresh=0.3,\n",
    "    vector_retriever=weaviate_retriever,\n",
    "    storage_context=mongodb_storage_context,\n",
    "    verbose=True,\n",
    ")"
   ],
   "metadata": {
    "collapsed": false,
    "ExecuteTime": {
     "end_time": "2024-03-16T14:22:33.112084Z",
     "start_time": "2024-03-16T14:22:33.107568Z"
    }
   },
   "id": "636d1709e31e8d35",
   "execution_count": 37
  },
  {
   "cell_type": "code",
   "outputs": [],
   "source": [
    "from llama_index.core.schema import BaseNode\n",
    "\n",
    "\n",
    "def display_nodes(nodes: list[BaseNode]) -> None:\n",
    "    for idx, node in enumerate(nodes):\n",
    "        print(f\"Node #{idx}:\\n{node.text}\\n\")"
   ],
   "metadata": {
    "collapsed": false,
    "ExecuteTime": {
     "end_time": "2024-03-16T14:22:34.255414Z",
     "start_time": "2024-03-16T14:22:34.251621Z"
    }
   },
   "id": "92cd3a301d3270e1",
   "execution_count": 38
  },
  {
   "cell_type": "code",
   "outputs": [
    {
     "name": "stdout",
     "output_type": "stream",
     "text": [
      "> Merging 4 nodes into parent node.\n",
      "> Parent node id: 35b3fa90-3228-460a-9218-1e00fb9b5cbb.\n",
      "> Parent node text: 1.2 Main Objective\n",
      "\n",
      "The mission's central aim is decidedly explicit - to facilitate humanity's ma...\n",
      "\n",
      "> Merging 2 nodes into parent node.\n",
      "> Parent node id: e4ecc5ab-3a1c-4a42-a740-ddd016fe3402.\n",
      "> Parent node text: 1.3. Secondary Mission Objectives and Details\n",
      "\n",
      "While the key aspiration of Aegis Athena revolves ...\n"
     ]
    }
   ],
   "source": [
    "query: str = \"What is the main objective of the mission?\"\n",
    "\n",
    "vanilla_nodes = weaviate_retriever.retrieve(query)\n",
    "auto_merging_nodes = retriever.retrieve(query)"
   ],
   "metadata": {
    "collapsed": false,
    "ExecuteTime": {
     "end_time": "2024-03-16T14:22:36.152874Z",
     "start_time": "2024-03-16T14:22:35.206328Z"
    }
   },
   "id": "de8f12de5a2447d3",
   "execution_count": 39
  },
  {
   "cell_type": "code",
   "outputs": [
    {
     "name": "stdout",
     "output_type": "stream",
     "text": [
      "Node #0:\n",
      "1.2 Main Objective\n",
      "\n",
      "The mission's central aim is decidedly explicit - to facilitate humanity's maiden voyage to the lunar surface.\n",
      "\n",
      "Node #1:\n",
      "These objectives fuel our quest for expansive knowledge and dominance.\n",
      "\n",
      "Node #2:\n",
      "While it would be ill-advised and counter-productive to deny the possibility of mission errors, it is imperative for the morale and unity of our nation that the astronauts are perceived to have returned safely.\n",
      "\n",
      "Node #3:\n",
      "Therefore, as a contingency, a set of doppelgängers have been enlisted to present to the public in the event of partial mission success.\n",
      "\n",
      "Node #4:\n",
      "Securing their faith in our collective strength against an adversary, whose priorities are primarily driven by monetary motivations, is paramount.\n",
      "\n",
      "Node #5:\n",
      "1.3.\n"
     ]
    }
   ],
   "source": [
    "display_nodes(vanilla_nodes)"
   ],
   "metadata": {
    "collapsed": false,
    "ExecuteTime": {
     "end_time": "2024-03-16T14:22:36.777930Z",
     "start_time": "2024-03-16T14:22:36.773767Z"
    }
   },
   "id": "adaeb92e0693d791",
   "execution_count": 40
  },
  {
   "cell_type": "code",
   "outputs": [
    {
     "name": "stdout",
     "output_type": "stream",
     "text": [
      "Node #0:\n",
      "1.2 Main Objective\n",
      "\n",
      "The mission's central aim is decidedly explicit - to facilitate humanity's maiden voyage to the lunar surface. While central, the successful completion of this objective does not necessarily encompass a failsafe protocol for the safe return of the pioneering astronauts to our terrestrial home.\n",
      "\n",
      "Our approach is rooted in principles of utilitarian thought. Our commitment is first and foremost to our nation and its people. Securing their faith in our collective strength against an adversary, whose priorities are primarily driven by monetary motivations, is paramount.\n",
      "\n",
      "While it would be ill-advised and counter-productive to deny the possibility of mission errors, it is imperative for the morale and unity of our nation that the astronauts are perceived to have returned safely. Therefore, as a contingency, a set of doppelgängers have been enlisted to present to the public in the event of partial mission success.\n",
      "\n",
      "\n",
      "\n",
      "Node #1:\n",
      "1.3. Secondary Mission Objectives and Details\n",
      "\n",
      "While the key aspiration of Aegis Athena revolves around the first human's journey and landing on the lunar sphere, an array of complementary objectives exists in harmony, further complementing the mission's primary focus. These objectives fuel our quest for expansive knowledge and dominance.\n",
      "\n"
     ]
    }
   ],
   "source": [
    "display_nodes(auto_merging_nodes)"
   ],
   "metadata": {
    "collapsed": false,
    "ExecuteTime": {
     "end_time": "2024-03-16T14:22:37.831968Z",
     "start_time": "2024-03-16T14:22:37.827323Z"
    }
   },
   "id": "360f6e7ddf13ab80",
   "execution_count": 41
  }
 ],
 "metadata": {
  "kernelspec": {
   "display_name": "Python 3",
   "language": "python",
   "name": "python3"
  },
  "language_info": {
   "codemirror_mode": {
    "name": "ipython",
    "version": 2
   },
   "file_extension": ".py",
   "mimetype": "text/x-python",
   "name": "python",
   "nbconvert_exporter": "python",
   "pygments_lexer": "ipython2",
   "version": "2.7.6"
  }
 },
 "nbformat": 4,
 "nbformat_minor": 5
}
