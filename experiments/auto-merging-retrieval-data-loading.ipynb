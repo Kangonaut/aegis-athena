{
 "cells": [
  {
   "cell_type": "code",
   "outputs": [],
   "source": [
    "from utils import environment_utils\n",
    "\n",
    "environment_utils.load_env()"
   ],
   "metadata": {
    "collapsed": false,
    "ExecuteTime": {
     "end_time": "2024-03-09T19:13:32.883654Z",
     "start_time": "2024-03-09T19:13:32.878287Z"
    }
   },
   "id": "6f7a23b8c2e23909",
   "execution_count": 2
  },
  {
   "cell_type": "markdown",
   "source": [
    "## Load Markdown"
   ],
   "metadata": {
    "collapsed": false
   },
   "id": "6bf85166ac09dbfe"
  },
  {
   "cell_type": "code",
   "outputs": [],
   "source": [
    "from llama_index.core import Document\n",
    "\n",
    "from rag import load_utils\n",
    "\n",
    "documents: list[Document] = load_utils.load_data_dir(dir_path=\"../mission-docs\")"
   ],
   "metadata": {
    "collapsed": false,
    "ExecuteTime": {
     "end_time": "2024-03-09T19:13:34.984187Z",
     "start_time": "2024-03-09T19:13:34.962268Z"
    }
   },
   "id": "f5240dc45662984c",
   "execution_count": 3
  },
  {
   "cell_type": "code",
   "outputs": [],
   "source": [
    "# exclude `file_path` metadata from LLM context and embeddings\n",
    "for document in documents:\n",
    "    document.excluded_embed_metadata_keys.append(\"file_path\")\n",
    "    document.excluded_llm_metadata_keys.append(\"file_path\")"
   ],
   "metadata": {
    "collapsed": false,
    "ExecuteTime": {
     "end_time": "2024-03-09T19:13:37.298590Z",
     "start_time": "2024-03-09T19:13:37.294729Z"
    }
   },
   "id": "8bb7b06176246014",
   "execution_count": 4
  },
  {
   "cell_type": "code",
   "outputs": [
    {
     "data": {
      "text/plain": "Document(id_='2f650349-d01d-4c33-97d3-22e14ea00ac9', embedding=None, metadata={'file_path': '/home/kangonaut/data/aegis-athena/experiments/../mission-docs/console.md', 'file_name': '/home/kangonaut/data/aegis-athena/experiments/../mission-docs/console.md', 'file_type': 'text/markdown', 'file_size': 40904, 'creation_date': '2024-02-27', 'last_modified_date': '2024-02-27', 'last_accessed_date': None, 'section_title': '3 Console'}, excluded_embed_metadata_keys=['file_name', 'file_type', 'file_size', 'creation_date', 'last_modified_date', 'last_accessed_date', 'file_path'], excluded_llm_metadata_keys=['file_name', 'file_type', 'file_size', 'creation_date', 'last_modified_date', 'last_accessed_date', 'file_path'], relationships={}, text='3 Console\\n\\n', start_char_idx=None, end_char_idx=None, text_template='{metadata_str}\\n\\n{content}', metadata_template='{key}: {value}', metadata_seperator='\\n')"
     },
     "execution_count": 5,
     "metadata": {},
     "output_type": "execute_result"
    }
   ],
   "source": [
    "documents[0]"
   ],
   "metadata": {
    "collapsed": false,
    "ExecuteTime": {
     "end_time": "2024-03-09T19:13:38.928231Z",
     "start_time": "2024-03-09T19:13:38.920507Z"
    }
   },
   "id": "8d9fddcb01b773",
   "execution_count": 5
  },
  {
   "cell_type": "code",
   "outputs": [
    {
     "data": {
      "text/plain": "137"
     },
     "execution_count": 21,
     "metadata": {},
     "output_type": "execute_result"
    }
   ],
   "source": [
    "len(documents)"
   ],
   "metadata": {
    "collapsed": false,
    "ExecuteTime": {
     "end_time": "2024-03-12T16:14:27.044142Z",
     "start_time": "2024-03-12T16:14:27.039490Z"
    }
   },
   "id": "6586770dd991d56b",
   "execution_count": 21
  },
  {
   "cell_type": "markdown",
   "source": [
    "## Parse Nodes into Sentences and reference Parent Block"
   ],
   "metadata": {
    "collapsed": false
   },
   "id": "c2efd6363ea50305"
  },
  {
   "cell_type": "code",
   "outputs": [],
   "source": [
    "from rag.node_parser.mock_node_parser import MockNodeParser\n",
    "from rag.node_parser.individual_sentence_node_parser import IndividualSentenceNodeParser\n",
    "from llama_index.core.node_parser import HierarchicalNodeParser\n",
    "\n",
    "node_parser = HierarchicalNodeParser.from_defaults(\n",
    "    node_parser_ids=[\"mock\", \"sentences\"],\n",
    "    node_parser_map={\n",
    "        \"mock\": MockNodeParser(),\n",
    "        \"sentences\": IndividualSentenceNodeParser.from_defaults(),\n",
    "    }\n",
    ")"
   ],
   "metadata": {
    "collapsed": false,
    "ExecuteTime": {
     "end_time": "2024-03-09T19:13:42.299833Z",
     "start_time": "2024-03-09T19:13:42.291241Z"
    }
   },
   "id": "4c1d3a3c799b7c17",
   "execution_count": 6
  },
  {
   "cell_type": "code",
   "outputs": [
    {
     "name": "stdout",
     "output_type": "stream",
     "text": [
      "#leaf_nodes: 504\n",
      "#root_nodes: 137\n"
     ]
    }
   ],
   "source": [
    "from llama_index.core.node_parser import get_leaf_nodes, get_root_nodes\n",
    "\n",
    "hierarchical_nodes = node_parser.get_nodes_from_documents(documents)\n",
    "\n",
    "# separate leaf and root nodes\n",
    "leaf_nodes = get_leaf_nodes(hierarchical_nodes)\n",
    "root_nodes = get_root_nodes(hierarchical_nodes)\n",
    "\n",
    "print(f\"#leaf_nodes: {len(leaf_nodes)}\")\n",
    "print(f\"#root_nodes: {len(root_nodes)}\")"
   ],
   "metadata": {
    "collapsed": false,
    "ExecuteTime": {
     "end_time": "2024-03-09T19:13:43.986869Z",
     "start_time": "2024-03-09T19:13:43.914064Z"
    }
   },
   "id": "e59474319644495b",
   "execution_count": 7
  },
  {
   "cell_type": "markdown",
   "source": [
    "## Import Root Nodes into MongoDB"
   ],
   "metadata": {
    "collapsed": false
   },
   "id": "d8ff92c57b773906"
  },
  {
   "cell_type": "code",
   "outputs": [],
   "source": [
    "from llama_index.storage.docstore.mongodb import MongoDocumentStore\n",
    "from rag import mongodb_utils\n",
    "\n",
    "mongodb_client = mongodb_utils.get_client()\n",
    "mongodb_docstore = mongodb_utils.as_docstore(mongodb_client)"
   ],
   "metadata": {
    "collapsed": false,
    "ExecuteTime": {
     "end_time": "2024-03-09T19:13:49.050758Z",
     "start_time": "2024-03-09T19:13:49.029673Z"
    }
   },
   "id": "b9abe067e0b6c110",
   "execution_count": 8
  },
  {
   "cell_type": "code",
   "outputs": [
    {
     "name": "stdout",
     "output_type": "stream",
     "text": [
      "133 documents deleted\n"
     ]
    }
   ],
   "source": [
    "# delete previous data\n",
    "counter: int = 0\n",
    "for doc_id, document in mongodb_docstore.docs.items():\n",
    "    mongodb_docstore.delete_document(doc_id)\n",
    "    counter += 1\n",
    "    \n",
    "print(f\"{counter} documents deleted\")"
   ],
   "metadata": {
    "collapsed": false,
    "ExecuteTime": {
     "end_time": "2024-03-09T19:13:54.887075Z",
     "start_time": "2024-03-09T19:13:51.005162Z"
    }
   },
   "id": "4f9c9c0843d4ed30",
   "execution_count": 9
  },
  {
   "cell_type": "code",
   "outputs": [],
   "source": [
    "mongodb_docstore.add_documents(root_nodes)"
   ],
   "metadata": {
    "collapsed": false,
    "ExecuteTime": {
     "end_time": "2024-03-09T19:13:58.402152Z",
     "start_time": "2024-03-09T19:13:56.037584Z"
    }
   },
   "id": "88464e0fc6e44d30",
   "execution_count": 10
  },
  {
   "cell_type": "markdown",
   "source": [
    "## Import Leaf Nodes into Weaviate"
   ],
   "metadata": {
    "collapsed": false
   },
   "id": "5e17ba8806e7070a"
  },
  {
   "cell_type": "code",
   "outputs": [],
   "source": [
    "from rag import weaviate_utils\n",
    "\n",
    "WEAVIATE_CLASS_NAME = \"AutoMergingDocsChunk\"\n",
    "\n",
    "client = weaviate_utils.get_weaviate_client()\n",
    "vector_store = weaviate_utils.as_vector_store(client, WEAVIATE_CLASS_NAME)"
   ],
   "metadata": {
    "collapsed": false,
    "ExecuteTime": {
     "end_time": "2024-03-09T19:14:02.194362Z",
     "start_time": "2024-03-09T19:14:01.965885Z"
    }
   },
   "id": "3555033ec9932acd",
   "execution_count": 12
  },
  {
   "cell_type": "code",
   "outputs": [],
   "source": [
    "# delete previous data\n",
    "client.schema.delete_class(WEAVIATE_CLASS_NAME)"
   ],
   "metadata": {
    "collapsed": false,
    "ExecuteTime": {
     "end_time": "2024-03-09T19:14:06.183657Z",
     "start_time": "2024-03-09T19:14:06.110430Z"
    }
   },
   "id": "85c5630ede2e58c6",
   "execution_count": 13
  },
  {
   "cell_type": "code",
   "outputs": [
    {
     "data": {
      "text/plain": "Generating embeddings:   0%|          | 0/504 [00:00<?, ?it/s]",
      "application/vnd.jupyter.widget-view+json": {
       "version_major": 2,
       "version_minor": 0,
       "model_id": "eefbb1a1294146459fee5d33cb2a0318"
      }
     },
     "metadata": {},
     "output_type": "display_data"
    }
   ],
   "source": [
    "from llama_index.core import StorageContext, ServiceContext\n",
    "from llama_index.embeddings.openai import OpenAIEmbedding\n",
    "from rag import index_utils\n",
    "\n",
    "# populate\n",
    "weaviate_storage_context = StorageContext.from_defaults(\n",
    "    vector_store=vector_store,\n",
    ")\n",
    "embed_model = OpenAIEmbedding(embed_batch_size=50)\n",
    "weaviate_index = index_utils.populate_index(\n",
    "    docs=leaf_nodes,\n",
    "    storage_context=weaviate_storage_context,\n",
    "    embed_model=embed_model,\n",
    ")"
   ],
   "metadata": {
    "collapsed": false,
    "ExecuteTime": {
     "end_time": "2024-03-09T19:14:29.910209Z",
     "start_time": "2024-03-09T19:14:09.369958Z"
    }
   },
   "id": "9d245f9e720874fb",
   "execution_count": 14
  },
  {
   "cell_type": "markdown",
   "source": [
    "## Testing"
   ],
   "metadata": {
    "collapsed": false
   },
   "id": "c9d730345a5d0865"
  },
  {
   "cell_type": "code",
   "outputs": [],
   "source": [
    "from llama_index.core import StorageContext\n",
    "\n",
    "mongodb_storage_context = StorageContext.from_defaults(\n",
    "    docstore=mongodb_docstore,\n",
    ")"
   ],
   "metadata": {
    "collapsed": false,
    "ExecuteTime": {
     "end_time": "2024-03-09T19:14:31.228376Z",
     "start_time": "2024-03-09T19:14:31.224390Z"
    }
   },
   "id": "b3e72bf5f6c0b0de",
   "execution_count": 15
  },
  {
   "cell_type": "code",
   "outputs": [],
   "source": [
    "from llama_index.core.retrievers import AutoMergingRetriever\n",
    "\n",
    "weaviate_retriever = weaviate_index.as_retriever(similarity_top_k=6)\n",
    "retriever = AutoMergingRetriever(\n",
    "    simple_ratio_thresh=0.3,\n",
    "    vector_retriever=weaviate_retriever,\n",
    "    storage_context=mongodb_storage_context,\n",
    "    verbose=True,\n",
    ")"
   ],
   "metadata": {
    "collapsed": false,
    "ExecuteTime": {
     "end_time": "2024-03-09T19:14:32.438761Z",
     "start_time": "2024-03-09T19:14:32.434297Z"
    }
   },
   "id": "636d1709e31e8d35",
   "execution_count": 16
  },
  {
   "cell_type": "code",
   "outputs": [],
   "source": [
    "from llama_index.core.schema import BaseNode\n",
    "\n",
    "\n",
    "def display_nodes(nodes: list[BaseNode]) -> None:\n",
    "    for idx, node in enumerate(nodes):\n",
    "        print(f\"Node #{idx}:\\n{node.text}\\n\")"
   ],
   "metadata": {
    "collapsed": false,
    "ExecuteTime": {
     "end_time": "2024-03-09T19:14:33.600966Z",
     "start_time": "2024-03-09T19:14:33.596244Z"
    }
   },
   "id": "92cd3a301d3270e1",
   "execution_count": 17
  },
  {
   "cell_type": "code",
   "outputs": [
    {
     "name": "stdout",
     "output_type": "stream",
     "text": [
      "> Merging 4 nodes into parent node.\n",
      "> Parent node id: 4289e3cb-4596-4dd4-b9a8-56935ebc0ff5.\n",
      "> Parent node text: 1.2 Main Objective\n",
      "\n",
      "The mission's central aim is decidedly explicit - to facilitate humanity's ma...\n",
      "\n",
      "> Merging 2 nodes into parent node.\n",
      "> Parent node id: c91921ca-0478-4a43-8670-6471405484ef.\n",
      "> Parent node text: 1.3. Secondary Mission Objectives and Details\n",
      "\n",
      "While the key aspiration of Aegis Athena revolves ...\n"
     ]
    }
   ],
   "source": [
    "query: str = \"What is the main objective of the mission?\"\n",
    "\n",
    "vanilla_nodes = weaviate_retriever.retrieve(query)\n",
    "auto_merging_nodes = retriever.retrieve(query)"
   ],
   "metadata": {
    "collapsed": false,
    "ExecuteTime": {
     "end_time": "2024-03-09T19:14:35.758547Z",
     "start_time": "2024-03-09T19:14:34.726013Z"
    }
   },
   "id": "de8f12de5a2447d3",
   "execution_count": 18
  },
  {
   "cell_type": "code",
   "outputs": [
    {
     "name": "stdout",
     "output_type": "stream",
     "text": [
      "Node #0:\n",
      "1.2 Main Objective\n",
      "\n",
      "The mission's central aim is decidedly explicit - to facilitate humanity's maiden voyage to the lunar surface.\n",
      "\n",
      "Node #1:\n",
      "These objectives fuel our quest for expansive knowledge and dominance.\n",
      "\n",
      "Node #2:\n",
      "While it would be ill-advised and counter-productive to deny the possibility of mission errors, it is imperative for the morale and unity of our nation that the astronauts are perceived to have returned safely.\n",
      "\n",
      "Node #3:\n",
      "Therefore, as a contingency, a set of doppelgängers have been enlisted to present to the public in the event of partial mission success.\n",
      "\n",
      "Node #4:\n",
      "Securing their faith in our collective strength against an adversary, whose priorities are primarily driven by monetary motivations, is paramount.\n",
      "\n",
      "Node #5:\n",
      "1.3.\n"
     ]
    }
   ],
   "source": [
    "display_nodes(vanilla_nodes)"
   ],
   "metadata": {
    "collapsed": false,
    "ExecuteTime": {
     "end_time": "2024-03-09T19:14:36.966792Z",
     "start_time": "2024-03-09T19:14:36.964241Z"
    }
   },
   "id": "adaeb92e0693d791",
   "execution_count": 19
  },
  {
   "cell_type": "code",
   "outputs": [
    {
     "name": "stdout",
     "output_type": "stream",
     "text": [
      "Node #0:\n",
      "1.2 Main Objective\n",
      "\n",
      "The mission's central aim is decidedly explicit - to facilitate humanity's maiden voyage to the lunar surface. While central, the successful completion of this objective does not necessarily encompass a failsafe protocol for the safe return of the pioneering astronauts to our terrestrial home.\n",
      "\n",
      "Our approach is rooted in principles of utilitarian thought. Our commitment is first and foremost to our nation and its people. Securing their faith in our collective strength against an adversary, whose priorities are primarily driven by monetary motivations, is paramount.\n",
      "\n",
      "While it would be ill-advised and counter-productive to deny the possibility of mission errors, it is imperative for the morale and unity of our nation that the astronauts are perceived to have returned safely. Therefore, as a contingency, a set of doppelgängers have been enlisted to present to the public in the event of partial mission success.\n",
      "\n",
      "\n",
      "\n",
      "Node #1:\n",
      "1.3. Secondary Mission Objectives and Details\n",
      "\n",
      "While the key aspiration of Aegis Athena revolves around the first human's journey and landing on the lunar sphere, an array of complementary objectives exists in harmony, further complementing the mission's primary focus. These objectives fuel our quest for expansive knowledge and dominance.\n"
     ]
    }
   ],
   "source": [
    "display_nodes(auto_merging_nodes)"
   ],
   "metadata": {
    "collapsed": false,
    "ExecuteTime": {
     "end_time": "2024-03-09T19:14:38.248341Z",
     "start_time": "2024-03-09T19:14:38.243870Z"
    }
   },
   "id": "360f6e7ddf13ab80",
   "execution_count": 20
  }
 ],
 "metadata": {
  "kernelspec": {
   "display_name": "Python 3",
   "language": "python",
   "name": "python3"
  },
  "language_info": {
   "codemirror_mode": {
    "name": "ipython",
    "version": 2
   },
   "file_extension": ".py",
   "mimetype": "text/x-python",
   "name": "python",
   "nbconvert_exporter": "python",
   "pygments_lexer": "ipython2",
   "version": "2.7.6"
  }
 },
 "nbformat": 4,
 "nbformat_minor": 5
}
