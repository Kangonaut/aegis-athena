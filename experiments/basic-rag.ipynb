{
 "cells": [
  {
   "cell_type": "code",
   "outputs": [
    {
     "data": {
      "text/plain": "True"
     },
     "execution_count": 1,
     "metadata": {},
     "output_type": "execute_result"
    }
   ],
   "source": [
    "import dotenv\n",
    "\n",
    "dotenv.load_dotenv()"
   ],
   "metadata": {
    "collapsed": false,
    "ExecuteTime": {
     "end_time": "2024-02-12T10:15:57.240641885Z",
     "start_time": "2024-02-12T10:15:57.234076548Z"
    }
   },
   "id": "d36047e220991945",
   "execution_count": 1
  },
  {
   "cell_type": "markdown",
   "source": [
    "## Assemble RAG Pipeline"
   ],
   "metadata": {
    "collapsed": false
   },
   "id": "232df55830fd6e2c"
  },
  {
   "cell_type": "code",
   "execution_count": 2,
   "id": "initial_id",
   "metadata": {
    "collapsed": true,
    "ExecuteTime": {
     "end_time": "2024-02-12T10:16:02.151467502Z",
     "start_time": "2024-02-12T10:15:59.235886951Z"
    }
   },
   "outputs": [
    {
     "name": "stderr",
     "output_type": "stream",
     "text": [
      "2024-02-12 11:16:00.736 \n",
      "  \u001B[33m\u001B[1mWarning:\u001B[0m to view this Streamlit app on a browser, run it with the following\n",
      "  command:\n",
      "\n",
      "    streamlit run /home/kangonaut/data/aegis-athena/venv/lib/python3.11/site-packages/ipykernel_launcher.py [ARGUMENTS]\n",
      "/home/kangonaut/data/aegis-athena/venv/lib/python3.11/site-packages/weaviate/warnings.py:158: DeprecationWarning: Dep016: You are using the Weaviate v3 client, which is deprecated.\n",
      "            Consider upgrading to the new and improved v4 client instead!\n",
      "            See here for usage: https://weaviate.io/developers/weaviate/client-libraries/python\n",
      "            \n",
      "  warnings.warn(\n",
      "/home/kangonaut/data/aegis-athena/venv/lib/python3.11/site-packages/weaviate/__init__.py:128: DeprecationWarning: Dep010: Importing AuthApiKey from weaviate is deprecated. Please import it from its specific module: weaviate.auth\n",
      "  _Warnings.root_module_import(name, map_[name])\n"
     ]
    }
   ],
   "source": [
    "from rag import weaviate_utils\n",
    "from llama_index import VectorStoreIndex\n",
    "\n",
    "# assumes that the database has already been populated\n",
    "weaviate_client = weaviate_utils.get_weaviate_client()\n",
    "vector_store = weaviate_utils.as_vector_store(weaviate_client, class_name=\"DocsChunk\")\n",
    "index = VectorStoreIndex.from_vector_store(vector_store)"
   ]
  },
  {
   "cell_type": "code",
   "outputs": [],
   "source": [
    "query_engine = index.as_query_engine()"
   ],
   "metadata": {
    "collapsed": false,
    "ExecuteTime": {
     "end_time": "2024-02-12T10:17:11.752732493Z",
     "start_time": "2024-02-12T10:17:11.748888190Z"
    }
   },
   "id": "387b61aa4e4d02f4",
   "execution_count": 14
  },
  {
   "cell_type": "code",
   "outputs": [
    {
     "name": "stdout",
     "output_type": "stream",
     "text": [
      "EPS stands for Electrical Power System.\n"
     ]
    }
   ],
   "source": [
    "response = query_engine.query(\"What does EPS stand for?\")\n",
    "print(str(response))"
   ],
   "metadata": {
    "collapsed": false,
    "ExecuteTime": {
     "end_time": "2024-02-12T10:17:13.638629279Z",
     "start_time": "2024-02-12T10:17:12.486097516Z"
    }
   },
   "id": "f9f1cc8954ac37c0",
   "execution_count": 15
  },
  {
   "cell_type": "markdown",
   "source": [
    "## Evaluation"
   ],
   "metadata": {
    "collapsed": false
   },
   "id": "3c8ad7410b3fd3df"
  },
  {
   "cell_type": "code",
   "outputs": [],
   "source": [
    "from trulens_eval import Tru\n",
    "tru = Tru()"
   ],
   "metadata": {
    "collapsed": false,
    "ExecuteTime": {
     "end_time": "2024-02-12T10:17:16.898532119Z",
     "start_time": "2024-02-12T10:17:16.889820768Z"
    }
   },
   "id": "c4255902900dd745",
   "execution_count": 16
  },
  {
   "cell_type": "code",
   "outputs": [],
   "source": [
    "from trulens_eval.feedback.provider.openai import OpenAI\n",
    "openai = OpenAI()"
   ],
   "metadata": {
    "collapsed": false,
    "ExecuteTime": {
     "end_time": "2024-02-12T10:17:18.848888045Z",
     "start_time": "2024-02-12T10:17:18.807559715Z"
    }
   },
   "id": "84b5525c2eedcacc",
   "execution_count": 17
  },
  {
   "cell_type": "code",
   "outputs": [],
   "source": [
    "from trulens_eval.app import App\n",
    "\n",
    "# select context to be used in feedback\n",
    "context = App.select_context(query_engine)"
   ],
   "metadata": {
    "collapsed": false,
    "ExecuteTime": {
     "end_time": "2024-02-12T10:17:20.330157144Z",
     "start_time": "2024-02-12T10:17:20.325678110Z"
    }
   },
   "id": "79814354b6fc2de8",
   "execution_count": 18
  },
  {
   "cell_type": "code",
   "outputs": [
    {
     "name": "stdout",
     "output_type": "stream",
     "text": [
      "✅ In Groundedness, input source will be set to __record__.app.query.rets.source_nodes[:].node.text.collect() .\n",
      "✅ In Groundedness, input statement will be set to __record__.main_output or `Select.RecordOutput` .\n"
     ]
    }
   ],
   "source": [
    "from trulens_eval.feedback import Groundedness, Feedback\n",
    "\n",
    "grounded = Groundedness(groundedness_provider=OpenAI())\n",
    "f_groundedness = (\n",
    "    Feedback(grounded.groundedness_measure_with_cot_reasons, name=\"Groundedness\")\n",
    "    .on(context.collect()) # collect context chunks into a list\n",
    "    .on_output()\n",
    "    .aggregate(grounded.grounded_statements_aggregator)\n",
    ")"
   ],
   "metadata": {
    "collapsed": false,
    "ExecuteTime": {
     "end_time": "2024-02-12T10:17:22.234095630Z",
     "start_time": "2024-02-12T10:17:22.166230628Z"
    }
   },
   "id": "a5e7410e046c4f51",
   "execution_count": 19
  },
  {
   "cell_type": "code",
   "outputs": [
    {
     "name": "stdout",
     "output_type": "stream",
     "text": [
      "✅ In Response Relevance, input prompt will be set to __record__.main_input or `Select.RecordInput` .\n",
      "✅ In Response Relevance, input response will be set to __record__.main_output or `Select.RecordOutput` .\n"
     ]
    }
   ],
   "source": [
    "# response relevance\n",
    "f_qa_relevance = Feedback(openai.relevance, name=\"Response Relevance\").on_input_output()"
   ],
   "metadata": {
    "collapsed": false,
    "ExecuteTime": {
     "end_time": "2024-02-12T10:16:23.415667968Z",
     "start_time": "2024-02-12T10:16:23.405693990Z"
    }
   },
   "id": "2948de0ba1c2078a",
   "execution_count": 9
  },
  {
   "cell_type": "code",
   "outputs": [
    {
     "name": "stdout",
     "output_type": "stream",
     "text": [
      "✅ In Context Relevance, input question will be set to __record__.main_input or `Select.RecordInput` .\n",
      "✅ In Context Relevance, input statement will be set to __record__.app.query.rets.source_nodes[:].node.text .\n"
     ]
    }
   ],
   "source": [
    "import numpy as np\n",
    "\n",
    "# context relevance\n",
    "f_qs_relevance = (\n",
    "    Feedback(openai.qs_relevance, name=\"Context Relevance\")\n",
    "    .on_input()\n",
    "    .on(context)\n",
    "    .aggregate(np.mean)\n",
    ")"
   ],
   "metadata": {
    "collapsed": false,
    "ExecuteTime": {
     "end_time": "2024-02-12T10:17:25.391256763Z",
     "start_time": "2024-02-12T10:17:25.384158148Z"
    }
   },
   "id": "5aecb43d26c572ff",
   "execution_count": 20
  },
  {
   "cell_type": "code",
   "outputs": [],
   "source": [
    "from trulens_eval import TruLlama\n",
    "\n",
    "tru_query_engine_recorder = TruLlama(\n",
    "    app=query_engine,\n",
    "    app_id=\"basic-1\",\n",
    "    feedbacks=[f_groundedness, f_qa_relevance, f_qs_relevance]\n",
    ")"
   ],
   "metadata": {
    "collapsed": false,
    "ExecuteTime": {
     "end_time": "2024-02-12T10:17:27.250313260Z",
     "start_time": "2024-02-12T10:17:27.163130087Z"
    }
   },
   "id": "2b851c347c628850",
   "execution_count": 21
  },
  {
   "cell_type": "code",
   "outputs": [],
   "source": [
    "with tru_query_engine_recorder as recording:\n",
    "    query_engine.query(\"How can I turn off the ECS controller?\")"
   ],
   "metadata": {
    "collapsed": false,
    "ExecuteTime": {
     "end_time": "2024-02-12T10:17:30.666064967Z",
     "start_time": "2024-02-12T10:17:28.398427950Z"
    }
   },
   "id": "5e9e6b29bec24805",
   "execution_count": 22
  },
  {
   "cell_type": "code",
   "outputs": [
    {
     "name": "stdout",
     "output_type": "stream",
     "text": [
      "Starting dashboard ...\n",
      "Config file already exists. Skipping writing process.\n",
      "Credentials file already exists. Skipping writing process.\n",
      "Dashboard already running at path:   Network URL: http://192.168.178.44:8501\n"
     ]
    },
    {
     "data": {
      "text/plain": "<Popen: returncode: None args: ['streamlit', 'run', '--server.headless=True'...>"
     },
     "execution_count": 24,
     "metadata": {},
     "output_type": "execute_result"
    }
   ],
   "source": [
    "tru.run_dashboard()"
   ],
   "metadata": {
    "collapsed": false,
    "ExecuteTime": {
     "end_time": "2024-02-12T10:17:43.230690542Z",
     "start_time": "2024-02-12T10:17:43.227305475Z"
    }
   },
   "id": "7634ebff71892434",
   "execution_count": 24
  },
  {
   "cell_type": "code",
   "outputs": [],
   "source": [
    "tru.stop_dashboard()"
   ],
   "metadata": {
    "collapsed": false,
    "ExecuteTime": {
     "end_time": "2024-02-12T10:17:56.709103722Z",
     "start_time": "2024-02-12T10:17:56.705628719Z"
    }
   },
   "id": "4f44640ce9af54b",
   "execution_count": 25
  },
  {
   "cell_type": "code",
   "outputs": [],
   "source": [
    "tru.reset_database()"
   ],
   "metadata": {
    "collapsed": false,
    "ExecuteTime": {
     "end_time": "2024-02-12T10:17:58.490474189Z",
     "start_time": "2024-02-12T10:17:58.446243533Z"
    }
   },
   "id": "9faee66492782459",
   "execution_count": 26
  }
 ],
 "metadata": {
  "kernelspec": {
   "display_name": "Python 3",
   "language": "python",
   "name": "python3"
  },
  "language_info": {
   "codemirror_mode": {
    "name": "ipython",
    "version": 2
   },
   "file_extension": ".py",
   "mimetype": "text/x-python",
   "name": "python",
   "nbconvert_exporter": "python",
   "pygments_lexer": "ipython2",
   "version": "2.7.6"
  }
 },
 "nbformat": 4,
 "nbformat_minor": 5
}
