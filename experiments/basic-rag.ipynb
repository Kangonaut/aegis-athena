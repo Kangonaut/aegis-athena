{
 "cells": [
  {
   "cell_type": "code",
   "outputs": [
    {
     "data": {
      "text/plain": "True"
     },
     "execution_count": 29,
     "metadata": {},
     "output_type": "execute_result"
    }
   ],
   "source": [
    "import dotenv\n",
    "\n",
    "dotenv.load_dotenv()"
   ],
   "metadata": {
    "collapsed": false,
    "ExecuteTime": {
     "end_time": "2024-02-11T08:36:22.853806483Z",
     "start_time": "2024-02-11T08:36:22.811388756Z"
    }
   },
   "id": "d36047e220991945",
   "execution_count": 29
  },
  {
   "cell_type": "markdown",
   "source": [
    "## Assemble RAG Pipeline"
   ],
   "metadata": {
    "collapsed": false
   },
   "id": "232df55830fd6e2c"
  },
  {
   "cell_type": "code",
   "execution_count": 31,
   "id": "initial_id",
   "metadata": {
    "collapsed": true,
    "ExecuteTime": {
     "end_time": "2024-02-11T08:36:25.568810450Z",
     "start_time": "2024-02-11T08:36:25.380099138Z"
    }
   },
   "outputs": [],
   "source": [
    "from rag import weaviate_utils\n",
    "from llama_index import VectorStoreIndex\n",
    "\n",
    "# assumes that the database has already been populated\n",
    "weaviate_client = weaviate_utils.get_weaviate_client()\n",
    "vector_store = weaviate_utils.as_vector_store(weaviate_client, class_name=\"DocsChunk\")\n",
    "index = VectorStoreIndex.from_vector_store(vector_store)"
   ]
  },
  {
   "cell_type": "code",
   "outputs": [],
   "source": [
    "query_engine = index.as_query_engine(verbose=True)"
   ],
   "metadata": {
    "collapsed": false,
    "ExecuteTime": {
     "end_time": "2024-02-11T08:36:30.326728173Z",
     "start_time": "2024-02-11T08:36:30.320609864Z"
    }
   },
   "id": "387b61aa4e4d02f4",
   "execution_count": 32
  },
  {
   "cell_type": "markdown",
   "source": [
    "## Evaluation"
   ],
   "metadata": {
    "collapsed": false
   },
   "id": "3c8ad7410b3fd3df"
  },
  {
   "cell_type": "code",
   "outputs": [],
   "source": [
    "from trulens_eval import Tru\n",
    "tru = Tru()"
   ],
   "metadata": {
    "collapsed": false,
    "ExecuteTime": {
     "end_time": "2024-02-11T08:36:35.687922365Z",
     "start_time": "2024-02-11T08:36:35.682470894Z"
    }
   },
   "id": "c4255902900dd745",
   "execution_count": 34
  },
  {
   "cell_type": "code",
   "outputs": [],
   "source": [
    "from trulens_eval.feedback.provider.openai import OpenAI\n",
    "openai = OpenAI()"
   ],
   "metadata": {
    "collapsed": false,
    "ExecuteTime": {
     "end_time": "2024-02-11T08:36:57.051765976Z",
     "start_time": "2024-02-11T08:36:57.003409563Z"
    }
   },
   "id": "84b5525c2eedcacc",
   "execution_count": 35
  },
  {
   "cell_type": "code",
   "outputs": [],
   "source": [
    "from trulens_eval.app import App\n",
    "\n",
    "# select context to be used in feedback\n",
    "context = App.select_context(query_engine)"
   ],
   "metadata": {
    "collapsed": false,
    "ExecuteTime": {
     "end_time": "2024-02-11T08:37:22.101156186Z",
     "start_time": "2024-02-11T08:37:22.059038122Z"
    }
   },
   "id": "79814354b6fc2de8",
   "execution_count": 36
  },
  {
   "cell_type": "code",
   "outputs": [
    {
     "name": "stdout",
     "output_type": "stream",
     "text": [
      "✅ In Groundedness, input source will be set to __record__.app.query.rets.source_nodes[:].node.text.collect() .\n",
      "✅ In Groundedness, input statement will be set to __record__.main_output or `Select.RecordOutput` .\n"
     ]
    }
   ],
   "source": [
    "from trulens_eval.feedback import Groundedness, Feedback\n",
    "\n",
    "grounded = Groundedness(groundedness_provider=OpenAI())\n",
    "f_groundedness = (\n",
    "    Feedback(grounded.groundedness_measure_with_cot_reasons, name=\"Groundedness\")\n",
    "    .on(context.collect()) # collect context chunks into a list\n",
    "    .on_output()\n",
    "    .aggregate(grounded.grounded_statements_aggregator)\n",
    ")"
   ],
   "metadata": {
    "collapsed": false,
    "ExecuteTime": {
     "end_time": "2024-02-11T08:45:17.329376205Z",
     "start_time": "2024-02-11T08:45:17.254884985Z"
    }
   },
   "id": "a5e7410e046c4f51",
   "execution_count": 46
  },
  {
   "cell_type": "code",
   "outputs": [
    {
     "name": "stdout",
     "output_type": "stream",
     "text": [
      "✅ In Response Relevance, input prompt will be set to __record__.main_input or `Select.RecordInput` .\n",
      "✅ In Response Relevance, input response will be set to __record__.main_output or `Select.RecordOutput` .\n"
     ]
    }
   ],
   "source": [
    "# response relevance\n",
    "f_qa_relevance = Feedback(openai.relevance, name=\"Response Relevance\").on_input_output()"
   ],
   "metadata": {
    "collapsed": false,
    "ExecuteTime": {
     "end_time": "2024-02-11T08:45:19.623066691Z",
     "start_time": "2024-02-11T08:45:19.601458891Z"
    }
   },
   "id": "2948de0ba1c2078a",
   "execution_count": 47
  },
  {
   "cell_type": "code",
   "outputs": [
    {
     "name": "stdout",
     "output_type": "stream",
     "text": [
      "✅ In Context Relevance, input question will be set to __record__.main_input or `Select.RecordInput` .\n",
      "✅ In Context Relevance, input statement will be set to __record__.app.query.rets.source_nodes[:].node.text .\n"
     ]
    }
   ],
   "source": [
    "import numpy as np\n",
    "\n",
    "# context relevance\n",
    "f_qs_relevance = (\n",
    "    Feedback(openai.qs_relevance, name=\"Context Relevance\")\n",
    "    .on_input()\n",
    "    .on(context)\n",
    "    .aggregate(np.mean)\n",
    ")"
   ],
   "metadata": {
    "collapsed": false,
    "ExecuteTime": {
     "end_time": "2024-02-11T08:45:21.194266340Z",
     "start_time": "2024-02-11T08:45:21.162079633Z"
    }
   },
   "id": "5aecb43d26c572ff",
   "execution_count": 48
  },
  {
   "cell_type": "code",
   "outputs": [],
   "source": [
    "from trulens_eval import TruLlama\n",
    "\n",
    "tru_query_engine_recorder = TruLlama(\n",
    "    app=query_engine,\n",
    "    app_id=\"basic-1\",\n",
    "    feedbacks=[f_groundedness, f_qa_relevance, f_qs_relevance]\n",
    ")"
   ],
   "metadata": {
    "collapsed": false,
    "ExecuteTime": {
     "end_time": "2024-02-11T08:46:02.182989980Z",
     "start_time": "2024-02-11T08:46:02.143098754Z"
    }
   },
   "id": "2b851c347c628850",
   "execution_count": 55
  },
  {
   "cell_type": "code",
   "outputs": [],
   "source": [
    "with tru_query_engine_recorder as recording:\n",
    "    query_engine.query(\"How can I turn off the ECS controller?\")"
   ],
   "metadata": {
    "collapsed": false,
    "ExecuteTime": {
     "end_time": "2024-02-11T08:46:05.865893908Z",
     "start_time": "2024-02-11T08:46:03.749702711Z"
    }
   },
   "id": "5e9e6b29bec24805",
   "execution_count": 56
  },
  {
   "cell_type": "code",
   "outputs": [
    {
     "name": "stdout",
     "output_type": "stream",
     "text": [
      "Starting dashboard ...\n",
      "Config file already exists. Skipping writing process.\n",
      "Credentials file already exists. Skipping writing process.\n",
      "Dashboard already running at path:   Network URL: http://192.168.178.44:8501\n"
     ]
    },
    {
     "data": {
      "text/plain": "<Popen: returncode: None args: ['streamlit', 'run', '--server.headless=True'...>"
     },
     "execution_count": 51,
     "metadata": {},
     "output_type": "execute_result"
    }
   ],
   "source": [
    "tru.run_dashboard()"
   ],
   "metadata": {
    "collapsed": false,
    "ExecuteTime": {
     "end_time": "2024-02-11T08:45:26.291017606Z",
     "start_time": "2024-02-11T08:45:26.287868712Z"
    }
   },
   "id": "7634ebff71892434",
   "execution_count": 51
  },
  {
   "cell_type": "code",
   "outputs": [],
   "source": [
    "tru.stop_dashboard()"
   ],
   "metadata": {
    "collapsed": false,
    "ExecuteTime": {
     "end_time": "2024-02-11T10:51:05.216681963Z",
     "start_time": "2024-02-11T10:51:05.171532509Z"
    }
   },
   "id": "4f44640ce9af54b",
   "execution_count": 57
  },
  {
   "cell_type": "code",
   "outputs": [],
   "source": [
    "tru.reset_database()"
   ],
   "metadata": {
    "collapsed": false,
    "ExecuteTime": {
     "end_time": "2024-02-11T08:46:00.051484220Z",
     "start_time": "2024-02-11T08:46:00.019898142Z"
    }
   },
   "id": "9faee66492782459",
   "execution_count": 54
  }
 ],
 "metadata": {
  "kernelspec": {
   "display_name": "Python 3",
   "language": "python",
   "name": "python3"
  },
  "language_info": {
   "codemirror_mode": {
    "name": "ipython",
    "version": 2
   },
   "file_extension": ".py",
   "mimetype": "text/x-python",
   "name": "python",
   "nbconvert_exporter": "python",
   "pygments_lexer": "ipython2",
   "version": "2.7.6"
  }
 },
 "nbformat": 4,
 "nbformat_minor": 5
}
