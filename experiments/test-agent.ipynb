{
 "cells": [
  {
   "cell_type": "markdown",
   "source": [
    "## Enable Tracing"
   ],
   "metadata": {
    "collapsed": false
   },
   "id": "a4f2ace765a4efcf"
  },
  {
   "cell_type": "code",
   "outputs": [
    {
     "data": {
      "text/plain": "True"
     },
     "execution_count": 1,
     "metadata": {},
     "output_type": "execute_result"
    }
   ],
   "source": [
    "import dotenv\n",
    "\n",
    "dotenv.load_dotenv()"
   ],
   "metadata": {
    "collapsed": false,
    "ExecuteTime": {
     "end_time": "2024-02-25T18:25:05.088464634Z",
     "start_time": "2024-02-25T18:25:05.083310046Z"
    }
   },
   "id": "3e16d58fe03359c6",
   "execution_count": 1
  },
  {
   "cell_type": "code",
   "outputs": [],
   "source": [
    "import llama_index.core\n",
    "\n",
    "llama_index.core.set_global_handler(\"arize_phoenix\")"
   ],
   "metadata": {
    "collapsed": false,
    "ExecuteTime": {
     "end_time": "2024-02-25T18:25:09.176295275Z",
     "start_time": "2024-02-25T18:25:05.083518806Z"
    }
   },
   "id": "5ccbdfb9df14c9c5",
   "execution_count": 2
  },
  {
   "cell_type": "markdown",
   "source": [
    "## Load Agent"
   ],
   "metadata": {
    "collapsed": false
   },
   "id": "3da2ec08bcf642ef"
  },
  {
   "cell_type": "code",
   "outputs": [
    {
     "name": "stderr",
     "output_type": "stream",
     "text": [
      "2024-02-25 19:25:09.565 \n",
      "  \u001B[33m\u001B[1mWarning:\u001B[0m to view this Streamlit app on a browser, run it with the following\n",
      "  command:\n",
      "\n",
      "    streamlit run /home/kangonaut/data/aegis-athena/venv/lib/python3.11/site-packages/ipykernel_launcher.py [ARGUMENTS]\n",
      "/home/kangonaut/data/aegis-athena/venv/lib/python3.11/site-packages/weaviate/warnings.py:121: DeprecationWarning: Dep005: You are using weaviate-client version 3.26.2. The latest version is 4.4.4.\n",
      "            Please consider upgrading to the latest version. See https://weaviate.io/developers/weaviate/client-libraries/python for details.\n",
      "  warnings.warn(\n"
     ]
    }
   ],
   "source": [
    "from agent import mars\n",
    "\n",
    "agent = mars.build_agent()"
   ],
   "metadata": {
    "collapsed": false,
    "ExecuteTime": {
     "end_time": "2024-02-25T18:25:14.168409614Z",
     "start_time": "2024-02-25T18:25:09.218684799Z"
    }
   },
   "id": "805a9fbaeec68ec3",
   "execution_count": 3
  },
  {
   "cell_type": "markdown",
   "source": [
    "## Query"
   ],
   "metadata": {
    "collapsed": false
   },
   "id": "8331124be3215ee1"
  },
  {
   "cell_type": "code",
   "outputs": [
    {
     "name": "stdout",
     "output_type": "stream",
     "text": [
      "\u001B[1;3;38;5;200mThought: I need to use the tool to find out what the OSCPCS is, as it's not a commonly referenced system in standard space mission terminology.\n",
      "Action: knowledge_base\n",
      "Action Input: {'query': 'What is the OSCPCS?'}\n",
      "\u001B[0m\u001B[1;3;34mObservation: # Extract #1 from the Aegis Athena documentation:\n",
      "Each component of the WCS works together, harmonizing the regulation and distribution of water to sustain both life and machine within the S.P.A.C.E.C.R.A.F.T.  The subsystem, while unassuming in comparison to the more mechanical elements of a spacecraft, underpins life and mission success in the unforgiving environment of space.\n",
      "\n",
      "\n",
      "\n",
      "\n",
      "\n",
      " 2.3.3.2 Oxygen Supply and Cabin Pressure Control Section (OSCPCS)\n",
      "\n",
      "The Oxygen Supply and Cabin Pressure Control Section (OSCPCS) is a masterful blend of engineering and planning designed to support life in the remote expanse of space.  The OSCPCS stores gaseous oxygen and regulates the cabin and suit pressures by providing oxygen to the Atmosphere Revitalization System (ARS).  It compensates for the metabolic consumption of the crew, ensuring that the astronauts always have a steady supply of breathable air.\n",
      "\n",
      " The blend of cabin air is a careful mix of 60% nitrogen and 40% oxygen, designed to minimize the risk of fire, a potentially catastrophic event in the spacecraft.\n",
      "\n",
      "\n",
      "\n",
      "\n",
      "\n",
      "\n",
      "\n",
      "# Extract #2 from the Aegis Athena documentation:\n",
      "It smartly allocates water resources depending on the consumption requirements, overseeing efficient use of available reserves and making necessary projections for potential needs.\n",
      "\n",
      " Each component of the WCS works together, harmonizing the regulation and distribution of water to sustain both life and machine within the S.P.A.C.E.C.R.A.F.T.  The subsystem, while unassuming in comparison to the more mechanical elements of a spacecraft, underpins life and mission success in the unforgiving environment of space.\n",
      "\n",
      "\n",
      "\n",
      "\n",
      "\n",
      " 2.3.3.2 Oxygen Supply and Cabin Pressure Control Section (OSCPCS)\n",
      "\n",
      "The Oxygen Supply and Cabin Pressure Control Section (OSCPCS) is a masterful blend of engineering and planning designed to support life in the remote expanse of space.  The OSCPCS stores gaseous oxygen and regulates the cabin and suit pressures by providing oxygen to the Atmosphere Revitalization System (ARS).  It compensates for the metabolic consumption of the crew, ensuring that the astronauts always have a steady supply of breathable air.\n",
      "\n",
      "\n",
      "\n",
      "# Extract #3 from the Aegis Athena documentation:\n",
      "The LN2 tank ensures that there is always a sufficient supply of nitrogen to maintain this optimal balance.\n",
      "\n",
      "\n",
      "\n",
      "\n",
      "\n",
      " 2.3.3.2.2 LOX Tanks\n",
      "\n",
      "The LOX Tanks, part of the Electrical Power System (EPS), play a critical role in the OSCPCS operation.  They store the necessary liquid oxygen, which can be released and converted into gaseous form as required to maintain the desired oxygen percentage in the cabin.\n",
      "\n",
      "\n",
      "\n",
      "\n",
      "\n",
      " 2.3.3.2.3 OSCPCS Controller\n",
      "\n",
      "The OSCPCS Controller is the heart of the OSCPCS operations.  It constantly monitors and regulates the levels of nitrogen and oxygen, along with the cabin and suit pressures.  Depending on the crew's metabolic requirements and the spacecraft's conditions, the OSCPCS Controller makes real-time adjustments to maintain a safe and comfortable environment for the astronauts throughout their lunar mission.\n",
      "\n",
      "\n",
      "\n",
      "\n",
      "\n",
      "\n",
      "\n",
      "\n",
      "\u001B[0m\u001B[1;3;38;5;200mThought: Now that I have the information from the tool, I can explain the OSCPCS to Bob.\n",
      "Answer: The Oxygen Supply and Cabin Pressure Control Section (OSCPCS), Bob, is like the spacecraft's lungs and atmospheric regulator rolled into one. It's tasked with making sure you've got the right mix of air to breathe and that the pressure inside your suit and the cabin stays just perfect. It stores oxygen in gaseous form and feeds it into the Atmosphere Revitalization System (ARS) to keep up with what you breathe out. The air you're breathing is a carefully mixed cocktail of 60% nitrogen and 40% oxygen, keeping things safe and minimizing fire risks. The OSCPCS also has these cool LOX Tanks for storing liquid oxygen, which it can convert into gas as needed. And at the heart of it all is the OSCPCS Controller, a smart system that keeps an eye on oxygen and nitrogen levels, adjusting things in real-time based on what you need. It's like having a super attentive space buddy making sure you're always comfortable and safe.\n",
      "\u001B[0mThe Oxygen Supply and Cabin Pressure Control Section (OSCPCS), Bob, is like the spacecraft's lungs and atmospheric regulator rolled into one. It's tasked with making sure you've got the right mix of air to breathe and that the pressure inside your suit and the cabin stays just perfect. It stores oxygen in gaseous form and feeds it into the Atmosphere Revitalization System (ARS) to keep up with what you breathe out. The air you're breathing is a carefully mixed cocktail of 60% nitrogen and 40% oxygen, keeping things safe and minimizing fire risks. The OSCPCS also has these cool LOX Tanks for storing liquid oxygen, which it can convert into gas as needed. And at the heart of it all is the OSCPCS Controller, a smart system that keeps an eye on oxygen and nitrogen levels, adjusting things in real-time based on what you need. It's like having a super attentive space buddy making sure you're always comfortable and safe.\n"
     ]
    }
   ],
   "source": [
    "response = agent.chat(\n",
    "    message=\"what is the OSCPCS?\",\n",
    ")\n",
    "print(str(response))\n",
    "# print(answer.message.content)"
   ],
   "metadata": {
    "collapsed": false,
    "ExecuteTime": {
     "end_time": "2024-02-25T18:27:20.193274498Z",
     "start_time": "2024-02-25T18:27:00.470206444Z"
    }
   },
   "id": "dd3ae7fb2716ea29",
   "execution_count": 6
  }
 ],
 "metadata": {
  "kernelspec": {
   "display_name": "Python 3",
   "language": "python",
   "name": "python3"
  },
  "language_info": {
   "codemirror_mode": {
    "name": "ipython",
    "version": 2
   },
   "file_extension": ".py",
   "mimetype": "text/x-python",
   "name": "python",
   "nbconvert_exporter": "python",
   "pygments_lexer": "ipython2",
   "version": "2.7.6"
  }
 },
 "nbformat": 4,
 "nbformat_minor": 5
}
