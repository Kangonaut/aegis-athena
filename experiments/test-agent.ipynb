{
 "cells": [
  {
   "cell_type": "markdown",
   "source": [
    "## Enable Tracing"
   ],
   "metadata": {
    "collapsed": false
   },
   "id": "a4f2ace765a4efcf"
  },
  {
   "cell_type": "code",
   "outputs": [
    {
     "data": {
      "text/plain": "True"
     },
     "execution_count": 1,
     "metadata": {},
     "output_type": "execute_result"
    }
   ],
   "source": [
    "import dotenv\n",
    "\n",
    "dotenv.load_dotenv()"
   ],
   "metadata": {
    "collapsed": false,
    "ExecuteTime": {
     "end_time": "2024-02-25T13:28:19.384215793Z",
     "start_time": "2024-02-25T13:28:19.382891975Z"
    }
   },
   "id": "3e16d58fe03359c6",
   "execution_count": 1
  },
  {
   "cell_type": "code",
   "outputs": [],
   "source": [
    "import llama_index.core\n",
    "\n",
    "llama_index.core.set_global_handler(\"arize_phoenix\")"
   ],
   "metadata": {
    "collapsed": false,
    "ExecuteTime": {
     "end_time": "2024-02-25T13:28:23.479615373Z",
     "start_time": "2024-02-25T13:28:19.385159799Z"
    }
   },
   "id": "5ccbdfb9df14c9c5",
   "execution_count": 2
  },
  {
   "cell_type": "markdown",
   "source": [
    "## Load Agent"
   ],
   "metadata": {
    "collapsed": false
   },
   "id": "3da2ec08bcf642ef"
  },
  {
   "cell_type": "code",
   "outputs": [
    {
     "name": "stderr",
     "output_type": "stream",
     "text": [
      "2024-02-25 14:28:23.869 \n",
      "  \u001B[33m\u001B[1mWarning:\u001B[0m to view this Streamlit app on a browser, run it with the following\n",
      "  command:\n",
      "\n",
      "    streamlit run /home/kangonaut/data/aegis-athena/venv/lib/python3.11/site-packages/ipykernel_launcher.py [ARGUMENTS]\n",
      "/home/kangonaut/data/aegis-athena/venv/lib/python3.11/site-packages/weaviate/warnings.py:121: DeprecationWarning: Dep005: You are using weaviate-client version 3.26.2. The latest version is 4.4.4.\n",
      "            Please consider upgrading to the latest version. See https://weaviate.io/developers/weaviate/client-libraries/python for details.\n",
      "  warnings.warn(\n",
      "/home/kangonaut/data/aegis-athena/rag/mars.py:392: DeprecationWarning: Call to deprecated class method from_defaults. (ServiceContext is deprecated, please use `llama_index.settings.Settings` instead.) -- Deprecated since version 0.10.0.\n",
      "  service_context = ServiceContext.from_defaults(llm=llm)\n"
     ]
    }
   ],
   "source": [
    "from agent import mars\n",
    "\n",
    "agent = mars.build_agent()"
   ],
   "metadata": {
    "collapsed": false,
    "ExecuteTime": {
     "end_time": "2024-02-25T13:28:27.599445865Z",
     "start_time": "2024-02-25T13:28:23.480002382Z"
    }
   },
   "id": "805a9fbaeec68ec3",
   "execution_count": 3
  },
  {
   "cell_type": "markdown",
   "source": [
    "## Query"
   ],
   "metadata": {
    "collapsed": false
   },
   "id": "8331124be3215ee1"
  },
  {
   "cell_type": "code",
   "outputs": [
    {
     "name": "stdout",
     "output_type": "stream",
     "text": [
      "\u001B[1;3;38;5;200mThought: To provide the specific command for checking the Atmospheric Regeneration System (ARS) via the console, I need to use the knowledge_base_retriever tool to find the correct command.\n",
      "Action: knowledge_base_retriever\n",
      "Action Input: {'input': 'What is the command to check the Atmospheric Regeneration System (ARS) status on the Aegis Athena spaceflight mission?'}\n",
      "\u001B[0m\u001B[1;3;34mObservation: The command to check the Atmospheric Regeneration System (ARS) status on the Aegis Athena spaceflight mission is not provided in the given context information.\n",
      "\u001B[0m\u001B[1;3;38;5;200mThought: Since the specific command for checking the Atmospheric Regeneration System (ARS) is not available in the provided context, I will provide a general approach that is commonly used in spacecraft systems for checking system status.\n",
      "Answer: In many spacecraft systems, to check the status of a specific system like the Atmospheric Regeneration System (ARS), a general command format might be used. While I can't provide the exact command for the Aegis Athena mission due to the lack of specific information, a typical command might look something like this: `check_status ARS` or `ARS_status`. Please note, this is a generalized example and the actual command might differ. It's important to consult the mission's specific documentation or system manual for the correct command. If you're unable to find the exact command in the documentation, I recommend contacting mission control for assistance.\n",
      "\u001B[0mIn many spacecraft systems, to check the status of a specific system like the Atmospheric Regeneration System (ARS), a general command format might be used. While I can't provide the exact command for the Aegis Athena mission due to the lack of specific information, a typical command might look something like this: `check_status ARS` or `ARS_status`. Please note, this is a generalized example and the actual command might differ. It's important to consult the mission's specific documentation or system manual for the correct command. If you're unable to find the exact command in the documentation, I recommend contacting mission control for assistance.\n"
     ]
    }
   ],
   "source": [
    "response = agent.chat(\n",
    "    message=\"i guess lets start with ARS\",\n",
    ")\n",
    "print(str(response))\n",
    "# print(answer.message.content)"
   ],
   "metadata": {
    "collapsed": false,
    "ExecuteTime": {
     "end_time": "2024-02-25T13:31:13.907866496Z",
     "start_time": "2024-02-25T13:30:53.467158034Z"
    }
   },
   "id": "dd3ae7fb2716ea29",
   "execution_count": 8
  }
 ],
 "metadata": {
  "kernelspec": {
   "display_name": "Python 3",
   "language": "python",
   "name": "python3"
  },
  "language_info": {
   "codemirror_mode": {
    "name": "ipython",
    "version": 2
   },
   "file_extension": ".py",
   "mimetype": "text/x-python",
   "name": "python",
   "nbconvert_exporter": "python",
   "pygments_lexer": "ipython2",
   "version": "2.7.6"
  }
 },
 "nbformat": 4,
 "nbformat_minor": 5
}
