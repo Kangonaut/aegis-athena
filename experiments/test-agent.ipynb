{
 "cells": [
  {
   "cell_type": "markdown",
   "source": [
    "## Enable Tracing"
   ],
   "metadata": {
    "collapsed": false
   },
   "id": "a4f2ace765a4efcf"
  },
  {
   "cell_type": "code",
   "outputs": [
    {
     "data": {
      "text/plain": "True"
     },
     "execution_count": 3,
     "metadata": {},
     "output_type": "execute_result"
    }
   ],
   "source": [
    "import dotenv\n",
    "\n",
    "dotenv.load_dotenv()"
   ],
   "metadata": {
    "collapsed": false,
    "ExecuteTime": {
     "end_time": "2024-02-25T10:54:07.410174451Z",
     "start_time": "2024-02-25T10:54:07.386178368Z"
    }
   },
   "id": "3e16d58fe03359c6",
   "execution_count": 3
  },
  {
   "cell_type": "code",
   "outputs": [],
   "source": [
    "import llama_index.core\n",
    "\n",
    "llama_index.core.set_global_handler(\"arize_phoenix\")"
   ],
   "metadata": {
    "collapsed": false,
    "ExecuteTime": {
     "end_time": "2024-02-25T10:54:26.546962347Z",
     "start_time": "2024-02-25T10:54:26.505332323Z"
    }
   },
   "id": "5ccbdfb9df14c9c5",
   "execution_count": 5
  },
  {
   "cell_type": "markdown",
   "source": [
    "## Load Agent"
   ],
   "metadata": {
    "collapsed": false
   },
   "id": "3da2ec08bcf642ef"
  },
  {
   "cell_type": "code",
   "outputs": [
    {
     "name": "stderr",
     "output_type": "stream",
     "text": [
      "/home/kangonaut/data/aegis-athena/venv/lib/python3.11/site-packages/weaviate/warnings.py:121: DeprecationWarning: Dep005: You are using weaviate-client version 3.26.2. The latest version is 4.4.4.\n",
      "            Please consider upgrading to the latest version. See https://weaviate.io/developers/weaviate/client-libraries/python for details.\n",
      "  warnings.warn(\n",
      "/home/kangonaut/data/aegis-athena/rag/mars.py:390: DeprecationWarning: Call to deprecated class method from_defaults. (ServiceContext is deprecated, please use `llama_index.settings.Settings` instead.) -- Deprecated since version 0.10.0.\n",
      "  service_context = ServiceContext.from_defaults(llm=llm)\n"
     ]
    }
   ],
   "source": [
    "from agent import mars\n",
    "\n",
    "agent = mars.get_v2_0()"
   ],
   "metadata": {
    "collapsed": false,
    "ExecuteTime": {
     "end_time": "2024-02-25T10:54:36.467416809Z",
     "start_time": "2024-02-25T10:54:30.002491578Z"
    }
   },
   "id": "805a9fbaeec68ec3",
   "execution_count": 6
  },
  {
   "cell_type": "markdown",
   "source": [
    "## Query"
   ],
   "metadata": {
    "collapsed": false
   },
   "id": "8331124be3215ee1"
  },
  {
   "cell_type": "code",
   "outputs": [
    {
     "name": "stdout",
     "output_type": "stream",
     "text": [
      "\u001B[1;3;38;5;200mThought: I need to use a tool to help me answer the question.\n",
      "Action: documentation_rag\n",
      "Action Input: {'input': 'achievements'}\n",
      "\u001B[0m\u001B[1;3;34mObservation: The achievements of the M.A.R.S. system include revolutionizing space missions by streamlining the process of accessing telemetry data and system configurations through a variety of commands. This ensures the spacecraft's performance is monitored in real-time, contributing to the success of the Aegis Athena mission. Additionally, establishing a reliable communication link between the astronauts on the lunar surface and mission control on Earth is a crucial objective that the system supports. Testing and evaluating the system's effectiveness is crucial for mission success.\n",
      "\u001B[0m\u001B[1;3;38;5;200mThought: I can answer without using any more tools.\n",
      "Answer: The achievement I was referring to is the revolutionizing of space missions by streamlining the process of accessing telemetry data and system configurations through the M.A.R.S. system. This ensures real-time monitoring of spacecraft performance and contributes to the success of the Aegis Athena mission. Additionally, establishing a reliable communication link between astronauts on the lunar surface and mission control on Earth is a crucial objective supported by the system. Testing and evaluating the system's effectiveness are also crucial for mission success.\n",
      "\u001B[0mThe achievement I was referring to is the revolutionizing of space missions by streamlining the process of accessing telemetry data and system configurations through the M.A.R.S. system. This ensures real-time monitoring of spacecraft performance and contributes to the success of the Aegis Athena mission. Additionally, establishing a reliable communication link between astronauts on the lunar surface and mission control on Earth is a crucial objective supported by the system. Testing and evaluating the system's effectiveness are also crucial for mission success.\n"
     ]
    }
   ],
   "source": [
    "from llama_index.core.base.llms.types import ChatResponse\n",
    "\n",
    "question: str = \"What is the main goal of Aegis Athena?\"\n",
    "response = agent.chat(\n",
    "    message=\"What achievement are you talking about?\",\n",
    ")\n",
    "print(str(response))\n",
    "# print(answer.message.content)"
   ],
   "metadata": {
    "collapsed": false,
    "ExecuteTime": {
     "end_time": "2024-02-25T10:57:24.712954982Z",
     "start_time": "2024-02-25T10:57:11.078983881Z"
    }
   },
   "id": "dd3ae7fb2716ea29",
   "execution_count": 8
  }
 ],
 "metadata": {
  "kernelspec": {
   "display_name": "Python 3",
   "language": "python",
   "name": "python3"
  },
  "language_info": {
   "codemirror_mode": {
    "name": "ipython",
    "version": 2
   },
   "file_extension": ".py",
   "mimetype": "text/x-python",
   "name": "python",
   "nbconvert_exporter": "python",
   "pygments_lexer": "ipython2",
   "version": "2.7.6"
  }
 },
 "nbformat": 4,
 "nbformat_minor": 5
}
