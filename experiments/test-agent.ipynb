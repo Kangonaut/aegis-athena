{
 "cells": [
  {
   "cell_type": "markdown",
   "source": [
    "## Enable Tracing"
   ],
   "metadata": {
    "collapsed": false
   },
   "id": "a4f2ace765a4efcf"
  },
  {
   "cell_type": "code",
   "outputs": [
    {
     "data": {
      "text/plain": "True"
     },
     "execution_count": 1,
     "metadata": {},
     "output_type": "execute_result"
    }
   ],
   "source": [
    "import dotenv\n",
    "\n",
    "dotenv.load_dotenv()"
   ],
   "metadata": {
    "collapsed": false,
    "ExecuteTime": {
     "end_time": "2024-02-25T12:15:22.026444198Z",
     "start_time": "2024-02-25T12:15:22.020130226Z"
    }
   },
   "id": "3e16d58fe03359c6",
   "execution_count": 1
  },
  {
   "cell_type": "code",
   "outputs": [],
   "source": [
    "import llama_index.core\n",
    "\n",
    "llama_index.core.set_global_handler(\"arize_phoenix\")"
   ],
   "metadata": {
    "collapsed": false,
    "ExecuteTime": {
     "end_time": "2024-02-25T12:15:25.915617180Z",
     "start_time": "2024-02-25T12:15:22.026350889Z"
    }
   },
   "id": "5ccbdfb9df14c9c5",
   "execution_count": 2
  },
  {
   "cell_type": "markdown",
   "source": [
    "## Load Agent"
   ],
   "metadata": {
    "collapsed": false
   },
   "id": "3da2ec08bcf642ef"
  },
  {
   "cell_type": "code",
   "outputs": [
    {
     "name": "stderr",
     "output_type": "stream",
     "text": [
      "2024-02-25 13:15:26.301 \n",
      "  \u001B[33m\u001B[1mWarning:\u001B[0m to view this Streamlit app on a browser, run it with the following\n",
      "  command:\n",
      "\n",
      "    streamlit run /home/kangonaut/data/aegis-athena/venv/lib/python3.11/site-packages/ipykernel_launcher.py [ARGUMENTS]\n",
      "/home/kangonaut/data/aegis-athena/venv/lib/python3.11/site-packages/weaviate/warnings.py:121: DeprecationWarning: Dep005: You are using weaviate-client version 3.26.2. The latest version is 4.4.4.\n",
      "            Please consider upgrading to the latest version. See https://weaviate.io/developers/weaviate/client-libraries/python for details.\n",
      "  warnings.warn(\n",
      "/home/kangonaut/data/aegis-athena/rag/mars.py:392: DeprecationWarning: Call to deprecated class method from_defaults. (ServiceContext is deprecated, please use `llama_index.settings.Settings` instead.) -- Deprecated since version 0.10.0.\n",
      "  service_context = ServiceContext.from_defaults(llm=llm)\n"
     ]
    }
   ],
   "source": [
    "from agent import mars\n",
    "\n",
    "agent = mars.build_agent()"
   ],
   "metadata": {
    "collapsed": false,
    "ExecuteTime": {
     "end_time": "2024-02-25T12:15:30.036167141Z",
     "start_time": "2024-02-25T12:15:25.916466743Z"
    }
   },
   "id": "805a9fbaeec68ec3",
   "execution_count": 3
  },
  {
   "cell_type": "markdown",
   "source": [
    "## Query"
   ],
   "metadata": {
    "collapsed": false
   },
   "id": "8331124be3215ee1"
  },
  {
   "cell_type": "code",
   "outputs": [
    {
     "name": "stdout",
     "output_type": "stream",
     "text": [
      "\u001B[1;3;38;5;200mThought: I need to use a tool to help me answer the question.\n",
      "Action: knowledge_base_retriever\n",
      "Action Input: {'input': 'What is the main goal of Aegis Athena?'}\n",
      "\u001B[0m\u001B[1;3;34mObservation: The main goal of Aegis Athena is to send the very first human being to the lunar surface, showcasing human ambition and scientific achievement while also establishing celestial superiority in the face of the Guild. Additionally, establishing a communication link between the astronauts on the lunar surface and mission control on Earth is a critical secondary objective of the mission.\n",
      "\u001B[0m\u001B[1;3;38;5;200mThought: I can answer without using any more tools.\n",
      "Answer: The main goal of Aegis Athena is to send the very first human being to the lunar surface, showcasing human ambition and scientific achievement while also establishing celestial superiority in the face of the Guild. Additionally, establishing a communication link between the astronauts on the lunar surface and mission control on Earth is a critical secondary objective of the mission.\n",
      "\u001B[0mThe main goal of Aegis Athena is to send the very first human being to the lunar surface, showcasing human ambition and scientific achievement while also establishing celestial superiority in the face of the Guild. Additionally, establishing a communication link between the astronauts on the lunar surface and mission control on Earth is a critical secondary objective of the mission.\n"
     ]
    }
   ],
   "source": [
    "response = agent.chat(\n",
    "    message=\"Which commands can be used to diagnose problems?\",\n",
    ")\n",
    "print(str(response))\n",
    "# print(answer.message.content)"
   ],
   "metadata": {
    "collapsed": false,
    "ExecuteTime": {
     "end_time": "2024-02-25T12:15:42.253824539Z",
     "start_time": "2024-02-25T12:15:30.036742422Z"
    }
   },
   "id": "dd3ae7fb2716ea29",
   "execution_count": 4
  }
 ],
 "metadata": {
  "kernelspec": {
   "display_name": "Python 3",
   "language": "python",
   "name": "python3"
  },
  "language_info": {
   "codemirror_mode": {
    "name": "ipython",
    "version": 2
   },
   "file_extension": ".py",
   "mimetype": "text/x-python",
   "name": "python",
   "nbconvert_exporter": "python",
   "pygments_lexer": "ipython2",
   "version": "2.7.6"
  }
 },
 "nbformat": 4,
 "nbformat_minor": 5
}
