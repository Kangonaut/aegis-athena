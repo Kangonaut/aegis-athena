{
 "cells": [
  {
   "cell_type": "markdown",
   "source": [
    "## Enable Tracing"
   ],
   "metadata": {
    "collapsed": false
   },
   "id": "a4f2ace765a4efcf"
  },
  {
   "cell_type": "code",
   "outputs": [
    {
     "data": {
      "text/plain": "True"
     },
     "execution_count": 3,
     "metadata": {},
     "output_type": "execute_result"
    }
   ],
   "source": [
    "import dotenv\n",
    "\n",
    "dotenv.load_dotenv()"
   ],
   "metadata": {
    "collapsed": false,
    "ExecuteTime": {
     "end_time": "2024-02-25T16:58:55.988994409Z",
     "start_time": "2024-02-25T16:58:55.965750868Z"
    }
   },
   "id": "3e16d58fe03359c6",
   "execution_count": 3
  },
  {
   "cell_type": "code",
   "outputs": [
    {
     "name": "stderr",
     "output_type": "stream",
     "text": [
      "/home/kangonaut/data/aegis-athena/venv/lib/python3.11/site-packages/umap/__init__.py:9: ImportWarning: Tensorflow not installed; ParametricUMAP will be unavailable\n",
      "  warn(\n"
     ]
    }
   ],
   "source": [
    "import llama_index.core\n",
    "\n",
    "llama_index.core.set_global_handler(\"arize_phoenix\")"
   ],
   "metadata": {
    "collapsed": false,
    "ExecuteTime": {
     "end_time": "2024-02-25T16:58:58.645566591Z",
     "start_time": "2024-02-25T16:58:55.989361661Z"
    }
   },
   "id": "5ccbdfb9df14c9c5",
   "execution_count": 4
  },
  {
   "cell_type": "markdown",
   "source": [
    "## Load Agent"
   ],
   "metadata": {
    "collapsed": false
   },
   "id": "3da2ec08bcf642ef"
  },
  {
   "cell_type": "code",
   "outputs": [
    {
     "name": "stderr",
     "output_type": "stream",
     "text": [
      "/home/kangonaut/data/aegis-athena/venv/lib/python3.11/site-packages/weaviate/warnings.py:121: DeprecationWarning: Dep005: You are using weaviate-client version 3.26.2. The latest version is 4.4.4.\n",
      "            Please consider upgrading to the latest version. See https://weaviate.io/developers/weaviate/client-libraries/python for details.\n",
      "  warnings.warn(\n"
     ]
    }
   ],
   "source": [
    "from agent import mars\n",
    "\n",
    "agent = mars.build_agent()"
   ],
   "metadata": {
    "collapsed": false,
    "ExecuteTime": {
     "end_time": "2024-02-25T16:59:00.682693451Z",
     "start_time": "2024-02-25T16:58:58.646206384Z"
    }
   },
   "id": "805a9fbaeec68ec3",
   "execution_count": 5
  },
  {
   "cell_type": "markdown",
   "source": [
    "## Query"
   ],
   "metadata": {
    "collapsed": false
   },
   "id": "8331124be3215ee1"
  },
  {
   "cell_type": "code",
   "outputs": [
    {
     "name": "stdout",
     "output_type": "stream",
     "text": [
      "\u001B[1;3;38;5;200mThought: I need to use a tool to help me answer the question.\n",
      "Action: knowledge_base\n",
      "Action Input: {'query': 'list command details'}\n",
      "\u001B[0m\u001B[1;3;34mObservation: # Extract #1 from the Aegis Athena documentation:\n",
      "systems and their components.  By invoking this command, the astronauts or mission control can quickly glance through the comprehensive list of operational systems present within the S.P.A.C.E.C.R.A.F.T.  module.\n",
      "\n",
      " - `details`: The `details` command dives deeper into the nitty-gritty of individual components.  On execution, this command supplies an exhaustive overview of a specific component's current status, presenting data like operating condition, temperature, parameter-specific data, and more.  The `details` command aids in comprehensive internal audits and system diagnostics.\n",
      "\n",
      "\n",
      "\n",
      "# Extract #2 from the Aegis Athena documentation:\n",
      "module.\n",
      "\n",
      " - `details`: The `details` command dives deeper into the nitty-gritty of individual components.  On execution, this command supplies an exhaustive overview of a specific component's current status, presenting data like operating condition, temperature, parameter-specific data, and more.  The `details` command aids in comprehensive internal audits and system diagnostics.\n",
      "\n",
      " - `ask`: The `ask` command interfaces with the onboard AI assistant M.A.R.S., enabling communication.  It can be utilized to request data interpretation, system status, resource allocation plans, scenario-based suggestions, and more. \n",
      "\n",
      "# Extract #3 from the Aegis Athena documentation:\n",
      "Be it setting the operational frequencies of communication antennas or defining the relationship between key system components, the `set` command is the right tool.  It gives astronauts and command centers a degree of control, enabling the adjustment of system parameters on-the-go based on immediate requirements and mission objectives.\n",
      "\n",
      "\n",
      "\n",
      "\n",
      "\n",
      " 3.3 The `list` Command\n",
      "\n",
      "The introductory rendition in this advanced series of commands is the `list` command.\n",
      "\n",
      "\n",
      "\n",
      "\n",
      "\n",
      " 3.3.1 Purpose\n",
      "\n",
      "The `list` embodies an extensive command with a purpose to enumerate critical components or systems associated with the spacecraft.\n",
      "\n",
      "\n",
      "\n",
      "\n",
      "\n",
      " 3.3.2 Syntax\n",
      "\n",
      "```\n",
      "list parts | systems\n",
      "```\n",
      "\n",
      "The command elegantly simplifies the user interaction by applying the `list` invocation followed by an immediate specification of either `parts` or `systems`.\n",
      "\n",
      "\n",
      "\n",
      "\n",
      "\n",
      " 3.3.3 Listing Parts\n",
      "\n",
      "Utilizing the `list parts` command generates a detailed, systematic listing of all the integral components of the S.P.A.C.E.C.R.A.F.T. \n",
      "\n",
      "# Extract #4 from the Aegis Athena documentation:\n",
      "- `set`: Among the most versatile commands, `set` allows for a multitude of system and component-specific configurations.  Be it setting the operational frequencies of communication antennas or defining the relationship between key system components, the `set` command is the right tool.  It gives astronauts and command centers a degree of control, enabling the adjustment of system parameters on-the-go based on immediate requirements and mission objectives.\n",
      "\n",
      "\n",
      "\n",
      "\n",
      "\n",
      " 3.3 The `list` Command\n",
      "\n",
      "The introductory rendition in this advanced series of commands is the `list` command.\n",
      "\n",
      "\n",
      "\n",
      "\n",
      "\n",
      " 3.3.1 Purpose\n",
      "\n",
      "The `list` embodies an extensive command with a purpose to enumerate critical components or systems associated with the spacecraft.\n",
      "\n",
      "\n",
      "\n",
      "\n",
      "\n",
      " 3.3.2 Syntax\n",
      "\n",
      "```\n",
      "list parts | systems\n",
      "```\n",
      "\n",
      "The command elegantly simplifies the user interaction by applying the `list` invocation followed by an immediate specification of either `parts` or `systems`.\n",
      "\n",
      "\n",
      "\n",
      "\n",
      "\n",
      "\n",
      "\n",
      "# Extract #5 from the Aegis Athena documentation:\n",
      "It gives astronauts and command centers a degree of control, enabling the adjustment of system parameters on-the-go based on immediate requirements and mission objectives.\n",
      "\n",
      "\n",
      "\n",
      "\n",
      "\n",
      " 3.3 The `list` Command\n",
      "\n",
      "The introductory rendition in this advanced series of commands is the `list` command.\n",
      "\n",
      "\n",
      "\n",
      "\n",
      "\n",
      " 3.3.1 Purpose\n",
      "\n",
      "The `list` embodies an extensive command with a purpose to enumerate critical components or systems associated with the spacecraft.\n",
      "\n",
      "\n",
      "\n",
      "\n",
      "\n",
      " 3.3.2 Syntax\n",
      "\n",
      "```\n",
      "list parts | systems\n",
      "```\n",
      "\n",
      "The command elegantly simplifies the user interaction by applying the `list` invocation followed by an immediate specification of either `parts` or `systems`.\n",
      "\n",
      "\n",
      "\n",
      "\n",
      "\n",
      " 3.3.3 Listing Parts\n",
      "\n",
      "Utilizing the `list parts` command generates a detailed, systematic listing of all the integral components of the S.P.A.C.E.C.R.A.F.T.  console. \n",
      "\n",
      "\n",
      "\u001B[0m\u001B[1;3;38;5;200mThought: I can answer without using any more tools.\n",
      "Answer: Awesome, Bob! Let's kick things off with the `list parts` command to get a detailed overview of all the integral components of the S.P.A.C.E.C.R.A.F.T. module. This will help us identify any parts that might be causing the alarms to go off. Once we have that list, we can dive deeper into the specifics of any component with the `details` command, followed by the Part ID. Ready to start the detective work? Let's silence those alarms and get back to exploring the stars!\n",
      "\u001B[0mAwesome, Bob! Let's kick things off with the `list parts` command to get a detailed overview of all the integral components of the S.P.A.C.E.C.R.A.F.T. module. This will help us identify any parts that might be causing the alarms to go off. Once we have that list, we can dive deeper into the specifics of any component with the `details` command, followed by the Part ID. Ready to start the detective work? Let's silence those alarms and get back to exploring the stars!\n"
     ]
    }
   ],
   "source": [
    "response = agent.chat(\n",
    "    message=\"yes, lets do it\",\n",
    ")\n",
    "print(str(response))\n",
    "# print(answer.message.content)"
   ],
   "metadata": {
    "collapsed": false,
    "ExecuteTime": {
     "end_time": "2024-02-25T17:00:52.316674801Z",
     "start_time": "2024-02-25T17:00:39.998469354Z"
    }
   },
   "id": "dd3ae7fb2716ea29",
   "execution_count": 9
  }
 ],
 "metadata": {
  "kernelspec": {
   "display_name": "Python 3",
   "language": "python",
   "name": "python3"
  },
  "language_info": {
   "codemirror_mode": {
    "name": "ipython",
    "version": 2
   },
   "file_extension": ".py",
   "mimetype": "text/x-python",
   "name": "python",
   "nbconvert_exporter": "python",
   "pygments_lexer": "ipython2",
   "version": "2.7.6"
  }
 },
 "nbformat": 4,
 "nbformat_minor": 5
}
