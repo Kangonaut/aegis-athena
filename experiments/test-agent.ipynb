{
 "cells": [
  {
   "cell_type": "markdown",
   "source": [
    "## Enable Tracing"
   ],
   "metadata": {
    "collapsed": false
   },
   "id": "a4f2ace765a4efcf"
  },
  {
   "cell_type": "code",
   "outputs": [],
   "source": [
    "from utils import environment_utils\n",
    "environment_utils.load_env()"
   ],
   "metadata": {
    "collapsed": false,
    "ExecuteTime": {
     "end_time": "2024-02-27T12:06:24.081659672Z",
     "start_time": "2024-02-27T12:06:21.959338329Z"
    }
   },
   "id": "3e16d58fe03359c6",
   "execution_count": 1
  },
  {
   "cell_type": "code",
   "outputs": [
    {
     "name": "stderr",
     "output_type": "stream",
     "text": [
      "/home/kangonaut/data/aegis-athena/venv/lib/python3.11/site-packages/umap/__init__.py:9: ImportWarning: Tensorflow not installed; ParametricUMAP will be unavailable\n",
      "  warn(\n"
     ]
    }
   ],
   "source": [
    "import llama_index.core\n",
    "\n",
    "llama_index.core.set_global_handler(\"arize_phoenix\")"
   ],
   "metadata": {
    "collapsed": false,
    "ExecuteTime": {
     "end_time": "2024-02-27T12:06:27.004931712Z",
     "start_time": "2024-02-27T12:06:24.081554962Z"
    }
   },
   "id": "5ccbdfb9df14c9c5",
   "execution_count": 2
  },
  {
   "cell_type": "markdown",
   "source": [
    "## Load Agent"
   ],
   "metadata": {
    "collapsed": false
   },
   "id": "3da2ec08bcf642ef"
  },
  {
   "cell_type": "code",
   "outputs": [
    {
     "name": "stderr",
     "output_type": "stream",
     "text": [
      "2024-02-27 13:06:27.181 \n",
      "  \u001B[33m\u001B[1mWarning:\u001B[0m to view this Streamlit app on a browser, run it with the following\n",
      "  command:\n",
      "\n",
      "    streamlit run /home/kangonaut/data/aegis-athena/venv/lib/python3.11/site-packages/ipykernel_launcher.py [ARGUMENTS]\n",
      "/home/kangonaut/data/aegis-athena/venv/lib/python3.11/site-packages/weaviate/warnings.py:121: DeprecationWarning: Dep005: You are using weaviate-client version 3.26.2. The latest version is 4.4.4.\n",
      "            Please consider upgrading to the latest version. See https://weaviate.io/developers/weaviate/client-libraries/python for details.\n",
      "  warnings.warn(\n"
     ]
    }
   ],
   "source": [
    "from agent import mars\n",
    "\n",
    "agent = mars.build_agent()"
   ],
   "metadata": {
    "collapsed": false,
    "ExecuteTime": {
     "end_time": "2024-02-27T12:06:28.635619303Z",
     "start_time": "2024-02-27T12:06:27.007122874Z"
    }
   },
   "id": "805a9fbaeec68ec3",
   "execution_count": 3
  },
  {
   "cell_type": "markdown",
   "source": [
    "## Query"
   ],
   "metadata": {
    "collapsed": false
   },
   "id": "8331124be3215ee1"
  },
  {
   "cell_type": "code",
   "outputs": [
    {
     "name": "stdout",
     "output_type": "stream",
     "text": [
      "\u001B[1;3;38;5;200mThought: (Implicit) I can answer without any more tools!\n",
      "Answer: The ARS system stands for Autonomous Repair System. It is a system on the Aegis Athena spaceflight mission that is responsible for automatically detecting and repairing any damages or malfunctions in the spacecraft. The ARS system uses advanced algorithms and robotic mechanisms to perform repairs without the need for human intervention. It plays a crucial role in ensuring the safety and functionality of the spacecraft during the mission.\n",
      "\u001B[0mThe ARS system stands for Autonomous Repair System. It is a system on the Aegis Athena spaceflight mission that is responsible for automatically detecting and repairing any damages or malfunctions in the spacecraft. The ARS system uses advanced algorithms and robotic mechanisms to perform repairs without the need for human intervention. It plays a crucial role in ensuring the safety and functionality of the spacecraft during the mission.\n"
     ]
    }
   ],
   "source": [
    "response = agent.chat(\n",
    "    message=\"what is the ARS system?\",\n",
    ")\n",
    "print(str(response))\n",
    "# print(answer.message.content)"
   ],
   "metadata": {
    "collapsed": false,
    "ExecuteTime": {
     "end_time": "2024-02-27T12:06:31.104638253Z",
     "start_time": "2024-02-27T12:06:28.636868221Z"
    }
   },
   "id": "dd3ae7fb2716ea29",
   "execution_count": 4
  },
  {
   "cell_type": "code",
   "outputs": [
    {
     "name": "stdout",
     "output_type": "stream",
     "text": [
      "user: what is the ARS system?\n",
      "assistant: The ARS system stands for Autonomous Repair System. It is a system on the Aegis Athena spaceflight mission that is responsible for automatically detecting and repairing any damages or malfunctions in the spacecraft. The ARS system uses advanced algorithms and robotic mechanisms to perform repairs without the need for human intervention. It plays a crucial role in ensuring the safety and functionality of the spacecraft during the mission.\n",
      "user: how are you\n",
      "user: what is the SPS system?\n"
     ]
    }
   ],
   "source": [
    "for message in agent.memory.chat_store.get_messages(\"chat_history\"):\n",
    "    print(message)"
   ],
   "metadata": {
    "collapsed": false,
    "ExecuteTime": {
     "end_time": "2024-02-27T12:07:03.003447625Z",
     "start_time": "2024-02-27T12:07:02.999542634Z"
    }
   },
   "id": "6b90f5208030780b",
   "execution_count": 9
  }
 ],
 "metadata": {
  "kernelspec": {
   "display_name": "Python 3",
   "language": "python",
   "name": "python3"
  },
  "language_info": {
   "codemirror_mode": {
    "name": "ipython",
    "version": 2
   },
   "file_extension": ".py",
   "mimetype": "text/x-python",
   "name": "python",
   "nbconvert_exporter": "python",
   "pygments_lexer": "ipython2",
   "version": "2.7.6"
  }
 },
 "nbformat": 4,
 "nbformat_minor": 5
}
