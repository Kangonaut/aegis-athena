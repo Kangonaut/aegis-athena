{
 "cells": [
  {
   "cell_type": "markdown",
   "source": [
    "## Enable Tracing"
   ],
   "metadata": {
    "collapsed": false
   },
   "id": "a4f2ace765a4efcf"
  },
  {
   "cell_type": "code",
   "outputs": [
    {
     "data": {
      "text/plain": "True"
     },
     "execution_count": 1,
     "metadata": {},
     "output_type": "execute_result"
    }
   ],
   "source": [
    "import dotenv\n",
    "\n",
    "dotenv.load_dotenv()"
   ],
   "metadata": {
    "collapsed": false,
    "ExecuteTime": {
     "end_time": "2024-02-25T16:11:56.895605122Z",
     "start_time": "2024-02-25T16:11:56.892296285Z"
    }
   },
   "id": "3e16d58fe03359c6",
   "execution_count": 1
  },
  {
   "cell_type": "code",
   "outputs": [],
   "source": [
    "import llama_index.core\n",
    "\n",
    "llama_index.core.set_global_handler(\"arize_phoenix\")"
   ],
   "metadata": {
    "collapsed": false,
    "ExecuteTime": {
     "end_time": "2024-02-25T16:12:00.948768405Z",
     "start_time": "2024-02-25T16:11:56.892609808Z"
    }
   },
   "id": "5ccbdfb9df14c9c5",
   "execution_count": 2
  },
  {
   "cell_type": "markdown",
   "source": [
    "## Load Agent"
   ],
   "metadata": {
    "collapsed": false
   },
   "id": "3da2ec08bcf642ef"
  },
  {
   "cell_type": "code",
   "outputs": [
    {
     "name": "stderr",
     "output_type": "stream",
     "text": [
      "2024-02-25 17:12:01.341 \n",
      "  \u001B[33m\u001B[1mWarning:\u001B[0m to view this Streamlit app on a browser, run it with the following\n",
      "  command:\n",
      "\n",
      "    streamlit run /home/kangonaut/data/aegis-athena/venv/lib/python3.11/site-packages/ipykernel_launcher.py [ARGUMENTS]\n",
      "/home/kangonaut/data/aegis-athena/venv/lib/python3.11/site-packages/weaviate/warnings.py:121: DeprecationWarning: Dep005: You are using weaviate-client version 3.26.2. The latest version is 4.4.4.\n",
      "            Please consider upgrading to the latest version. See https://weaviate.io/developers/weaviate/client-libraries/python for details.\n",
      "  warnings.warn(\n",
      "/home/kangonaut/data/aegis-athena/rag/mars.py:392: DeprecationWarning: Call to deprecated class method from_defaults. (ServiceContext is deprecated, please use `llama_index.settings.Settings` instead.) -- Deprecated since version 0.10.0.\n",
      "  service_context = ServiceContext.from_defaults(llm=llm)\n"
     ]
    }
   ],
   "source": [
    "from agent import mars\n",
    "\n",
    "agent = mars.build_agent()"
   ],
   "metadata": {
    "collapsed": false,
    "ExecuteTime": {
     "end_time": "2024-02-25T16:12:05.067524787Z",
     "start_time": "2024-02-25T16:12:00.950256249Z"
    }
   },
   "id": "805a9fbaeec68ec3",
   "execution_count": 3
  },
  {
   "cell_type": "markdown",
   "source": [
    "## Query"
   ],
   "metadata": {
    "collapsed": false
   },
   "id": "8331124be3215ee1"
  },
  {
   "cell_type": "code",
   "outputs": [
    {
     "name": "stdout",
     "output_type": "stream",
     "text": [
      "\u001B[1;3;38;5;200mThought: I need to find out which system is causing the alarms to go off in order to provide Bob with the correct guidance on how to address the issue.\n",
      "Action: knowledge_base\n",
      "Action Input: {'input': 'What should an astronaut do when alarms go off in the S.P.A.C.E.C.R.A.F.T. module?'}\n",
      "\u001B[0m\u001B[1;3;34mObservation: When alarms go off in the S.P.A.C.E.C.R.A.F.T. module, the astronaut should respond by investigating the issue, identifying the cause of the alarm, and taking appropriate actions to address and resolve the problem to ensure the safety and functionality of the spacecraft. This is crucial for maintaining communication with Earth and conducting off-lunar experiments effectively. Additionally, they should pay attention to systems like the ARS Controller and Heat Transport System, which play a vital role in maintaining a comfortable and safe environment within the spacecraft.\n",
      "\u001B[0m\u001B[1;3;38;5;200mThought: I can provide Bob with a step-by-step guide on what to do based on the information provided.\n",
      "Answer: Alright, Bob, let's tackle this like we're diffusing a very loud, very annoying bomb. First, we're going to play detective and figure out what's causing the ruckus. Look at the console and see if you can spot any alerts or unusual readings. It's like finding a needle in a haystack, but the needle is screaming at you.\n",
      "\n",
      "Next, once we've pinpointed the troublemaker, whether it's the ARS Controller acting up or the Heat Transport System throwing a tantrum, we'll swoop in with our superhero capes and fix it. If it's something you can fix from the console, great! If not, we might have to do some hands-on troubleshooting.\n",
      "\n",
      "Remember, it's all about keeping cool under pressure, like a cucumber in space. If you need specific commands or more help on tackling the issue, just let me know!\n",
      "\u001B[0mAlright, Bob, let's tackle this like we're diffusing a very loud, very annoying bomb. First, we're going to play detective and figure out what's causing the ruckus. Look at the console and see if you can spot any alerts or unusual readings. It's like finding a needle in a haystack, but the needle is screaming at you.\n",
      "\n",
      "Next, once we've pinpointed the troublemaker, whether it's the ARS Controller acting up or the Heat Transport System throwing a tantrum, we'll swoop in with our superhero capes and fix it. If it's something you can fix from the console, great! If not, we might have to do some hands-on troubleshooting.\n",
      "\n",
      "Remember, it's all about keeping cool under pressure, like a cucumber in space. If you need specific commands or more help on tackling the issue, just let me know!\n"
     ]
    }
   ],
   "source": [
    "response = agent.chat(\n",
    "    message=\"alarms are going off, what do I do?\",\n",
    ")\n",
    "print(str(response))\n",
    "# print(answer.message.content)"
   ],
   "metadata": {
    "collapsed": false,
    "ExecuteTime": {
     "end_time": "2024-02-25T16:12:27.671186198Z",
     "start_time": "2024-02-25T16:12:05.067709791Z"
    }
   },
   "id": "dd3ae7fb2716ea29",
   "execution_count": 4
  }
 ],
 "metadata": {
  "kernelspec": {
   "display_name": "Python 3",
   "language": "python",
   "name": "python3"
  },
  "language_info": {
   "codemirror_mode": {
    "name": "ipython",
    "version": 2
   },
   "file_extension": ".py",
   "mimetype": "text/x-python",
   "name": "python",
   "nbconvert_exporter": "python",
   "pygments_lexer": "ipython2",
   "version": "2.7.6"
  }
 },
 "nbformat": 4,
 "nbformat_minor": 5
}
