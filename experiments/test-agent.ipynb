{
 "cells": [
  {
   "cell_type": "markdown",
   "source": [
    "## Enable Tracing"
   ],
   "metadata": {
    "collapsed": false
   },
   "id": "a4f2ace765a4efcf"
  },
  {
   "cell_type": "code",
   "outputs": [
    {
     "data": {
      "text/plain": "True"
     },
     "execution_count": 1,
     "metadata": {},
     "output_type": "execute_result"
    }
   ],
   "source": [
    "import dotenv\n",
    "\n",
    "dotenv.load_dotenv()"
   ],
   "metadata": {
    "collapsed": false,
    "ExecuteTime": {
     "end_time": "2024-02-18T19:20:21.297733766Z",
     "start_time": "2024-02-18T19:20:21.234391956Z"
    }
   },
   "id": "3e16d58fe03359c6",
   "execution_count": 1
  },
  {
   "cell_type": "code",
   "outputs": [],
   "source": [
    "import llama_index.core\n",
    "\n",
    "llama_index.core.set_global_handler(\"arize_phoenix\")"
   ],
   "metadata": {
    "collapsed": false,
    "ExecuteTime": {
     "end_time": "2024-02-18T19:20:26.439894504Z",
     "start_time": "2024-02-18T19:20:21.286696403Z"
    }
   },
   "id": "5ccbdfb9df14c9c5",
   "execution_count": 2
  },
  {
   "cell_type": "markdown",
   "source": [
    "## Load Agent"
   ],
   "metadata": {
    "collapsed": false
   },
   "id": "3da2ec08bcf642ef"
  },
  {
   "cell_type": "code",
   "outputs": [
    {
     "name": "stderr",
     "output_type": "stream",
     "text": [
      "2024-02-18 20:20:26.943 \n",
      "  \u001B[33m\u001B[1mWarning:\u001B[0m to view this Streamlit app on a browser, run it with the following\n",
      "  command:\n",
      "\n",
      "    streamlit run /home/kangonaut/data/aegis-athena/venv/lib/python3.11/site-packages/ipykernel_launcher.py [ARGUMENTS]\n",
      "/home/kangonaut/data/aegis-athena/venv/lib/python3.11/site-packages/weaviate/warnings.py:121: DeprecationWarning: Dep005: You are using weaviate-client version 3.26.2. The latest version is 4.4.4.\n",
      "            Please consider upgrading to the latest version. See https://weaviate.io/developers/weaviate/client-libraries/python for details.\n",
      "  warnings.warn(\n"
     ]
    }
   ],
   "source": [
    "from agent import mars\n",
    "\n",
    "qp = mars.get_v1_0()"
   ],
   "metadata": {
    "collapsed": false,
    "ExecuteTime": {
     "end_time": "2024-02-18T19:20:31.088517685Z",
     "start_time": "2024-02-18T19:20:26.440572788Z"
    }
   },
   "id": "805a9fbaeec68ec3",
   "execution_count": 3
  },
  {
   "cell_type": "markdown",
   "source": [
    "## Query"
   ],
   "metadata": {
    "collapsed": false
   },
   "id": "8331124be3215ee1"
  },
  {
   "cell_type": "code",
   "outputs": [
    {
     "name": "stdout",
     "output_type": "stream",
     "text": [
      "The main goal of Aegis Athena is to achieve human presence on the lunar surface by successfully landing on the moon and establishing a reliable communication link between the astronauts on the moon and mission control on Earth. Additionally, ensuring the safe return of the crew is a secondary objective of the mission. In the event of partial mission success, doppelgängers have been enlisted as a contingency plan.\n"
     ]
    }
   ],
   "source": [
    "from llama_index.core.base.llms.types import ChatResponse\n",
    "\n",
    "question: str = \"What is the main goal of Aegis Athena?\"\n",
    "answer = qp.run(\n",
    "    input=question,\n",
    ")\n",
    "print(answer)\n",
    "# print(answer.message.content)"
   ],
   "metadata": {
    "collapsed": false,
    "ExecuteTime": {
     "end_time": "2024-02-18T19:20:42.013798364Z",
     "start_time": "2024-02-18T19:20:31.090820400Z"
    }
   },
   "id": "dd3ae7fb2716ea29",
   "execution_count": 4
  }
 ],
 "metadata": {
  "kernelspec": {
   "display_name": "Python 3",
   "language": "python",
   "name": "python3"
  },
  "language_info": {
   "codemirror_mode": {
    "name": "ipython",
    "version": 2
   },
   "file_extension": ".py",
   "mimetype": "text/x-python",
   "name": "python",
   "nbconvert_exporter": "python",
   "pygments_lexer": "ipython2",
   "version": "2.7.6"
  }
 },
 "nbformat": 4,
 "nbformat_minor": 5
}
