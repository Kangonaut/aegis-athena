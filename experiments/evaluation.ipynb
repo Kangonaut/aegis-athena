{
 "cells": [
  {
   "cell_type": "code",
   "outputs": [
    {
     "data": {
      "text/plain": "True"
     },
     "execution_count": 1,
     "metadata": {},
     "output_type": "execute_result"
    }
   ],
   "source": [
    "import dotenv\n",
    "\n",
    "dotenv.load_dotenv()"
   ],
   "metadata": {
    "collapsed": false,
    "ExecuteTime": {
     "end_time": "2024-02-17T20:15:25.903244936Z",
     "start_time": "2024-02-17T20:15:25.902318342Z"
    }
   },
   "id": "initial_id",
   "execution_count": 1
  },
  {
   "cell_type": "code",
   "outputs": [
    {
     "name": "stdout",
     "output_type": "stream",
     "text": [
      "🦑 Tru initialized with db url sqlite:///default.sqlite .\n",
      "🛑 Secret keys may be written to the database. See the `database_redact_keys` option of `Tru` to prevent this.\n"
     ]
    }
   ],
   "source": [
    "from trulens_eval import Tru\n",
    "\n",
    "tru = Tru()"
   ],
   "metadata": {
    "collapsed": false,
    "ExecuteTime": {
     "end_time": "2024-02-17T20:15:29.290139099Z",
     "start_time": "2024-02-17T20:15:26.587172014Z"
    }
   },
   "id": "b196280853529442",
   "execution_count": 2
  },
  {
   "cell_type": "code",
   "outputs": [
    {
     "name": "stderr",
     "output_type": "stream",
     "text": [
      "2024-02-17 21:15:29.887 \n",
      "  \u001B[33m\u001B[1mWarning:\u001B[0m to view this Streamlit app on a browser, run it with the following\n",
      "  command:\n",
      "\n",
      "    streamlit run /home/kangonaut/data/aegis-athena/venv/lib/python3.11/site-packages/ipykernel_launcher.py [ARGUMENTS]\n",
      "/home/kangonaut/data/aegis-athena/venv/lib/python3.11/site-packages/weaviate/warnings.py:158: DeprecationWarning: Dep016: You are using the Weaviate v3 client, which is deprecated.\n",
      "            Consider upgrading to the new and improved v4 client instead!\n",
      "            See here for usage: https://weaviate.io/developers/weaviate/client-libraries/python\n",
      "            \n",
      "  warnings.warn(\n",
      "/home/kangonaut/data/aegis-athena/venv/lib/python3.11/site-packages/weaviate/__init__.py:128: DeprecationWarning: Dep010: Importing AuthApiKey from weaviate is deprecated. Please import it from its specific module: weaviate.auth\n",
      "  _Warnings.root_module_import(name, map_[name])\n"
     ]
    }
   ],
   "source": [
    "from rag import mars\n",
    "\n",
    "query_engine = mars.get_v5_2()"
   ],
   "metadata": {
    "collapsed": false,
    "ExecuteTime": {
     "end_time": "2024-02-17T20:15:33.053832942Z",
     "start_time": "2024-02-17T20:15:29.291102539Z"
    }
   },
   "id": "31d5bb4d4dcc9d9e",
   "execution_count": 3
  },
  {
   "cell_type": "code",
   "outputs": [
    {
     "name": "stdout",
     "output_type": "stream",
     "text": [
      "The main objective of the Aegis Athena mission is to achieve human presence on the lunar surface and establish our celestial superiority in the face of the Guild.\n"
     ]
    }
   ],
   "source": [
    "response = query_engine.query(\"what is the main objective of the Aegis Athena mission?\")\n",
    "print(str(response))"
   ],
   "metadata": {
    "collapsed": false,
    "ExecuteTime": {
     "end_time": "2024-02-17T20:15:41.150787676Z",
     "start_time": "2024-02-17T20:15:33.055249334Z"
    }
   },
   "id": "92e7fff25aebf5fe",
   "execution_count": 4
  },
  {
   "cell_type": "code",
   "outputs": [],
   "source": [
    "from rag import eval_utils\n",
    "\n",
    "eval_gen = eval_utils.get_eval_dataset_gen(\"../rag/eval/simple-eval-questions.txt\")"
   ],
   "metadata": {
    "collapsed": false,
    "ExecuteTime": {
     "end_time": "2024-02-17T20:15:52.803853665Z",
     "start_time": "2024-02-17T20:15:52.797099273Z"
    }
   },
   "id": "f04c5b0a414821eb",
   "execution_count": 6
  },
  {
   "cell_type": "code",
   "outputs": [
    {
     "name": "stdout",
     "output_type": "stream",
     "text": [
      "✅ In Groundedness, input source will be set to __record__.app.query.rets.source_nodes[:].node.text.collect() .\n",
      "✅ In Groundedness, input statement will be set to __record__.main_output or `Select.RecordOutput` .\n",
      "✅ In Answer Relevance, input prompt will be set to __record__.main_input or `Select.RecordInput` .\n",
      "✅ In Answer Relevance, input response will be set to __record__.main_output or `Select.RecordOutput` .\n",
      "✅ In Context Relevance, input question will be set to __record__.main_input or `Select.RecordInput` .\n",
      "✅ In Context Relevance, input statement will be set to __record__.app.query.rets.source_nodes[:].node.text .\n"
     ]
    },
    {
     "name": "stderr",
     "output_type": "stream",
     "text": [
      "/home/kangonaut/data/aegis-athena/venv/lib/python3.11/site-packages/pydantic/v1/main.py:304: PydanticDeprecatedSince20: The `__fields__` attribute is deprecated, use `model_fields` instead. Deprecated in Pydantic V2.0 to be removed in V3.0. See Pydantic V2 Migration Guide at https://errors.pydantic.dev/2.5/migration/\n",
      "  return hasattr(instance, '__fields__') and super().__instancecheck__(instance)\n",
      "/home/kangonaut/data/aegis-athena/venv/lib/python3.11/site-packages/pydantic/main.py:952: PydanticDeprecatedSince20: The `__fields__` attribute is deprecated, use `model_fields` instead. Deprecated in Pydantic V2.0 to be removed in V3.0. See Pydantic V2 Migration Guide at https://errors.pydantic.dev/2.5/migration/\n",
      "  warnings.warn('The `__fields__` attribute is deprecated, use `model_fields` instead.', DeprecationWarning)\n"
     ]
    }
   ],
   "source": [
    "eval_app = eval_utils.get_triad_of_metrics_eval_app(\n",
    "    app_id=\"MARS-v5.2\",\n",
    "    query_engine=query_engine,\n",
    ")"
   ],
   "metadata": {
    "collapsed": false,
    "ExecuteTime": {
     "end_time": "2024-02-17T20:15:54.349153330Z",
     "start_time": "2024-02-17T20:15:54.123468096Z"
    }
   },
   "id": "b685157f2a1ede7a",
   "execution_count": 7
  },
  {
   "cell_type": "code",
   "outputs": [],
   "source": [
    "# database = tru.reset_database()"
   ],
   "metadata": {
    "collapsed": false,
    "ExecuteTime": {
     "end_time": "2024-02-12T13:49:50.367890779Z",
     "start_time": "2024-02-12T13:49:50.363623344Z"
    }
   },
   "id": "8288c34eb129d71c",
   "execution_count": 13
  },
  {
   "cell_type": "code",
   "outputs": [
    {
     "name": "stderr",
     "output_type": "stream",
     "text": [
      "/usr/lib/python3.11/asyncio/base_events.py:692: ResourceWarning: unclosed event loop <_UnixSelectorEventLoop running=False closed=False debug=False>\n",
      "  _warn(f\"unclosed event loop {self!r}\", ResourceWarning, source=self)\n",
      "ResourceWarning: Enable tracemalloc to get the object allocation traceback\n"
     ]
    },
    {
     "name": "stdout",
     "output_type": "stream",
     "text": [
      "finished question #1\n",
      "finished question #2\n",
      "finished question #3\n",
      "finished question #4\n",
      "finished question #5\n",
      "finished question #6\n",
      "finished question #7\n",
      "finished question #8\n",
      "finished question #9\n",
      "finished question #10\n",
      "finished question #11\n",
      "finished question #12\n",
      "finished question #13\n",
      "finished question #14\n",
      "finished question #15\n",
      "finished question #16\n",
      "finished question #17\n",
      "finished question #18\n",
      "finished question #19\n",
      "finished question #20\n"
     ]
    }
   ],
   "source": [
    "eval_utils.run_eval(query_engine, eval_app, eval_gen)"
   ],
   "metadata": {
    "collapsed": false,
    "ExecuteTime": {
     "end_time": "2024-02-17T20:20:14.741623739Z",
     "start_time": "2024-02-17T20:15:56.506210403Z"
    }
   },
   "id": "6033a44ec625eefb",
   "execution_count": 8
  },
  {
   "cell_type": "code",
   "outputs": [
    {
     "name": "stdout",
     "output_type": "stream",
     "text": [
      "Starting dashboard ...\n",
      "Config file already exists. Skipping writing process.\n",
      "Credentials file already exists. Skipping writing process.\n",
      "Dashboard already running at path:   Network URL: http://192.168.178.44:8501\n"
     ]
    },
    {
     "data": {
      "text/plain": "<Popen: returncode: None args: ['streamlit', 'run', '--server.headless=True'...>"
     },
     "execution_count": 10,
     "metadata": {},
     "output_type": "execute_result"
    }
   ],
   "source": [
    "tru.run_dashboard()"
   ],
   "metadata": {
    "collapsed": false,
    "ExecuteTime": {
     "end_time": "2024-02-17T20:20:16.432491009Z",
     "start_time": "2024-02-17T20:20:16.426978683Z"
    }
   },
   "id": "15e7bf672587dd4c",
   "execution_count": 10
  },
  {
   "cell_type": "code",
   "outputs": [],
   "source": [
    "tru.stop_dashboard()"
   ],
   "metadata": {
    "collapsed": false
   },
   "id": "7ccd4ce4171e8245"
  }
 ],
 "metadata": {
  "kernelspec": {
   "display_name": "Python 3",
   "language": "python",
   "name": "python3"
  },
  "language_info": {
   "codemirror_mode": {
    "name": "ipython",
    "version": 2
   },
   "file_extension": ".py",
   "mimetype": "text/x-python",
   "name": "python",
   "nbconvert_exporter": "python",
   "pygments_lexer": "ipython2",
   "version": "2.7.6"
  }
 },
 "nbformat": 4,
 "nbformat_minor": 5
}
